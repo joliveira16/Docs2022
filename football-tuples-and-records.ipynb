
        {
            "cells": [
          {
           "cell_type": "markdown",
           "metadata": {},
           
           "source": ["[![Binder](img/badge-binder.svg)](https://mybinder.org/v2/gh/nhirschey/teaching/gh-pages?filepath=football-tuples-and-records.ipynb)\u0026emsp;\n",
"[![Script](img/badge-script.svg)](/Teaching//football-tuples-and-records.fsx)\u0026emsp;\n",
"[![Notebook](img/badge-notebook.svg)](/Teaching//football-tuples-and-records.ipynb)\n",
"\n",
"# Working with Tuples and Records.\n",
"\n",
"\u003e Developed with [Davide Costa](https://github.com/DavideGCosta)\n",
"\u003e \n",
"\n",
"This set of exercises covers creating and manipulating tuples, records, and anonymous records.\n",
"Before you start it is a good idea to review the relevant sections of\n",
"the F# language reference (\n",
"[tuples](https://docs.microsoft.com/en-us/dotnet/fsharp/language-reference/tuples),\n",
"[records](https://docs.microsoft.com/en-us/dotnet/fsharp/language-reference/records),\n",
"and [anonymous records](https://docs.microsoft.com/en-us/dotnet/fsharp/language-reference/anonymous-records)\n",
") and\n",
"F# for fun and profit (\n",
"[tuples](https://fsharpforfunandprofit.com/posts/tuples/) and\n",
"[records](https://fsharpforfunandprofit.com/posts/records/))\n",
"before you start.\n",
"\n",
"## Import the Football Players Data from the Csv File\n",
"\n"]
          }
,
          {
           "cell_type": "code",
           "metadata": {},
            "execution_count": 4, "outputs": [],
           "source": ["#r \"nuget:FSharp.Data\"\n",
"open FSharp.Data\n"]
          }
,
          {
           "cell_type": "markdown",
           "metadata": {},
           
           "source": ["In order to import the data correctly we need to create the sample, define the type from the sample and then load the csv file.\n",
"We\u0027ll use [FSharp.Data CsvProvider](https://fsprojects.github.io/FSharp.Data/library/CsvProvider.html).\n",
"\n",
"### Load the Csv file.\n",
"\n",
"We define the type from the csv sample file.\n",
"\n"]
          }
,
          {
           "cell_type": "code",
           "metadata": {},
            "execution_count": 5, "outputs": [],
           "source": ["let [\u003cLiteral\u003e] CsvPath = __SOURCE_DIRECTORY__ + \"/FootballPlayers.csv\"\n",
"type FootballPlayersCsv = CsvProvider\u003cCsvPath\u003e\n"]
          }
,
          {
           "cell_type": "markdown",
           "metadata": {},
           
           "source": ["This will load the sample csv file.\n",
"\n"]
          }
,
          {
           "cell_type": "code",
           "metadata": {},
            "execution_count": 6, "outputs": [],
           "source": ["let playerStatsTable = \n",
"    FootballPlayersCsv.GetSample().Rows\n",
"    |\u003e Seq.toList\n"]
          }
,
          {
           "cell_type": "markdown",
           "metadata": {},
           
           "source": ["Let\u0027s see the first 5 rows from the loaded Csv data, stored in `playerStatsTable`.\n",
"Again, we do this by using the List `List.truncate` property.\n",
"\n"]
          }
,
          {
           "cell_type": "code",
           "metadata": {},
            "execution_count": 7, "outputs": [
          {
           "data": {
            "text/plain": ["input.fsx (1,1)-(1,17) typecheck error The value or constructor \u0027playerStatsTable\u0027 is not defined. Maybe you want one of the following:",
"",
"   playersByPosition"]
        },
           "execution_count": 7,
           "metadata": {},
           "output_type": "execute_result"
          }],
           "source": ["playerStatsTable\n",
"|\u003e List.truncate 5\n"]
          }
,
          {
           "cell_type": "markdown",
           "metadata": {},
           
           "source": ["## EXERCISES - PART 1\n",
"\n",
"* [Transforming collection elements into new types.](#Transforming-collections)\n",
"  \n",
"\n",
"  0 [Creating tuples.](#Creating-tuples)\n",
"    \n",
"  \n",
"  1 [Creating records.](#Creating-records)\n",
"    \n",
"  \n",
"  2 [Creating anonymous records.](#Creating-anonymous-records)\n",
"    \n",
"  \n",
"\n",
"* [Simple data transformations.](#Simple-transformations)\n",
"  \n",
"\n",
"  0 [Transformations using tuples.](#Transformations-using-tuples)\n",
"    \n",
"  \n",
"  1 [Transformations using records.](#Transformations-using-records)\n",
"    \n",
"  \n",
"  2 [Transformations using anonymous records.](#Transformations-using-anonymous-records)\n",
"    \n",
"  \n",
"\n",
"* [Creating and transforming TeamRecord.](#Creating-and-transforming-TeamRecord)\n",
"  \n",
"\n",
"\u003ch2 class=numbered\u003e\u003ca name=Transforming-collections class=anchor href=#Transforming-collections\u003eTransforming collections\u003c/a\u003e\u003c/h2\u003e\n",
"\n",
"\u003ch3 class=numbered\u003e\u003ca name=Creating-tuples class=anchor href=#Creating-tuples\u003eCreating tuples\u003c/a\u003e\u003c/h3\u003e\n",
"\n",
"Example: Transform each element of the `playerStatsTable` List into a tuple with the player and nation ( `Player`, `Nation`)\n",
"\n"]
          }
,
          {
           "cell_type": "code",
           "metadata": {},
            "execution_count": 10, "outputs": [
          {
           "data": {
            "text/plain": ["input.fsx (1,1)-(1,17) typecheck error The value or constructor \u0027playerStatsTable\u0027 is not defined. Maybe you want one of the following:",
"",
"   playersByPosition"]
        },
           "execution_count": 10,
           "metadata": {},
           "output_type": "execute_result"
          }],
           "source": ["playerStatsTable\n",
"|\u003e List.map(fun x -\u003e x.Player, x.Nation)\n",
"|\u003e List.truncate 5 //just to observe the first 5 rows, not a part of the exercise.\n"]
          }
,
          {
           "cell_type": "markdown",
           "metadata": {},
           
           "source": ["* Transform each element of the `playerStatsTable` List into a tuple with the player and team ( `Player`, `Team`)\n",
"\n",
"\u003cdiv style=\"padding-left: 40px;\"\u003e\n",
"\u003cp\u003e \n",
"\u003cspan\u003e\n",
"\u003cdetails\u003e\n",
"\u003csummary\u003e\u003cp style=\"display:inline\"\u003eanswer\u003c/p\u003e\u003c/summary\u003e\n",
"\n",
"```\n",
"input.fsx (1,1)-(1,17) typecheck error The value or constructor \u0027playerStatsTable\u0027 is not defined. Maybe you want one of the following:\n",
"   playersByPosition\n",
"input.fsx (2,34)-(2,38) typecheck error The type \u0027PlayerAndNation\u0027 does not define the field, constructor or member \u0027Team\u0027.\n",
"```\n",
"\n",
"\u003c/details\u003e\n",
"\u003c/span\u003e\n",
"\u003c/p\u003e\n",
"\u003c/div\u003e\n",
"\n"]
          }
,
          {
           "cell_type": "code",
           "metadata": {},
            "execution_count": null, "outputs": [],
           "source": ["// write your code here, see website for solution.\n"]
          }
,
          {
           "cell_type": "markdown",
           "metadata": {},
           
           "source": ["* Transform each element of the `playerStatsTable` List into a tuple with the player and league/competiton ( `Player`, `League`)\n",
"\n",
"\u003cdiv style=\"padding-left: 40px;\"\u003e\n",
"\u003cp\u003e \n",
"\u003cspan\u003e\n",
"\u003cdetails\u003e\n",
"\u003csummary\u003e\u003cp style=\"display:inline\"\u003eanswer\u003c/p\u003e\u003c/summary\u003e\n",
"\n",
"```\n",
"input.fsx (1,1)-(1,17) typecheck error The value or constructor \u0027playerStatsTable\u0027 is not defined. Maybe you want one of the following:\n",
"   playersByPosition\n",
"input.fsx (2,34)-(2,40) typecheck error The type \u0027PlayerAndNation\u0027 does not define the field, constructor or member \u0027League\u0027.\n",
"```\n",
"\n",
"\u003c/details\u003e\n",
"\u003c/span\u003e\n",
"\u003c/p\u003e\n",
"\u003c/div\u003e\n",
"\n"]
          }
,
          {
           "cell_type": "code",
           "metadata": {},
            "execution_count": null, "outputs": [],
           "source": ["// write your code here, see website for solution.\n"]
          }
,
          {
           "cell_type": "markdown",
           "metadata": {},
           
           "source": ["* Transform each element of the `playerStatsTable` List into a tuple with the player and age ( `Player`, `Age`)\n",
"\n",
"\u003cdiv style=\"padding-left: 40px;\"\u003e\n",
"\u003cp\u003e \n",
"\u003cspan\u003e\n",
"\u003cdetails\u003e\n",
"\u003csummary\u003e\u003cp style=\"display:inline\"\u003eanswer\u003c/p\u003e\u003c/summary\u003e\n",
"\n",
"```\n",
"input.fsx (1,1)-(1,17) typecheck error The value or constructor \u0027playerStatsTable\u0027 is not defined. Maybe you want one of the following:\n",
"   playersByPosition\n",
"input.fsx (2,34)-(2,37) typecheck error The type \u0027PlayerAndNation\u0027 does not define the field, constructor or member \u0027Age\u0027.\n",
"```\n",
"\n",
"\u003c/details\u003e\n",
"\u003c/span\u003e\n",
"\u003c/p\u003e\n",
"\u003c/div\u003e\n",
"\n"]
          }
,
          {
           "cell_type": "code",
           "metadata": {},
            "execution_count": null, "outputs": [],
           "source": ["// write your code here, see website for solution.\n"]
          }
,
          {
           "cell_type": "markdown",
           "metadata": {},
           
           "source": ["* Transform each element of the `playerStatsTable` List into a tuple with the player and matches played ( `Player`, `MatchesPlayed`)\n",
"\n",
"\u003cdiv style=\"padding-left: 40px;\"\u003e\n",
"\u003cp\u003e \n",
"\u003cspan\u003e\n",
"\u003cdetails\u003e\n",
"\u003csummary\u003e\u003cp style=\"display:inline\"\u003eanswer\u003c/p\u003e\u003c/summary\u003e\n",
"\n",
"```\n",
"input.fsx (1,1)-(1,17) typecheck error The value or constructor \u0027playerStatsTable\u0027 is not defined. Maybe you want one of the following:\n",
"   playersByPosition\n",
"input.fsx (2,34)-(2,47) typecheck error The type \u0027PlayerAndNation\u0027 does not define the field, constructor or member \u0027MatchesPlayed\u0027.\n",
"```\n",
"\n",
"\u003c/details\u003e\n",
"\u003c/span\u003e\n",
"\u003c/p\u003e\n",
"\u003c/div\u003e\n",
"\n"]
          }
,
          {
           "cell_type": "code",
           "metadata": {},
            "execution_count": null, "outputs": [],
           "source": ["// write your code here, see website for solution.\n"]
          }
,
          {
           "cell_type": "markdown",
           "metadata": {},
           
           "source": ["* Transform each element of the `playerStatsTable` List into a tuple with the player and goals scored ( `Player`, `GoalsScored`)\n",
"\n",
"\u003cdiv style=\"padding-left: 40px;\"\u003e\n",
"\u003cp\u003e \n",
"\u003cspan\u003e\n",
"\u003cdetails\u003e\n",
"\u003csummary\u003e\u003cp style=\"display:inline\"\u003eanswer\u003c/p\u003e\u003c/summary\u003e\n",
"\n",
"```\n",
"input.fsx (1,1)-(1,17) typecheck error The value or constructor \u0027playerStatsTable\u0027 is not defined. Maybe you want one of the following:\n",
"   playersByPosition\n",
"input.fsx (2,34)-(2,45) typecheck error The type \u0027PlayerAndNation\u0027 does not define the field, constructor or member \u0027GoalsScored\u0027.\n",
"```\n",
"\n",
"\u003c/details\u003e\n",
"\u003c/span\u003e\n",
"\u003c/p\u003e\n",
"\u003c/div\u003e\n",
"\n"]
          }
,
          {
           "cell_type": "code",
           "metadata": {},
            "execution_count": null, "outputs": [
          {
           "data": {
            "text/html": ["\u003ch3 class=numbered\u003e\u003ca name=Creating-records class=anchor href=#Creating-records\u003eCreating records\u003c/a\u003e\u003c/h3\u003e"]
        },
           "execution_count": null,
           "metadata": {},
           "output_type": "execute_result"
          }],
           "source": ["// write your code here, see website for solution.\n"]
          }
,
          {
           "cell_type": "markdown",
           "metadata": {},
           
           "source": ["Example: Define a record named `PlayerAndNation` with a field named `Player` that is a `string` and `Nation` that is a `string`.\n",
"Then transform each element of the `playerStatsTable` List into a `PlayerAndNation` record.\n",
"\n"]
          }
,
          {
           "cell_type": "code",
           "metadata": {},
            "execution_count": 17, "outputs": [],
           "source": ["type PlayerAndNation =\n",
"    { Player : string \n",
"      Nation : string }\n"]
          }
,
          {
           "cell_type": "markdown",
           "metadata": {},
           
           "source": ["The above code creates a record type called `PlayerAndNation`.\n",
"This record contains two fields: `Player` of `string` type and `Nation` of `string` type.\n",
"Remember, if the types from the csv file are different an error will occur when creating an instance of the record.\n",
"\n",
"Common types:\n",
"\n",
"* `string`, example: `\"hello world\"`\n",
"\n",
"* `int`, example: `2`\n",
"\n",
"* `float`, example: `2.0`\n",
"\n",
"* `decimal`, example: `2.0m`\n",
"\n",
"Check [basic types documentation](https://docs.microsoft.com/en-us/dotnet/fsharp/language-reference/basic-types)\n",
"to learn about F# basic types.\n",
"\n",
"Now by having the record type created we can `map` the `playerStatsTable` rows to the record `PlayerAndNation`.\n",
"\n"]
          }
,
          {
           "cell_type": "code",
           "metadata": {},
            "execution_count": 18, "outputs": [
          {
           "data": {
            "text/plain": ["input.fsx (1,1)-(1,17) typecheck error The value or constructor \u0027playerStatsTable\u0027 is not defined. Maybe you want one of the following:",
"",
"   playersByPosition"]
        },
           "execution_count": 18,
           "metadata": {},
           "output_type": "execute_result"
          }],
           "source": ["playerStatsTable\n",
"|\u003e List.map(fun x -\u003e \n",
"    { Player = x.Player\n",
"      Nation = x.Nation })\n",
"|\u003e List.truncate 5 //just to observe the first 5 rows, not a part of the exercise.\n"]
          }
,
          {
           "cell_type": "markdown",
           "metadata": {},
           
           "source": ["Note that you choose the name of the fields in the record. Instead of `Player` it could be anything.\n",
"The following code block for example would have also worked,\n",
"but the field name for the player is `PlayerName` instead of `Player` and `Nationality` instead of `Nation`:\n",
"\n"]
          }
,
          {
           "cell_type": "code",
           "metadata": {},
            "execution_count": 19, "outputs": [],
           "source": ["type PlayerAndNation2 =\n",
"    { PlayerName : string \n",
"      Nationality : string }\n",
"\n",
"playerStatsTable\n",
"|\u003e List.map(fun x -\u003e \n",
"    { PlayerName = x.Player\n",
"      Nationality = x.Nation })\n"]
          }
,
          {
           "cell_type": "markdown",
           "metadata": {},
           
           "source": ["* Define a record named `PlayerAndTeam` with a field named `Player` that is a `string` and `Team` that is a `string`. \n",
"Then transform each element of the `playerStatsTable` List into a `PlayerAndTeam` record.\n",
"\n",
"\u003cdiv style=\"padding-left: 40px;\"\u003e\n",
"\u003cp\u003e \n",
"\u003cspan\u003e\n",
"\u003cdetails\u003e\n",
"\u003csummary\u003e\u003cp style=\"display:inline\"\u003eanswer\u003c/p\u003e\u003c/summary\u003e\n",
"\n",
"```\n",
"input.fsx (5,1)-(5,17) typecheck error The value or constructor \u0027playerStatsTable\u0027 is not defined. Maybe you want one of the following:\n",
"   PlayerAndTeam\n",
"   playersByPosition\n",
"```\n",
"\n",
"\u003c/details\u003e\n",
"\u003c/span\u003e\n",
"\u003c/p\u003e\n",
"\u003c/div\u003e\n",
"\n"]
          }
,
          {
           "cell_type": "code",
           "metadata": {},
            "execution_count": null, "outputs": [],
           "source": ["// write your code here, see website for solution.\n"]
          }
,
          {
           "cell_type": "markdown",
           "metadata": {},
           
           "source": ["* Define a record named `PlayerAndLeague` with a field named `Player` that is a `string` and `League` that is a `string`. \n",
"Then transform each element of the `playerStatsTable` List into a `PlayerAndLeague` record.\n",
"\n",
"\u003cdiv style=\"padding-left: 40px;\"\u003e\n",
"\u003cp\u003e \n",
"\u003cspan\u003e\n",
"\u003cdetails\u003e\n",
"\u003csummary\u003e\u003cp style=\"display:inline\"\u003eanswer\u003c/p\u003e\u003c/summary\u003e\n",
"\n",
"```\n",
"input.fsx (5,1)-(5,17) typecheck error The value or constructor \u0027playerStatsTable\u0027 is not defined. Maybe you want one of the following:\n",
"   playersByPosition\n",
"```\n",
"\n",
"\u003c/details\u003e\n",
"\u003c/span\u003e\n",
"\u003c/p\u003e\n",
"\u003c/div\u003e\n",
"\n"]
          }
,
          {
           "cell_type": "code",
           "metadata": {},
            "execution_count": null, "outputs": [],
           "source": ["// write your code here, see website for solution.\n"]
          }
,
          {
           "cell_type": "markdown",
           "metadata": {},
           
           "source": ["* Define a record named `PlayerAndAge` with a field named `Player` that is a `string` and `Age` that is a integer(`int`). \n",
"Then transform each element of the `playerStatsTable` List into a `PlayerAndAge` record.\n",
"\n",
"\u003cdiv style=\"padding-left: 40px;\"\u003e\n",
"\u003cp\u003e \n",
"\u003cspan\u003e\n",
"\u003cdetails\u003e\n",
"\u003csummary\u003e\u003cp style=\"display:inline\"\u003eanswer\u003c/p\u003e\u003c/summary\u003e\n",
"\n",
"```\n",
"input.fsx (5,1)-(5,17) typecheck error The value or constructor \u0027playerStatsTable\u0027 is not defined. Maybe you want one of the following:\n",
"   PlayerAndAge\n",
"   playersByPosition\n",
"```\n",
"\n",
"\u003c/details\u003e\n",
"\u003c/span\u003e\n",
"\u003c/p\u003e\n",
"\u003c/div\u003e\n",
"\n"]
          }
,
          {
           "cell_type": "code",
           "metadata": {},
            "execution_count": null, "outputs": [],
           "source": ["// write your code here, see website for solution.\n"]
          }
,
          {
           "cell_type": "markdown",
           "metadata": {},
           
           "source": ["* Define a record named `PlayerAndMatchesPlayed` with a field named `Player` that is a `string` and `MatchesPlayed` that is a integer(`int`). \n",
"Then transform each element of the `playerStatsTable` List into a `PlayerAndMatchesPlayed` record.\n",
"\n",
"\u003cdiv style=\"padding-left: 40px;\"\u003e\n",
"\u003cp\u003e \n",
"\u003cspan\u003e\n",
"\u003cdetails\u003e\n",
"\u003csummary\u003e\u003cp style=\"display:inline\"\u003eanswer\u003c/p\u003e\u003c/summary\u003e\n",
"\n",
"```\n",
"input.fsx (5,1)-(5,17) typecheck error The value or constructor \u0027playerStatsTable\u0027 is not defined. Maybe you want one of the following:\n",
"   PlayerAndMatchesPlayed\n",
"   playersByPosition\n",
"```\n",
"\n",
"\u003c/details\u003e\n",
"\u003c/span\u003e\n",
"\u003c/p\u003e\n",
"\u003c/div\u003e\n",
"\n"]
          }
,
          {
           "cell_type": "code",
           "metadata": {},
            "execution_count": null, "outputs": [],
           "source": ["// write your code here, see website for solution.\n"]
          }
,
          {
           "cell_type": "markdown",
           "metadata": {},
           
           "source": ["* Define a record named `PlayerAndGoalsScored` with a field named `Player` that is a `string` and `GoalsScored` that is a integer(`int`). \n",
"Then transform each element of the `playerStatsTable` List into a `PlayerAndGoalsScored` record.\n",
"\n",
"\u003cdiv style=\"padding-left: 40px;\"\u003e\n",
"\u003cp\u003e \n",
"\u003cspan\u003e\n",
"\u003cdetails\u003e\n",
"\u003csummary\u003e\u003cp style=\"display:inline\"\u003eanswer\u003c/p\u003e\u003c/summary\u003e\n",
"\n",
"```\n",
"input.fsx (5,1)-(5,17) typecheck error The value or constructor \u0027playerStatsTable\u0027 is not defined. Maybe you want one of the following:\n",
"   playersByPosition\n",
"```\n",
"\n",
"\u003c/details\u003e\n",
"\u003c/span\u003e\n",
"\u003c/p\u003e\n",
"\u003c/div\u003e\n",
"\n"]
          }
,
          {
           "cell_type": "code",
           "metadata": {},
            "execution_count": null, "outputs": [
          {
           "data": {
            "text/html": ["\u003ch3 class=numbered\u003e\u003ca name=Creating-anonymous-records class=anchor href=#Creating-anonymous-records\u003eCreating anonymous records\u003c/a\u003e\u003c/h3\u003e"]
        },
           "execution_count": null,
           "metadata": {},
           "output_type": "execute_result"
          }],
           "source": ["// write your code here, see website for solution.\n"]
          }
,
          {
           "cell_type": "markdown",
           "metadata": {},
           
           "source": ["Example: Transform each element of the `playerStatsTable` List into an anonymous record with a `Player` field that is a `string` and a `Nation` field that is a `string`.\n",
"\n",
"With `Anonymous records` we don\u0027t need to define the record type beforehand and we don\u0027t need to specify the type of each field.\n",
"\n"]
          }
,
          {
           "cell_type": "code",
           "metadata": {},
            "execution_count": 26, "outputs": [
          {
           "data": {
            "text/plain": ["input.fsx (1,1)-(1,17) typecheck error The value or constructor \u0027playerStatsTable\u0027 is not defined. Maybe you want one of the following:",
"",
"   playersByPosition"]
        },
           "execution_count": 26,
           "metadata": {},
           "output_type": "execute_result"
          }],
           "source": ["playerStatsTable\n",
"|\u003e List.map(fun x -\u003e \n",
"    {| Player = x.Player\n",
"       Nation = x.Nation |})\n",
"|\u003e List.truncate 5 //just to observe the first 5 rows, not a part of the exercise.\n"]
          }
,
          {
           "cell_type": "markdown",
           "metadata": {},
           
           "source": ["* Transform each element of the `playerStatsTable` List into an anonymous record with a `Player` field that is a `string` and a `Team` field that is a `string`.\n",
"\n",
"\u003cdiv style=\"padding-left: 40px;\"\u003e\n",
"\u003cp\u003e \n",
"\u003cspan\u003e\n",
"\u003cdetails\u003e\n",
"\u003csummary\u003e\u003cp style=\"display:inline\"\u003eanswer\u003c/p\u003e\u003c/summary\u003e\n",
"\n",
"```\n",
"input.fsx (1,1)-(1,17) typecheck error The value or constructor \u0027playerStatsTable\u0027 is not defined. Maybe you want one of the following:\n",
"   playersByPosition\n",
"input.fsx (4,17)-(4,21) typecheck error The type \u0027PlayerAndNation\u0027 does not define the field, constructor or member \u0027Team\u0027.\n",
"```\n",
"\n",
"\u003c/details\u003e\n",
"\u003c/span\u003e\n",
"\u003c/p\u003e\n",
"\u003c/div\u003e\n",
"\n"]
          }
,
          {
           "cell_type": "code",
           "metadata": {},
            "execution_count": null, "outputs": [],
           "source": ["// write your code here, see website for solution.\n"]
          }
,
          {
           "cell_type": "markdown",
           "metadata": {},
           
           "source": ["* Transform each element of the `playerStatsTable` List into an anonymous record with a `Player` field that is a `string` and a `League` field that is a `string`.\n",
"\n",
"\u003cdiv style=\"padding-left: 40px;\"\u003e\n",
"\u003cp\u003e \n",
"\u003cspan\u003e\n",
"\u003cdetails\u003e\n",
"\u003csummary\u003e\u003cp style=\"display:inline\"\u003eanswer\u003c/p\u003e\u003c/summary\u003e\n",
"\n",
"```\n",
"input.fsx (1,1)-(1,17) typecheck error The value or constructor \u0027playerStatsTable\u0027 is not defined. Maybe you want one of the following:\n",
"   playersByPosition\n",
"input.fsx (4,19)-(4,25) typecheck error The type \u0027PlayerAndNation\u0027 does not define the field, constructor or member \u0027League\u0027.\n",
"```\n",
"\n",
"\u003c/details\u003e\n",
"\u003c/span\u003e\n",
"\u003c/p\u003e\n",
"\u003c/div\u003e\n",
"\n"]
          }
,
          {
           "cell_type": "code",
           "metadata": {},
            "execution_count": null, "outputs": [],
           "source": ["// write your code here, see website for solution.\n"]
          }
,
          {
           "cell_type": "markdown",
           "metadata": {},
           
           "source": ["* Transform each element of the `playerStatsTable` List into an anonymous record with a `Player` field that is a `string` and a `Age` field that is a integer(`int`).\n",
"\n",
"\u003cdiv style=\"padding-left: 40px;\"\u003e\n",
"\u003cp\u003e \n",
"\u003cspan\u003e\n",
"\u003cdetails\u003e\n",
"\u003csummary\u003e\u003cp style=\"display:inline\"\u003eanswer\u003c/p\u003e\u003c/summary\u003e\n",
"\n",
"```\n",
"input.fsx (1,1)-(1,17) typecheck error The value or constructor \u0027playerStatsTable\u0027 is not defined. Maybe you want one of the following:\n",
"   playersByPosition\n",
"input.fsx (4,17)-(4,20) typecheck error The type \u0027PlayerAndNation\u0027 does not define the field, constructor or member \u0027Age\u0027.\n",
"```\n",
"\n",
"\u003c/details\u003e\n",
"\u003c/span\u003e\n",
"\u003c/p\u003e\n",
"\u003c/div\u003e\n",
"\n"]
          }
,
          {
           "cell_type": "code",
           "metadata": {},
            "execution_count": null, "outputs": [],
           "source": ["// write your code here, see website for solution.\n"]
          }
,
          {
           "cell_type": "markdown",
           "metadata": {},
           
           "source": ["* Transform each element of the `playerStatsTable` List into an anonymous record with a `Player` field that is a `string` and a `MatchesPlayed` field that is a integer(`int`).\n",
"\n",
"\u003cdiv style=\"padding-left: 40px;\"\u003e\n",
"\u003cp\u003e \n",
"\u003cspan\u003e\n",
"\u003cdetails\u003e\n",
"\u003csummary\u003e\u003cp style=\"display:inline\"\u003eanswer\u003c/p\u003e\u003c/summary\u003e\n",
"\n",
"```\n",
"input.fsx (1,1)-(1,17) typecheck error The value or constructor \u0027playerStatsTable\u0027 is not defined. Maybe you want one of the following:\n",
"   playersByPosition\n",
"input.fsx (4,26)-(4,39) typecheck error The type \u0027PlayerAndNation\u0027 does not define the field, constructor or member \u0027MatchesPlayed\u0027.\n",
"```\n",
"\n",
"\u003c/details\u003e\n",
"\u003c/span\u003e\n",
"\u003c/p\u003e\n",
"\u003c/div\u003e\n",
"\n"]
          }
,
          {
           "cell_type": "code",
           "metadata": {},
            "execution_count": null, "outputs": [],
           "source": ["// write your code here, see website for solution.\n"]
          }
,
          {
           "cell_type": "markdown",
           "metadata": {},
           
           "source": ["* Transform each element of the `playerStatsTable` List into an anonymous record with a `Player` field that is a `string` and a `GoalsScored` field that is a integer(`int`).\n",
"\n",
"\u003cdiv style=\"padding-left: 40px;\"\u003e\n",
"\u003cp\u003e \n",
"\u003cspan\u003e\n",
"\u003cdetails\u003e\n",
"\u003csummary\u003e\u003cp style=\"display:inline\"\u003eanswer\u003c/p\u003e\u003c/summary\u003e\n",
"\n",
"```\n",
"input.fsx (1,1)-(1,17) typecheck error The value or constructor \u0027playerStatsTable\u0027 is not defined. Maybe you want one of the following:\n",
"   playersByPosition\n",
"input.fsx (4,24)-(4,35) typecheck error The type \u0027PlayerAndNation\u0027 does not define the field, constructor or member \u0027GoalsScored\u0027.\n",
"```\n",
"\n",
"\u003c/details\u003e\n",
"\u003c/span\u003e\n",
"\u003c/p\u003e\n",
"\u003c/div\u003e\n",
"\n"]
          }
,
          {
           "cell_type": "code",
           "metadata": {},
            "execution_count": null, "outputs": [
          {
           "data": {
            "text/html": ["\u003ch2 class=numbered\u003e\u003ca name=Simple-transformations class=anchor href=#Simple-transformations\u003eSimple transformations\u003c/a\u003e\u003c/h2\u003e"]
        },
           "execution_count": null,
           "metadata": {},
           "output_type": "execute_result"
          }],
           "source": ["// write your code here, see website for solution.\n"]
          }
,
          {
           "cell_type": "markdown",
           "metadata": {},
           
           "source": ["Now that you are used to work with `List.map` to organize the data into tuples, records and anonymous records.\n",
"Let\u0027s try to do it while applying some simple transformations as sum, multiplication, type transformations and so on.\n",
"\n",
"\u003ch3 class=numbered\u003e\u003ca name=Transformations-using-tuples class=anchor href=#Transformations-using-tuples\u003eTransformations using tuples\u003c/a\u003e\u003c/h3\u003e\n",
"\n",
"Example: map the `playerStatsTable` to a tuple of player and age, but add 1 to age. ( `Player`, `Age + 1`)\n",
"\n"]
          }
,
          {
           "cell_type": "code",
           "metadata": {},
            "execution_count": 34, "outputs": [
          {
           "data": {
            "text/plain": ["input.fsx (1,1)-(1,17) typecheck error The value or constructor \u0027playerStatsTable\u0027 is not defined. Maybe you want one of the following:",
"",
"   playersByPosition",
"",
"input.fsx (2,22)-(2,27) typecheck error Lookup on object of indeterminate type based on information prior to this program point. A type annotation may be needed prior to this program point to constrain the type of the object. This may allow the lookup to be resolved."]
        },
           "execution_count": 34,
           "metadata": {},
           "output_type": "execute_result"
          }],
           "source": ["playerStatsTable\n",
"|\u003e List.map(fun x -\u003e x.Age + 1)\n",
"|\u003e List.truncate 5 //just to observe the first 5 rows, not a part of the exercise.\n"]
          }
,
          {
           "cell_type": "markdown",
           "metadata": {},
           
           "source": ["When to use integers or floats/decimals:\n",
"\n",
"0 Use integers if the results of the calculations should be integers (1, 2, 3, 4, ...).\n",
"\n",
"1 Use floats or decimals if the results of the calculations may be floats or decimals (1.1, 2.1324, ...).\n",
"\n",
"* map the `playerStatsTable` to a tuple of player and goals scored, but multiply goals scored by 10. ( `Player`, `GoalsScored * 10`)\n",
"\n",
"\u003cdiv style=\"padding-left: 40px;\"\u003e\n",
"\u003cp\u003e \n",
"\u003cspan\u003e\n",
"\u003cdetails\u003e\n",
"\u003csummary\u003e\u003cp style=\"display:inline\"\u003eanswer\u003c/p\u003e\u003c/summary\u003e\n",
"\n",
"```\n",
"input.fsx (1,1)-(1,17) typecheck error The value or constructor \u0027playerStatsTable\u0027 is not defined. Maybe you want one of the following:\n",
"   playersByPosition\n",
"input.fsx (2,34)-(2,45) typecheck error The type \u0027PlayerAndNation\u0027 does not define the field, constructor or member \u0027GoalsScored\u0027.\n",
"```\n",
"\n",
"\u003c/details\u003e\n",
"\u003c/span\u003e\n",
"\u003c/p\u003e\n",
"\u003c/div\u003e\n",
"\n"]
          }
,
          {
           "cell_type": "code",
           "metadata": {},
            "execution_count": null, "outputs": [],
           "source": ["// write your code here, see website for solution.\n"]
          }
,
          {
           "cell_type": "markdown",
           "metadata": {},
           
           "source": ["* map the `playerStatsTable` to a tuple of player and goals scored, but divide GoalsScored by 2. ( `Player`, `GoalsScored / 2`)\n",
"\n",
"\u003cdiv style=\"padding-left: 40px;\"\u003e\n",
"\u003cp\u003e \n",
"\u003cspan\u003e\n",
"\u003cdetails\u003e\n",
"\u003csummary\u003e\u003cp style=\"display:inline\"\u003eanswer\u003c/p\u003e\u003c/summary\u003e\n",
"\n",
"```\n",
"input.fsx (1,1)-(1,17) typecheck error The value or constructor \u0027playerStatsTable\u0027 is not defined. Maybe you want one of the following:\n",
"   playersByPosition\n",
"input.fsx (2,35)-(2,46) typecheck error The type \u0027PlayerAndNation\u0027 does not define the field, constructor or member \u0027GoalsScored\u0027.\n",
"```\n",
"\n",
"\u003c/details\u003e\n",
"\u003c/span\u003e\n",
"\u003c/p\u003e\n",
"\u003c/div\u003e\n",
"\n"]
          }
,
          {
           "cell_type": "code",
           "metadata": {},
            "execution_count": null, "outputs": [],
           "source": ["// write your code here, see website for solution.\n"]
          }
,
          {
           "cell_type": "markdown",
           "metadata": {},
           
           "source": ["In this case, look how dividing using integers rounds the results to the nearest integers.\n",
"If the results are decimals you might prefer to get exact results.\n",
"For that you can use floats or decimals types.\n",
"In order to convert a variable to float you have to use the syntax: `float variable`.\n",
"\n",
"Example: map the `playerStatsTable` to a tuple of player and age, but convert age to float. ( `Player`, `float Age`)\n",
"\n"]
          }
,
          {
           "cell_type": "code",
           "metadata": {},
            "execution_count": 37, "outputs": [
          {
           "data": {
            "text/plain": ["input.fsx (1,1)-(1,17) typecheck error The value or constructor \u0027playerStatsTable\u0027 is not defined. Maybe you want one of the following:",
"",
"   playersByPosition",
"",
"input.fsx (2,40)-(2,43) typecheck error The type \u0027PlayerAndNation\u0027 does not define the field, constructor or member \u0027Age\u0027."]
        },
           "execution_count": 37,
           "metadata": {},
           "output_type": "execute_result"
          }],
           "source": ["playerStatsTable\n",
"|\u003e List.map(fun x -\u003e x.Player, float x.Age) \n",
"|\u003e List.truncate 5 //just to observe the first 5 rows, not a part of the exercise.\n"]
          }
,
          {
           "cell_type": "markdown",
           "metadata": {},
           
           "source": ["* map the `playerStatsTable` to a tuple of player and goals scored, but convert goalsScored to float. ( `Player`, `float GoalsScored`)\n",
"\n",
"\u003cdiv style=\"padding-left: 40px;\"\u003e\n",
"\u003cp\u003e \n",
"\u003cspan\u003e\n",
"\u003cdetails\u003e\n",
"\u003csummary\u003e\u003cp style=\"display:inline\"\u003eanswer\u003c/p\u003e\u003c/summary\u003e\n",
"\n",
"```\n",
"input.fsx (1,1)-(1,17) typecheck error The value or constructor \u0027playerStatsTable\u0027 is not defined. Maybe you want one of the following:\n",
"   playersByPosition\n",
"input.fsx (2,40)-(2,51) typecheck error The type \u0027PlayerAndNation\u0027 does not define the field, constructor or member \u0027GoalsScored\u0027.\n",
"```\n",
"\n",
"\u003c/details\u003e\n",
"\u003c/span\u003e\n",
"\u003c/p\u003e\n",
"\u003c/div\u003e\n",
"\n"]
          }
,
          {
           "cell_type": "code",
           "metadata": {},
            "execution_count": null, "outputs": [],
           "source": ["// write your code here, see website for solution.\n"]
          }
,
          {
           "cell_type": "markdown",
           "metadata": {},
           
           "source": ["* map the `playerStatsTable` to a tuple of player and goals scored, but divide goalsScored by 2.0. ( `Player`, `GoalsScored / 2.0`)\n",
"Hint: convert goals scored to float and divide by 2.0 (you can\u0027t divide by 2 because if you perform math operations with different types, you\u0027ll get an error).\n",
"\n",
"\u003cdiv style=\"padding-left: 40px;\"\u003e\n",
"\u003cp\u003e \n",
"\u003cspan\u003e\n",
"\u003cdetails\u003e\n",
"\u003csummary\u003e\u003cp style=\"display:inline\"\u003eanswer\u003c/p\u003e\u003c/summary\u003e\n",
"\n",
"```\n",
"input.fsx (1,1)-(1,17) typecheck error The value or constructor \u0027playerStatsTable\u0027 is not defined. Maybe you want one of the following:\n",
"   playersByPosition\n",
"input.fsx (2,35)-(2,46) typecheck error The type \u0027PlayerAndNation\u0027 does not define the field, constructor or member \u0027GoalsScored\u0027.\n",
"```\n",
"\n",
"\u003c/details\u003e\n",
"\u003c/span\u003e\n",
"\u003c/p\u003e\n",
"\u003c/div\u003e\n",
"\n"]
          }
,
          {
           "cell_type": "code",
           "metadata": {},
            "execution_count": null, "outputs": [
          {
           "data": {
            "text/html": ["\u003ch3 class=numbered\u003e\u003ca name=Transformations-using-records class=anchor href=#Transformations-using-records\u003eTransformations using records\u003c/a\u003e\u003c/h3\u003e"]
        },
           "execution_count": null,
           "metadata": {},
           "output_type": "execute_result"
          }],
           "source": ["// write your code here, see website for solution.\n"]
          }
,
          {
           "cell_type": "markdown",
           "metadata": {},
           
           "source": ["Example: map the `playerStatsTable` to a record of player and age, but add 1 to age. ( `Player`, `Age + 1`)\n",
"\n"]
          }
,
          {
           "cell_type": "code",
           "metadata": {},
            "execution_count": 41, "outputs": [
          {
           "data": {
            "text/plain": ["input.fsx (5,1)-(5,17) typecheck error The value or constructor \u0027playerStatsTable\u0027 is not defined. Maybe you want one of the following:",
"",
"   playersByPosition",
"",
"input.fsx (8,23)-(8,26) typecheck error The type \u0027PlayerAndAgePlus1Int\u0027 does not define the field, constructor or member \u0027Age\u0027."]
        },
           "execution_count": 41,
           "metadata": {},
           "output_type": "execute_result"
          }],
           "source": ["type PlayerAndAgePlus1Int =\n",
"    { Player : string\n",
"      AgePlus1Int : int }\n",
"\n",
"playerStatsTable\n",
"|\u003e List.map(fun x -\u003e\n",
"    { Player = x.Player \n",
"      AgePlus1Int = x.Age + 1})\n",
"|\u003e List.truncate 5 //just to observe the first 5 rows, not a part of the exercise.\n"]
          }
,
          {
           "cell_type": "markdown",
           "metadata": {},
           
           "source": ["* map the `playerStatsTable` to a record of player and goals scored, but multiply goals scored by 10. ( `Player`, `GoalsScored * 10`)\n",
"Hint: You have to create a new type record.\n",
"\n",
"\u003cdiv style=\"padding-left: 40px;\"\u003e\n",
"\u003cp\u003e \n",
"\u003cspan\u003e\n",
"\u003cdetails\u003e\n",
"\u003csummary\u003e\u003cp style=\"display:inline\"\u003eanswer\u003c/p\u003e\u003c/summary\u003e\n",
"\n",
"```\n",
"input.fsx (5,1)-(5,17) typecheck error The value or constructor \u0027playerStatsTable\u0027 is not defined. Maybe you want one of the following:\n",
"   playersByPosition\n",
"   PlayerAndGls\n",
"```\n",
"\n",
"\u003c/details\u003e\n",
"\u003c/span\u003e\n",
"\u003c/p\u003e\n",
"\u003c/div\u003e\n",
"\n"]
          }
,
          {
           "cell_type": "code",
           "metadata": {},
            "execution_count": null, "outputs": [],
           "source": ["// write your code here, see website for solution.\n"]
          }
,
          {
           "cell_type": "markdown",
           "metadata": {},
           
           "source": ["* map the `playerStatsTable` to a record of player and goals scored, but divide goals scored by 2.0. ( `Player`, `float GoalsScored  / 2.0`)\n",
"Hint: You have to create a new type record, because previous type has goals scored as integers but you want floats.\n",
"\n",
"\u003cdiv style=\"padding-left: 40px;\"\u003e\n",
"\u003cp\u003e \n",
"\u003cspan\u003e\n",
"\u003cdetails\u003e\n",
"\u003csummary\u003e\u003cp style=\"display:inline\"\u003eanswer\u003c/p\u003e\u003c/summary\u003e\n",
"\n",
"```\n",
"input.fsx (5,1)-(5,17) typecheck error The value or constructor \u0027playerStatsTable\u0027 is not defined. Maybe you want one of the following:\n",
"   playersByPosition\n",
"input.fsx (8,35)-(8,46) typecheck error The type \u0027PlayerAndGlsFloat\u0027 does not define the field, constructor or member \u0027GoalsScored\u0027. Maybe you want one of the following:\n",
"   GoalsScoredFloat\n",
"```\n",
"\n",
"\u003c/details\u003e\n",
"\u003c/span\u003e\n",
"\u003c/p\u003e\n",
"\u003c/div\u003e\n",
"\n"]
          }
,
          {
           "cell_type": "code",
           "metadata": {},
            "execution_count": null, "outputs": [
          {
           "data": {
            "text/html": ["\u003ch3 class=numbered\u003e\u003ca name=Transformations-using-anonymous-records class=anchor href=#Transformations-using-anonymous-records\u003eTransformations using anonymous records\u003c/a\u003e\u003c/h3\u003e"]
        },
           "execution_count": null,
           "metadata": {},
           "output_type": "execute_result"
          }],
           "source": ["// write your code here, see website for solution.\n"]
          }
,
          {
           "cell_type": "markdown",
           "metadata": {},
           
           "source": ["Example: map the `playerStatsTable` to an anonymoys record of player and age, but add 1 to age. ( `Player`, `Age + 1`)\n",
"\n"]
          }
,
          {
           "cell_type": "code",
           "metadata": {},
            "execution_count": 45, "outputs": [
          {
           "data": {
            "text/plain": ["input.fsx (1,1)-(1,17) typecheck error The value or constructor \u0027playerStatsTable\u0027 is not defined. Maybe you want one of the following:",
"",
"   playersByPosition",
"",
"input.fsx (4,21)-(4,24) typecheck error The type \u0027PlayerAndNation\u0027 does not define the field, constructor or member \u0027Age\u0027."]
        },
           "execution_count": 45,
           "metadata": {},
           "output_type": "execute_result"
          }],
           "source": ["playerStatsTable\n",
"|\u003e List.map(fun x -\u003e \n",
"    {| Player = x.Player\n",
"       AgePlus1 = x.Age + 1 |})\n",
"|\u003e List.truncate 5 //just to observe the first 5 rows, not a part of the exercise.\n"]
          }
,
          {
           "cell_type": "code",
           "metadata": {},
            "execution_count": 46, "outputs": [
          {
           "data": {
            "text/plain": ["input.fsx (3,1)-(3,17) typecheck error The value or constructor \u0027playerStatsTable\u0027 is not defined. Maybe you want one of the following:",
"",
"   playersByPosition",
"",
"input.fsx (6,33)-(6,36) typecheck error The type \u0027PlayerAndNation\u0027 does not define the field, constructor or member \u0027Age\u0027."]
        },
           "execution_count": 46,
           "metadata": {},
           "output_type": "execute_result"
          }],
           "source": ["// or \n",
"\n",
"playerStatsTable\n",
"|\u003e List.map(fun x -\u003e\n",
"    {| Player = x.Player \n",
"       AgePlus1Float = (float x.Age) + 1.0 |})\n",
"|\u003e List.truncate 5 //just to observe the first 5 rows, not a part of the exercise.\n"]
          }
,
          {
           "cell_type": "markdown",
           "metadata": {},
           
           "source": ["* map the `playerStatsTable` to an anonymous record of player and goals scored, but multiply goals scored by 10. ( `Player`, `GoalsScored * 10`)\n",
"\n",
"\u003cdiv style=\"padding-left: 40px;\"\u003e\n",
"\u003cp\u003e \n",
"\u003cspan\u003e\n",
"\u003cdetails\u003e\n",
"\u003csummary\u003e\u003cp style=\"display:inline\"\u003eanswer\u003c/p\u003e\u003c/summary\u003e\n",
"\n",
"```\n",
"input.fsx (1,1)-(1,17) typecheck error The value or constructor \u0027playerStatsTable\u0027 is not defined. Maybe you want one of the following:\n",
"   playersByPosition\n",
"input.fsx (4,29)-(4,40) typecheck error The type \u0027PlayerAndNation\u0027 does not define the field, constructor or member \u0027GoalsScored\u0027.\n",
"input.fsx (9,1)-(9,17) typecheck error The value or constructor \u0027playerStatsTable\u0027 is not defined. Maybe you want one of the following:\n",
"   playersByPosition\n",
"input.fsx (12,33)-(12,44) typecheck error The type \u0027PlayerAndNation\u0027 does not define the field, constructor or member \u0027GoalsScored\u0027.\n",
"```\n",
"\n",
"\u003c/details\u003e\n",
"\u003c/span\u003e\n",
"\u003c/p\u003e\n",
"\u003c/div\u003e\n",
"\n"]
          }
,
          {
           "cell_type": "code",
           "metadata": {},
            "execution_count": null, "outputs": [],
           "source": ["// write your code here, see website for solution.\n"]
          }
,
          {
           "cell_type": "markdown",
           "metadata": {},
           
           "source": ["* map the `playerStatsTable` to an anonymous record of player and goals scored, but divide goals scored by 2.0. ( `Player`, `float GoalsScored  / 2.0`)\n",
"Hint: Remember that you have to transform GoalsScored to float.\n",
"\n",
"\u003cdiv style=\"padding-left: 40px;\"\u003e\n",
"\u003cp\u003e \n",
"\u003cspan\u003e\n",
"\u003cdetails\u003e\n",
"\u003csummary\u003e\u003cp style=\"display:inline\"\u003eanswer\u003c/p\u003e\u003c/summary\u003e\n",
"\n",
"```\n",
"input.fsx (1,1)-(1,17) typecheck error The value or constructor \u0027playerStatsTable\u0027 is not defined. Maybe you want one of the following:\n",
"   playersByPosition\n",
"input.fsx (4,36)-(4,47) typecheck error The type \u0027PlayerAndNation\u0027 does not define the field, constructor or member \u0027GoalsScored\u0027.\n",
"```\n",
"\n",
"\u003c/details\u003e\n",
"\u003c/span\u003e\n",
"\u003c/p\u003e\n",
"\u003c/div\u003e\n",
"\n"]
          }
,
          {
           "cell_type": "code",
           "metadata": {},
            "execution_count": null, "outputs": [
          {
           "data": {
            "text/html": ["\u003ch2 class=numbered\u003e\u003ca name=Creating-and-transforming-TeamRecord class=anchor href=#Creating-and-transforming-TeamRecord\u003eCreating and transforming TeamRecord\u003c/a\u003e\u003c/h2\u003e"]
        },
           "execution_count": null,
           "metadata": {},
           "output_type": "execute_result"
          }],
           "source": ["// write your code here, see website for solution.\n"]
          }
,
          {
           "cell_type": "markdown",
           "metadata": {},
           
           "source": ["Now that you are used to work with records and perform simple Transformations, map `playerStatsTable` to a record type that includes:\n",
"\n",
"* Player (`Player`) - type `string`\n",
"\n",
"* Nation (`Nation`) - type `string`\n",
"\n",
"* League (`League`) - type `string`\n",
"\n",
"* AgeNextYear (`Age + 1`) - type `int`\n",
"\n",
"* HalfGoalsScored (`GoalsScored / 2.0`) - type `float`\n",
"\n",
"Hint: Create a new type.\n",
"\n",
"\u003cdiv style=\"padding-left: 40px;\"\u003e\n",
"\u003cp\u003e \n",
"\u003cspan\u003e\n",
"\u003cdetails\u003e\n",
"\u003csummary\u003e\u003cp style=\"display:inline\"\u003eanswer\u003c/p\u003e\u003c/summary\u003e\n",
"\n",
"```\n",
"input.fsx (8,1)-(8,17) typecheck error The value or constructor \u0027playerStatsTable\u0027 is not defined. Maybe you want one of the following:\n",
"   playersByPosition\n",
"input.fsx (13,23)-(13,26) typecheck error The type \u0027TeamRecord\u0027 does not define the field, constructor or member \u0027Age\u0027.\n",
"input.fsx (14,33)-(14,44) typecheck error The type \u0027TeamRecord\u0027 does not define the field, constructor or member \u0027GoalsScored\u0027.\n",
"```\n",
"\n",
"\u003c/details\u003e\n",
"\u003c/span\u003e\n",
"\u003c/p\u003e\n",
"\u003c/div\u003e\n",
"\n"]
          }
,
          {
           "cell_type": "code",
           "metadata": {},
            "execution_count": null, "outputs": [],
           "source": ["// write your code here, see website for solution.\n"]
          }],
            "metadata": {
            "kernelspec": {"display_name": ".NET (F#)", "language": "F#", "name": ".net-fsharp"},
            "langauge_info": {
        "file_extension": ".fs",
        "mimetype": "text/x-fsharp",
        "name": "C#",
        "pygments_lexer": "fsharp",
        "version": "4.5"
        }
        },
            "nbformat": 4,
            "nbformat_minor": 1
        }
        

