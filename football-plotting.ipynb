
        {
            "cells": [
          {
           "cell_type": "markdown",
           "metadata": {},
           
           "source": ["[![Binder](img/badge-binder.svg)](https://mybinder.org/v2/gh/nhirschey/teaching/gh-pages?filepath=football-plotting.ipynb)\u0026emsp;\n",
"[![Script](img/badge-script.svg)](/Teaching//football-plotting.fsx)\u0026emsp;\n",
"[![Notebook](img/badge-notebook.svg)](/Teaching//football-plotting.ipynb)\n",
"\n",
"# Transformations and Plotting\n",
"\n",
"\u003e Developed with [Davide Costa](https://github.com/DavideGCosta)\n",
"\u003e \n",
"\n",
"### Reference needed nuget packages and open namespaces\n",
"\n"]
          }
,
          {
           "cell_type": "code",
           "metadata": {},
            "execution_count": 4, "outputs": [],
           "source": ["#r \"nuget:FSharp.Data\"\n",
"#r \"nuget: FSharp.Stats\"\n",
"#r \"nuget: Plotly.NET, 2.0.0-preview.17\"\n",
"#r \"nuget: Plotly.NET.Interactive, 2.0.0-preview.17\"\n",
"\n",
"open FSharp.Data\n",
"open FSharp.Stats\n",
"open FSharp.Stats.Correlation\n",
"open Plotly.NET\n"]
          }
,
          {
           "cell_type": "markdown",
           "metadata": {},
           
           "source": ["### Load the Csv file.\n",
"\n"]
          }
,
          {
           "cell_type": "code",
           "metadata": {},
            "execution_count": 5, "outputs": [],
           "source": ["let [\u003cLiteral\u003e] CsvPath = __SOURCE_DIRECTORY__ + \"/FootballPlayers.csv\"\n",
"type FootballPlayersCsv = CsvProvider\u003cCsvPath\u003e\n",
"\n",
"let playerStatsTable = \n",
"    FootballPlayersCsv.GetSample().Rows\n",
"    |\u003e Seq.toList\n"]
          }
,
          {
           "cell_type": "markdown",
           "metadata": {},
           
           "source": ["## EXERCISES - PART 3\n",
"\n",
"* [List Functions and Plotting.](#List-Functions-and-Plotting)\n",
"  \n",
"\n",
"  0 [Example: From playerStatsTable create a bar chart with the sum of GoalsScored (y-axis) by League (x-axis)](#1-Example-From-playerStatsTable-create-a-bars-chart-with-the-sum-of-GoalsScored-y-axis-by-League-x-axis)\n",
"    \n",
"  \n",
"  1 [From playerStatsTable create a bar chart with the sum of GoalsScored (y-axis) by Age(x-axis)](#2-From-playerStatsTable-create-a-bars-chart-with-the-sum-of-GoalsScored-y-axis-by-Age-x-axis)\n",
"    \n",
"  \n",
"  2 [Example: From playerStatsTable create a bars chart with the Average of GoalsScored (y-axis) by League (x-axis)](#3-Example-From-playerStatsTable-create-a-bars-chart-with-the-Average-of-GoalsScored-y-axis-by-League-x-axis)\n",
"    \n",
"  \n",
"  3 [From playerStatsTable create a bars chart with the average GoalsScored (y-axis) by Age(x-axis)](#4-From-playerStatsTable-create-a-bars-chart-with-the-average-GoalsScored-per-Match-Played-y-axis-by-Age-x-axis-only-for-Fowrward-Players)\n",
"    \n",
"  \n",
"\n",
"## List Functions and Plotting\n",
"\n",
"Now that you know how to work with the dataset using the most common List functions, we still need to practice how to create usefull plots with the data.\n",
"\n",
"For plotting in F# we load `Plotly.NET` nuget and open the `Plotly.NET` namespace.\n",
"Documentation links:\n",
"\n",
"* [Plotly.NET General Documentation](https://plotly.net/)\n",
"\n",
"* [Plotly.NET bar and column charts Documentation](https://plotly.net/2_1_bar-and-column-charts.html)\n",
"\n",
"* [Plotly.NET line and scatter plots Documentation](https://plotly.net/2_0_line-scatter-plots.html)\n",
"\n",
"It will be helpfull to check the documentation before starting the exercises.\n",
"\n",
"### 1 Example: From playerStatsTable create a bar chart with the sum of GoalsScored (y-axis) by League (x-axis).\n",
"\n"]
          }
,
          {
           "cell_type": "code",
           "metadata": {},
            "execution_count": 6, "outputs": [],
           "source": ["let sumGoalsScoredByLeague = \n",
"    playerStatsTable\n",
"    |\u003e List.groupBy(fun x -\u003e x.League)\n",
"    |\u003e List.map(fun (league, playerStats) -\u003e \n",
"        (league,\n",
"         playerStats |\u003e List.sumBy(fun x -\u003e x.GoalsScored)))\n",
"\n",
"let sumGoalsScoredByLeagueChart =\n",
"    sumGoalsScoredByLeague\n",
"    |\u003e Chart.Column\n",
"    |\u003e Chart.withYAxisStyle(\"Sum of Goals Scored\")\n",
"    |\u003e Chart.withXAxisStyle(\"Top 5 Football Leagues\")\n",
"    |\u003e Chart.withTitle(\"Sum of Goals Scored by League\")\n"]
          }
,
          {
           "cell_type": "code",
           "metadata": {},
            "execution_count": null, "outputs": [
          {
           "data": {
            "text/plain": ["No value returned by any evaluator"]
        },
           "execution_count": null,
           "metadata": {},
           "output_type": "execute_result"
          }],
           "source": ["sumGoalsScoredByLeagueChart\n"]
          }
,
          {
           "cell_type": "markdown",
           "metadata": {},
           
           "source": ["### 2 From playerStatsTable create a bar chart with the sum of GoalsScored (y-axis) by Age(x-axis).\n",
"\n",
"Hints:\n",
"\n",
"* Group `playerStatsTable` by `Age` using `List.groupBy`.\n",
"\n",
"* Map the returned List of tuples, into an List of tuples with two elements.\n",
"\n",
"  * First element: age. The first element of the `List.groupBy` output. Which corresponds to the Age groups.\n",
"  \n",
"  * Second element: sum of goals scored by `Age`, use `List.sumBy` applied to the second element of the `List.groupBy` output. Which corresponds to all the rows per `Age` group.\n",
"  \n",
"\n",
"* Then, store this new List of tuples to a variable. (In this case call it `sumGoalsScoredByAge`).\n",
"\n",
"* After that in order to create a bar chart we need to follow the syntax: `Chart.Column`.\n",
"\n",
"* Use the syntax `Chart.withYAxisStyle(\"Sum of Goals Score\")` to label the y-axis.\n",
"\n",
"* Use the syntax `Chart.withXAxisStyle(\"Age\")` to label the x-axis.\n",
"\n",
"* Use the syntax `Chart.withTitle(\"Sum of Goals Score by Age\")` to give a title to the chart.\n",
"\n",
"* Then Pipe (`|\u003e`) to `Chart.Show` if you want to observe the chart.\n",
"\n",
"\u003cdiv style=\"padding-left: 40px;\"\u003e\n",
"\u003cp\u003e \n",
"\u003cspan\u003e\n",
"\u003cdetails\u003e\n",
"\u003csummary\u003e\u003cp style=\"display:inline\"\u003eanswer\u003c/p\u003e\u003c/summary\u003e\n",
"\n",
"```\n",
"No value returned by any evaluator\n",
"```\n",
"\n",
"\u003c/details\u003e\n",
"\u003c/span\u003e\n",
"\u003c/p\u003e\n",
"\u003c/div\u003e\n",
"\n"]
          }
,
          {
           "cell_type": "code",
           "metadata": {},
            "execution_count": null, "outputs": [],
           "source": ["// write your code here, see website for solution.\n"]
          }
,
          {
           "cell_type": "markdown",
           "metadata": {},
           
           "source": ["### 3 Example: From playerStatsTable create a bar chart with the Average of GoalsScored (y-axis) by League (x-axis).\n",
"\n"]
          }
,
          {
           "cell_type": "code",
           "metadata": {},
            "execution_count": 11, "outputs": [],
           "source": ["let averageGoalsScoredByLeague = \n",
"    playerStatsTable\n",
"    |\u003e List.groupBy(fun x -\u003e x.League)\n",
"    |\u003e List.map(fun (league, playerStats) -\u003e \n",
"        (league,\n",
"         playerStats |\u003e List.averageBy(fun x -\u003e float x.GoalsScored)))\n",
"\n",
"let averageGoalsScoredByLeagueChart = \n",
"    averageGoalsScoredByLeague\n",
"    |\u003e Chart.Column\n",
"    |\u003e Chart.withYAxisStyle(\"Average of Goals Scored\")\n",
"    |\u003e Chart.withXAxisStyle(\"Top 5 Football Leagues\")\n",
"    |\u003e Chart.withTitle(\"Average of Goals Scored by League\")\n"]
          }
,
          {
           "cell_type": "code",
           "metadata": {},
            "execution_count": null, "outputs": [
          {
           "data": {
            "text/plain": ["No value returned by any evaluator"]
        },
           "execution_count": null,
           "metadata": {},
           "output_type": "execute_result"
          }],
           "source": ["averageGoalsScoredByLeagueChart\n"]
          }
,
          {
           "cell_type": "markdown",
           "metadata": {},
           
           "source": ["### 4 From playerStatsTable create a bars chart with the average GoalsScored per Match Played(y-axis) by Age(x-axis) only for Forward Players.\n",
"\n",
"Hints:\n",
"\n",
"* Filter `playerStatsTable` by `Position` to get only forward position (`Position = \"FW\"`), use `List.Filter`.\n",
"  \n",
"\n",
"* Group `playerStatsTable` by `Age` using `List.groupBy`.\n",
"  \n",
"\n",
"* Map the returned List of tuples, into an List of tuples with two elements.\n",
"  \n",
"\n",
"  * First element: age --\u0026gt; The first element of the `List.groupBy` output. Which corresponds to the Age groups.\n",
"    \n",
"  \n",
"  * Second element: sum of total GoalsScored divided by the total games played by age.\n",
"Note that you can get the total games played by using `List.sumBy(fun x -\u003e x.MatchesPlayed)`.\n",
"Also remember to transform the variables to `floats` before dividing to get the exact results.\n",
"    \n",
"  \n",
"\n",
"* Then, store this new List of tuples to a variable. (Name it `averageGoalsPerMatchByAgeFW`).\n",
"  \n",
"\n",
"* After that, in order to create a bars chart we need to follow the syntax: `Chart.Column`, you just need to pipe (`|\u003e`) the variable `averageGoalsPerMatchByAgeFW` to `Chart.Column`.\n",
"  \n",
"\n",
"* Use the syntax `Chart.withYAxisStyle(\"Average of Goals Scored Per Match\")` to label the y-axis.\n",
"  \n",
"\n",
"* Use the syntax `Chart.withXAxisStyle(\"Age\")` to label the x-axis.\n",
"  \n",
"\n",
"* Use the syntax `Chart.withTitle(\"Average of Goals Scored Per Match by Age\")` to give a title to the chart.\n",
"  \n",
"\n",
"* Then Pipe (`|\u003e`) to `Chart.Show` if you want to observe the chart.\n",
"  \n",
"\n",
"\u003cdiv style=\"padding-left: 40px;\"\u003e\n",
"\u003cp\u003e \n",
"\u003cspan\u003e\n",
"\u003cdetails\u003e\n",
"\u003csummary\u003e\u003cp style=\"display:inline\"\u003eanswer\u003c/p\u003e\u003c/summary\u003e\n",
"\n",
"```\n",
"No value returned by any evaluator\n",
"```\n",
"\n",
"\u003c/details\u003e\n",
"\u003c/span\u003e\n",
"\u003c/p\u003e\n",
"\u003c/div\u003e\n",
"\n"]
          }
,
          {
           "cell_type": "code",
           "metadata": {},
            "execution_count": null, "outputs": [],
           "source": ["// write your code here, see website for solution.\n"]
          }],
            "metadata": {
            "kernelspec": {"display_name": ".NET (F#)", "language": "F#", "name": ".net-fsharp"},
            "langauge_info": {
        "file_extension": ".fs",
        "mimetype": "text/x-fsharp",
        "name": "C#",
        "pygments_lexer": "fsharp",
        "version": "4.5"
        }
        },
            "nbformat": 4,
            "nbformat_minor": 1
        }
        

