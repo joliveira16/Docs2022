
        {
            "cells": [
          {
           "cell_type": "code",
           "metadata": {},
            "execution_count": 1, "outputs": [],
           "source": ["// Last updated 2021-04-29 09:00\n",
"#time \"on\"\n",
"\n",
"#r \"nuget: FSharp.Data\"\n",
"#r \"nuget: FSharp.Stats\"\n",
"#r \"nuget: NodaTime\"\n",
"\n",
"#load \"Portfolio.fsx\"\n",
"\n",
"open System\n",
"open FSharp.Data\n",
"open NodaTime\n",
"open FSharp.Stats\n",
"\n",
"open Portfolio\n",
"\n",
"Environment.CurrentDirectory \u003c- __SOURCE_DIRECTORY__\n",
"\n",
"let samplePeriod x = \n",
"    x \u003e= YearMonth(2010, 1) \u0026\u0026\n",
"    x \u003c= YearMonth(2020, 2)\n"]
          }
,
          {
           "cell_type": "markdown",
           "metadata": {},
           
           "source": ["# Price momentum\n",
"\n",
"Price momentum is one of the most common quant signals. It is (fairly)\n",
"straight forward to calculate, and you only need returns to do it,\n",
"so it is a good starting point and reference \u0027strategy\u0027.\n",
"\n"]
          }
,
          {
           "cell_type": "code",
           "metadata": {},
            "execution_count": 2, "outputs": [],
           "source": ["// Now create a type that represents the file.\n",
"// This figures out what the columns of the file are.\n",
"//  - Sample is the path to our file. The \"../\" means we\u0027re\n",
"//    doing relative paths, so we need to specify the \n",
"//  - ResolutionFolder to indicate what folder the relative paths\n",
"//    are relative to.\n",
"let [\u003cLiteral\u003e] ResolutionFolder = __SOURCE_DIRECTORY__\n",
"type MsfCsv = CsvProvider\u003cSample=\".data/msf-momentum.csv\",\n",
"                          ResolutionFolder = ResolutionFolder\u003e\n",
"\n",
"// assign the content of the file to a value\n",
"let msfCsv = MsfCsv.GetSample()\n",
"\n",
"// look at the file attributes\n",
"msfCsv\n",
"// look at the headers\n",
"msfCsv.Headers\n",
"// look at the first few rows\n",
"msfCsv.Rows |\u003e Seq.truncate 3\n"]
          }
,
          {
           "cell_type": "markdown",
           "metadata": {},
           
           "source": ["## Signal construction\n",
"\n",
"We want to create a momentum signal and see how it relates to future returns.\n",
"The signal is some measure of past returns. A common measure is the past year return,\n",
"skipping the most recent month. We skip the most recent month because stocks tend\n",
"to reverse following very recent returns (known as \"reversals\").\n",
"The reversal is very likely a liquidity effect and it is less important this century.\n",
"So returns are positively correlated with returns from 12 months to 1 months ago,\n",
"but negatively correlated with returns last month. This is illustrated very nicely\n",
"in Jegadeesh (1990).\n",
"\n",
"If we\u0027re forming a portfolio at the end of month $t-1$ to hold in month $t$,\n",
"then we\u0027re saying returns in month $t$ are positively correlated\n",
"with returns in months $t-12$ through month $t-2$.\n",
"For example, if we want to hold a momenum portfolio in January 2021,\n",
"then we will form it on December 31, 2020.\n",
"We will want to go long stocks that had high returns from the beginning\n",
"of January 2020 to the end of November 2020.\n",
"\n",
"Let\u0027s create a record to hold some info about past returns for a stock.\n",
"We will use this as a trading signal.\n",
"\n"]
          }
,
          {
           "cell_type": "code",
           "metadata": {},
            "execution_count": 3, "outputs": [],
           "source": ["type PriorReturnOb = \n",
"    { SecurityId : SecurityId\n",
"      FormationMonth : YearMonth \n",
"      Retm12m2 : float\n",
"      N : int }\n"]
          }
,
          {
           "cell_type": "markdown",
           "metadata": {},
           
           "source": ["Note the `YearMonth` type for portfolio formation month.\n",
"This type is from the library [NodaTime](https://nodatime.org/).\n",
"\n",
"Why are we using it? Date math is hard and easy to mess up.\n",
"\n",
"We\u0027re dealing with monthly data.\n",
"If we use `DateTime`, then we have to give the month a\n",
"day value. We could always use the first day of the month,\n",
"but then month return goes all the way to the end of the month.\n",
"And we might forget that information.\n",
"\n",
"If we use the last day of the month,\n",
"then what happens when we add months. For example,\n",
"we have to start doing things like.\n",
"\n"]
          }
,
          {
           "cell_type": "code",
           "metadata": {},
            "execution_count": 4, "outputs": [],
           "source": ["let endOfFebruary = DateTime(2020,2,28)\n",
"let endOfFebruaryPlus1Month = endOfFebruary.AddMonths(1)\n",
"let endOfMarch = DateTime(endOfFebruary.Year,endOfFebruary.Month,1).AddMonths(2).AddDays(-1.0)\n",
"endOfFebruaryPlus1Month = endOfMarch // evaluates to false\n"]
          }
,
          {
           "cell_type": "markdown",
           "metadata": {},
           
           "source": ["That\u0027s kind of ugly.\n",
"\n",
"We also have to worry about things like what happens\n",
"if we add a month but it overlapped with daylight savings time?\n",
"What about timezones? If we\u0027re never dealing with times,\n",
"it\u0027s nice to ignore all these things.\n",
"\n",
"This is nicer way of doing it using nodatime\u0027s `YearMonth`:\n",
"\n"]
          }
,
          {
           "cell_type": "code",
           "metadata": {},
            "execution_count": 5, "outputs": [],
           "source": ["let february = YearMonth(2020,2) \n",
"let februaryPlus1Month = february.PlusMonths(1)\n",
"let march = YearMonth(2020,3)\n",
"februaryPlus1Month = march // true\n"]
          }
,
          {
           "cell_type": "markdown",
           "metadata": {},
           
           "source": ["Let\u0027s focus on a single stock.\n",
"\n"]
          }
,
          {
           "cell_type": "code",
           "metadata": {},
            "execution_count": 6, "outputs": [],
           "source": ["let amznReturns = \n",
"    // we\u0027re filtering and then storing as a map.\n",
"    // if we used a sequence instead of a map/arra/list, then\n",
"    // every time we used amznReturns, the sequence\n",
"    // would be recreated by filtering msfCsv.Rows.\n",
"    // That\u0027s one difference between (lazy) seq and\n",
"    // (eager) array/list/map.\n",
"    msfCsv.Rows\n",
"    |\u003e Seq.filter(fun x -\u003e x.Ticker = \"AMZN\")\n",
"    |\u003e Seq.map(fun x -\u003e\n",
"        let ym = YearMonth(x.Month.Year,x.Month.Month) \n",
"        let key = Permno x.Permno, ym\n",
"        key, x)\n",
"    |\u003e Map.ofSeq\n",
"\n",
"let getPastYearObs \n",
"    (returns:Map\u003c(SecurityId * YearMonth),MsfCsv.Row\u003e)\n",
"    (security: SecurityId, formationMonth: YearMonth) =\n",
"        [ -11 .. -1 ]\n",
"        |\u003e List.choose(fun i -\u003e \n",
"            let returnMonth = formationMonth.PlusMonths(i)\n",
"            Map.tryFind (security, returnMonth) returns)    \n",
"\n",
"// check Permno 84788 is Amzn\n",
"let amznPermno = Permno 84788\n",
"getPastYearObs amznReturns (amznPermno, YearMonth(2019,1))  \n",
"getPastYearObs amznReturns (Permno -400, YearMonth(2019,1))  \n",
"\n",
"// making cumulative returns \n",
"let cumulativeReturn rets =\n",
"    // using Seq so that it will work with any collection\n",
"    let cumulativeLogReturn =\n",
"        rets |\u003e Seq.sumBy (fun r -\u003e log (1.0 + r))\n",
"    exp(cumulativeLogReturn) - 1.0\n"]
          }
,
          {
           "cell_type": "markdown",
           "metadata": {},
           
           "source": ["check\n",
"\n"]
          }
,
          {
           "cell_type": "code",
           "metadata": {},
            "execution_count": 7, "outputs": [],
           "source": ["cumulativeReturn []\n",
"cumulativeReturn [1.0;-0.5]\n"]
          }
,
          {
           "cell_type": "markdown",
           "metadata": {},
           
           "source": ["check\n",
"\n"]
          }
,
          {
           "cell_type": "code",
           "metadata": {},
            "execution_count": 8, "outputs": [],
           "source": ["cumulativeReturn [0.1; 0.1; 0.1; 0.1]\n",
"\n",
"1.1 ** 4.0 - 1.0\n"]
          }
,
          {
           "cell_type": "markdown",
           "metadata": {},
           
           "source": ["We\u0027re now ready to create our Momentum signal function.\n",
"\n"]
          }
,
          {
           "cell_type": "code",
           "metadata": {},
            "execution_count": 9, "outputs": [],
           "source": ["// If you don\u0027t want to write the typessecurity, month all the time.\n",
"// \n",
"\n",
"let getMomentumSignal returns (security, formationMonth) =\n",
"    let priorObs = getPastYearObs  returns (security, formationMonth)\n",
"    let priorRets = priorObs |\u003e List.choose(fun x -\u003e x.Ret)\n",
"    // We should probably return None if there are no observations.\n",
"    // If they are all missing, Array.choose will return an empty\n",
"    // array. See:\n",
"    // ([| None; None |]: int option []) |\u003e Array.choose id\n",
"    //\n",
"    // So we\u0027ll check for an empty array and return None in that case.\n",
"    if List.isEmpty priorRets then\n",
"        None \n",
"    else\n",
"        Some { SecurityId = security \n",
"               FormationMonth = formationMonth\n",
"               Retm12m2 = cumulativeReturn priorRets\n",
"               N = priorRets.Length }\n",
"\n",
"// Check\n",
"getMomentumSignal amznReturns (amznPermno, YearMonth(2019,1)) \n",
"getMomentumSignal amznReturns (Permno -400, YearMonth(2019,1))  \n"]
          }
,
          {
           "cell_type": "markdown",
           "metadata": {},
           
           "source": ["One thing you may notice is that our momentum signal function gets everything from\n",
"it\u0027s inputs. That means that if we give it different intputs then\n",
"we could get momentum signals for other stocks.\n",
"\n",
"For example we can create a map collection like we had for amzn, but for all stocks.\n",
"\n"]
          }
,
          {
           "cell_type": "code",
           "metadata": {},
            "execution_count": 10, "outputs": [],
           "source": ["let msfByPermnoMonth =\n",
"    msfCsv.Rows\n",
"    |\u003e Seq.map(fun x -\u003e\n",
"        let ym = YearMonth(x.Month.Year,x.Month.Month) \n",
"        let key = Permno x.Permno, ym\n",
"        key, x)\n",
"    |\u003e Map.ofSeq\n",
"\n",
"// finding some permnos for notable tickers\n",
"\n",
"// don\u0027t use tickers. companies change tickers, so you might look up the wrong company\n",
"// That\u0027s why I\u0027m picking some tickers that I know haven\u0027t changed, but my function\n",
"// is using PERMNO.\n",
"\n",
"let notableTicks =\n",
"    [\"MSFT\";\"AAPL\";\"HOG\"]\n",
"    |\u003e Seq.map(fun tick -\u003e \n",
"        msfCsv.Rows\n",
"        // hover over \u0027find\u0027 in \u0027Seq.find\u0027 if you don\u0027t remember what it does. \n",
"        |\u003e Seq.find(fun row -\u003e row.Ticker = tick)\n",
"        |\u003e fun row -\u003e row.Ticker, row.Permno)\n",
"    |\u003e Map.ofSeq\n",
"\n",
"let msftPermno = Permno notableTicks[\"MSFT\"]\n",
"let aaplPermno = Permno notableTicks[\"AAPL\"]\n",
"let hogPermno = Permno notableTicks[\"HOG\"]\n",
"\n",
"let msftTestIndex = (msftPermno, YearMonth(2019,1))\n",
"let aaplTestIndex = (aaplPermno, YearMonth(2019,1))  \n",
"\n",
"getMomentumSignal msfByPermnoMonth msftTestIndex \n",
"getMomentumSignal msfByPermnoMonth aaplTestIndex  \n"]
          }
,
          {
           "cell_type": "markdown",
           "metadata": {},
           
           "source": ["and we can use [partial function application](https://fsharpforfunandprofit.com/posts/partial-application/)\n",
"to \"bake in\" the msfByPermnoMonth parameter so that we don\u0027t keep having to pass it around.\n",
"\n"]
          }
,
          {
           "cell_type": "code",
           "metadata": {},
            "execution_count": 11, "outputs": [],
           "source": ["let getMomentumSignalAny = getMomentumSignal msfByPermnoMonth\n",
"\n",
"getMomentumSignalAny msftTestIndex \n",
"getMomentumSignalAny aaplTestIndex  \n"]
          }
,
          {
           "cell_type": "markdown",
           "metadata": {},
           
           "source": ["## Defining the investment universe\n",
"\n",
"Let\u0027s say we have a portfolio formation month. Can we look up securities available to invest in?\n",
"\n"]
          }
,
          {
           "cell_type": "code",
           "metadata": {},
            "execution_count": 12, "outputs": [],
           "source": ["let securitiesByFormationMonth =\n",
"    msfCsv.Rows\n",
"    |\u003e Seq.groupBy(fun x -\u003e YearMonth(x.Month.Year, x.Month.Month))\n",
"    |\u003e Seq.map(fun (ym, xs) -\u003e \n",
"        ym, \n",
"        xs \n",
"        |\u003e Seq.map(fun x -\u003e Permno x.Permno) \n",
"        |\u003e Seq.toList)\n",
"    |\u003e Map.ofSeq\n",
"\n",
"let getInvestmentUniverse formationMonth =\n",
"    match Map.tryFind formationMonth securitiesByFormationMonth with\n",
"    | Some securities -\u003e \n",
"        { FormationMonth = formationMonth \n",
"          Securities = securities }\n",
"    | None -\u003e failwith $\"{formationMonth} is not in the date range\"      \n",
"\n",
"getInvestmentUniverse (YearMonth(2011,10))\n",
"// getInvestmentUniverse (YearMonth(1990,10))\n"]
          }
,
          {
           "cell_type": "markdown",
           "metadata": {},
           
           "source": ["You might also want to filter the investment universe by some criteria.\n",
"\n"]
          }
,
          {
           "cell_type": "code",
           "metadata": {},
            "execution_count": 13, "outputs": [],
           "source": ["let isCommonStock securityFormationMonth =\n",
"    match Map.tryFind securityFormationMonth msfByPermnoMonth with\n",
"    | None -\u003e false\n",
"    | Some x -\u003e List.contains x.Shrcd [10; 11]\n",
"\n",
"let onNyseNasdaqAmex securityFormationMonth =\n",
"    match Map.tryFind securityFormationMonth msfByPermnoMonth with\n",
"    | None -\u003e false\n",
"    | Some x -\u003e List.contains x.Exchcd [ 1; 2; 3]\n",
"\n",
"let hasPrice13mAgo (security, formationMonth:YearMonth) =\n",
"    //13m before the holding month, 12m before the formation month\n",
"    match Map.tryFind (security, formationMonth.PlusMonths(-12)) msfByPermnoMonth with\n",
"    | None -\u003e false\n",
"    | Some m13 -\u003e m13.Prc.IsSome\n",
"\n",
"let hasReturn2mAgo (security, formationMonth:YearMonth) =\n",
"    //2m before the holding month, 1m before the formation month\n",
"    match Map.tryFind (security, formationMonth.PlusMonths(-1)) msfByPermnoMonth with\n",
"    | None -\u003e false\n",
"    | Some m2 -\u003e m2.Ret.IsSome\n",
"\n",
"let hasMe1mAgo (security, formationMonth) =\n",
"    //1m before the holding month, so the formation month\n",
"    match Map.tryFind (security, formationMonth) msfByPermnoMonth with\n",
"    | None -\u003e false\n",
"    | Some m1 -\u003e m1.Prc.IsSome \u0026\u0026 m1.Shrout.IsSome\n",
"\n",
"let has8ReturnsPastYear securityFormationMonth =\n",
"    match getMomentumSignalAny securityFormationMonth with \n",
"    | None -\u003e false \n",
"    | Some x -\u003e x.N \u003e= 8\n",
"\n",
"let danielMoskowitzRestrictions securityFormationMonth =\n",
"    isCommonStock securityFormationMonth \u0026\u0026\n",
"    onNyseNasdaqAmex securityFormationMonth \u0026\u0026\n",
"    hasPrice13mAgo securityFormationMonth \u0026\u0026\n",
"    hasReturn2mAgo securityFormationMonth \u0026\u0026\n",
"    hasMe1mAgo securityFormationMonth \u0026\u0026\n",
"    has8ReturnsPastYear securityFormationMonth \n",
"\n",
"let restrictUniverse (investmentUniverse: InvestmentUniverse) =\n",
"    let filtered =\n",
"        investmentUniverse.Securities\n",
"        |\u003e List.filter(fun security -\u003e \n",
"            danielMoskowitzRestrictions (security, investmentUniverse.FormationMonth))\n",
"    { FormationMonth = investmentUniverse.FormationMonth\n",
"      Securities = filtered }        \n"]
          }
,
          {
           "cell_type": "markdown",
           "metadata": {},
           
           "source": ["Now we can see where we are.\n",
"\n"]
          }
,
          {
           "cell_type": "code",
           "metadata": {},
            "execution_count": 14, "outputs": [],
           "source": ["YearMonth(2011,10)\n",
"|\u003e getInvestmentUniverse\n",
"|\u003e restrictUniverse\n",
"\n",
"let investmentUniverse =\n",
"    YearMonth(2011,10)\n",
"    |\u003e getInvestmentUniverse\n",
"let restrictedInvestmentUniverse =\n",
"    investmentUniverse |\u003e restrictUniverse\n",
"\n",
"// See if we\u0027re excluding some securities.\n",
"investmentUniverse.Securities.Length\n",
"restrictedInvestmentUniverse.Securities.Length\n"]
          }
,
          {
           "cell_type": "markdown",
           "metadata": {},
           
           "source": ["## Momentum signals for our investment universe\n",
"\n",
"Let\u0027s look at how to transform our array of securities in our investment\n",
"universe into an array with the signals.\n",
"\n",
"Recall that our momentum function returns a type of observation specific to momentum.\n",
"\n"]
          }
,
          {
           "cell_type": "code",
           "metadata": {},
            "execution_count": 17, "outputs": [
          {
           "data": {
            "text/plain": ["input.fsx (1,1)-(1,21) typecheck error The value or constructor \u0027getMomentumSignalAny\u0027 is not defined."]
        },
           "execution_count": 17,
           "metadata": {},
           "output_type": "execute_result"
          }],
           "source": ["getMomentumSignalAny (Permno 84788, YearMonth(2019,1)) \n"]
          }
,
          {
           "cell_type": "markdown",
           "metadata": {},
           
           "source": ["This is fine, but if we want our code to work with any type of signal,\n",
"then we need to transform it into something more generic.\n",
"\n",
"This is the purpose of the `SecuritySignal` record in the `Portfolio` module.\n",
"It\u0027s the same thing that we had in the simpler portfolio formation example.\n",
"It can represent any signal that is a float.\n",
"And to hold an array of security signals for a particular month,\n",
"we now have the type `SecuritiesWithSignals` also from the `Portfolio` module.\n",
"\n",
"Let\u0027s write a function that transforms our momentum signal into a more generic\n",
"security signal.\n",
"\n"]
          }
,
          {
           "cell_type": "code",
           "metadata": {},
            "execution_count": 16, "outputs": [],
           "source": ["let getMomentumSecuritySignal (security, formationMonth ) =\n",
"    match getMomentumSignalAny (security, formationMonth) with\n",
"    | None -\u003e None\n",
"    | Some signalOb -\u003e\n",
"        let signal = { SecurityId = security; Signal = signalOb.Retm12m2 }\n",
"        Some signal\n"]
          }
,
          {
           "cell_type": "markdown",
           "metadata": {},
           
           "source": ["Now compare\n",
"\n"]
          }
,
          {
           "cell_type": "code",
           "metadata": {},
            "execution_count": 17, "outputs": [
          {
           "data": {
            "text/plain": ["input.fsx (1,1)-(1,21) typecheck error The value or constructor \u0027getMomentumSignalAny\u0027 is not defined."]
        },
           "execution_count": 17,
           "metadata": {},
           "output_type": "execute_result"
          }],
           "source": ["getMomentumSignalAny (Permno 84788, YearMonth(2019,1)) \n"]
          }
,
          {
           "cell_type": "code",
           "metadata": {},
            "execution_count": 18, "outputs": [
          {
           "data": {
            "text/plain": ["input.fsx (1,1)-(1,26) typecheck error The value or constructor \u0027getMomentumSecuritySignal\u0027 is not defined."]
        },
           "execution_count": 18,
           "metadata": {},
           "output_type": "execute_result"
          }],
           "source": ["getMomentumSecuritySignal (Permno 84788, YearMonth(2019,1)) \n"]
          }
,
          {
           "cell_type": "markdown",
           "metadata": {},
           
           "source": ["Now a function that takes our investment universe and returns\n",
"our securities with their (now more generic) signal.\n",
"\n"]
          }
,
          {
           "cell_type": "code",
           "metadata": {},
            "execution_count": 19, "outputs": [],
           "source": ["let getMomentumSignals (investmentUniverse: InvestmentUniverse) =\n",
"    let arrayOfSecuritySignals =\n",
"        investmentUniverse.Securities\n",
"        |\u003e List.choose(fun security -\u003e \n",
"            getMomentumSecuritySignal (security, investmentUniverse.FormationMonth))    \n",
"    \n",
"    { FormationMonth = investmentUniverse.FormationMonth \n",
"      Signals = arrayOfSecuritySignals }\n",
"\n",
"restrictedInvestmentUniverse\n",
"|\u003e getMomentumSignals\n",
"\n",
"\n",
"// or, if we want to look at the full pipeline\n",
"YearMonth(2015,7)\n",
"|\u003e getInvestmentUniverse\n",
"|\u003e restrictUniverse\n",
"|\u003e getMomentumSignals\n"]
          }
,
          {
           "cell_type": "markdown",
           "metadata": {},
           
           "source": ["## Assigning portfolios\n",
"\n",
"Now that we have the signals for our portfolio,\n",
"we can assign portfolios. For many strategies it\n",
"is common to use decile sorts. This means that\n",
"you sort securities into 10 portfolios based on the signal.\n",
"But other numbers of portfolios (tercile = 3, quintile = 5, etc)\n",
"are also common.\n",
"\n",
"There\u0027s a tradeoff between signal strength and diversification.\n",
"More portfolios means that top/bottom portfolios are stronger bets\n",
"on the signal. But there are fewer securities,\n",
"so they are also less diversified. Often, the trade-off between\n",
"a stronger signal vs. less diversificaton balances out.\n",
"Specifically, long-short tercile sorts may have a lower return spread\n",
"than decile sorts. But since terciles are better diversified,\n",
"the tercile and decile shorts are not as different when looking\n",
"at sharpe ratios.\n",
"\n",
"The `Portfolio` module has a function named `assignSignalSorts`\n",
"to form portfolios by sorting securities into `n` groups.\n",
"\n"]
          }
,
          {
           "cell_type": "code",
           "metadata": {},
            "execution_count": 20, "outputs": [],
           "source": ["YearMonth(2015,7)\n",
"|\u003e getInvestmentUniverse\n",
"|\u003e restrictUniverse\n",
"|\u003e getMomentumSignals\n",
"|\u003e assignSignalSort \"Momentum\" 10\n"]
          }
,
          {
           "cell_type": "markdown",
           "metadata": {},
           
           "source": ["## Calculating Portfolio weights\n",
"\n",
"We\u0027ll use a value-weight scheme. So we need a function that gets market capitalizations.\n",
"\n"]
          }
,
          {
           "cell_type": "code",
           "metadata": {},
            "execution_count": 21, "outputs": [],
           "source": ["let getMarketCap (security, formationMonth) =\n",
"    match Map.tryFind (security, formationMonth) msfByPermnoMonth with\n",
"    | None -\u003e None\n",
"    | Some x -\u003e \n",
"        match x.Prc, x.Shrout with \n",
"        // we need valid price and valid shrout to get market caps\n",
"        | Some prc, Some shrout -\u003e Some (security, prc*shrout)\n",
"        // anything else and we can\u0027t calculate it\n",
"        | _ -\u003e None\n"]
          }
,
          {
           "cell_type": "markdown",
           "metadata": {},
           
           "source": ["Some examples.\n",
"\n"]
          }
,
          {
           "cell_type": "code",
           "metadata": {},
            "execution_count": 22, "outputs": [
          {
           "data": {
            "text/plain": ["input.fsx (1,1)-(1,13) typecheck error The value or constructor \u0027getMarketCap\u0027 is not defined. Maybe you want one of the following:",
"",
"   GetsMarketCaps",
"",
"input.fsx (2,1)-(2,13) typecheck error The value or constructor \u0027getMarketCap\u0027 is not defined. Maybe you want one of the following:",
"",
"   GetsMarketCaps",
"",
"input.fsx (5,8)-(5,20) typecheck error The value or constructor \u0027getMarketCap\u0027 is not defined. Maybe you want one of the following:",
"",
"   GetsMarketCaps",
"",
"input.fsx (6,8)-(6,20) typecheck error The value or constructor \u0027getMarketCap\u0027 is not defined. Maybe you want one of the following:",
"",
"   GetsMarketCaps"]
        },
           "execution_count": 22,
           "metadata": {},
           "output_type": "execute_result"
          }],
           "source": ["getMarketCap (amznPermno, YearMonth(2019,1)) // Some marketCap\n",
"getMarketCap (amznPermno, YearMonth(2030,1)) // In the future, so None\n",
"\n",
"let exampleCapitalizations =\n",
"    [| getMarketCap (amznPermno, YearMonth(2019,1))\n",
"       getMarketCap (hogPermno, YearMonth(2019,1)) |]\n",
"    |\u003e Array.choose id // to unwrap the options\n",
"\n",
"let exampleValueWeights =\n",
"    let tot = exampleCapitalizations |\u003e Array.sumBy snd\n",
"    exampleCapitalizations\n",
"    |\u003e Array.map(fun (_id, cap) -\u003e cap / tot )\n",
"    |\u003e Array.sortDescending\n"]
          }
,
          {
           "cell_type": "markdown",
           "metadata": {},
           
           "source": ["Now imagining we have the same example in terms of an assigned portfolio\n",
"with made up signals.\n",
"\n"]
          }
,
          {
           "cell_type": "code",
           "metadata": {},
            "execution_count": 23, "outputs": [],
           "source": ["let mktCapExPort: AssignedPortfolio =\n",
"    { PortfolioId = Named(\"Mkt Cap Example\")\n",
"      FormationMonth = YearMonth(2019,1)\n",
"      Signals = [ { SecurityId = amznPermno; Signal = 1.0 }\n",
"                  { SecurityId = hogPermno; Signal = 1.0 } ] }\n"]
          }
,
          {
           "cell_type": "markdown",
           "metadata": {},
           
           "source": ["The portfolio module has a function that can help us.\n",
"It has two inputs.\n",
"\n",
"* A function that gets market capitalizations\n",
"\n",
"* An assigned portfolio\n",
"\n",
"We should see that it gives the same value weights.\n",
"\n"]
          }
,
          {
           "cell_type": "code",
           "metadata": {},
            "execution_count": 24, "outputs": [
          {
           "data": {
            "text/plain": ["input.fsx (2,22)-(2,34) typecheck error The value or constructor \u0027getMarketCap\u0027 is not defined. Maybe you want one of the following:",
"",
"   GetsMarketCaps",
"",
"input.fsx (2,35)-(2,47) typecheck error The value or constructor \u0027mktCapExPort\u0027 is not defined."]
        },
           "execution_count": 24,
           "metadata": {},
           "output_type": "execute_result"
          }],
           "source": ["let exampleValueWeights2 =\n",
"    giveValueWeights getMarketCap mktCapExPort\n"]
          }
,
          {
           "cell_type": "markdown",
           "metadata": {},
           
           "source": ["So now we can construct our portfolios with value weights.\n",
"\n"]
          }
,
          {
           "cell_type": "code",
           "metadata": {},
            "execution_count": 25, "outputs": [],
           "source": ["let portfoliosWithWeights =\n",
"    YearMonth(2015,7)\n",
"    |\u003e getInvestmentUniverse\n",
"    |\u003e restrictUniverse\n",
"    |\u003e getMomentumSignals\n",
"    |\u003e assignSignalSort \"Momentum\" 10\n",
"    |\u003e List.map (giveValueWeights getMarketCap)\n"]
          }
,
          {
           "cell_type": "markdown",
           "metadata": {},
           
           "source": ["Note that because of the size distribution,\n",
"some of these portfolios are not very diversified.\n",
"This is illustrated by inspecting maximum portfolio\n",
"weights.\n",
"\n"]
          }
,
          {
           "cell_type": "code",
           "metadata": {},
            "execution_count": 26, "outputs": [],
           "source": ["portfoliosWithWeights\n",
"|\u003e List.map(fun port -\u003e \n",
"    port.PortfolioId,\n",
"    port.Positions |\u003e List.map(fun pos -\u003e pos.Weight) |\u003e List.max,\n",
"    port.Positions |\u003e List.sumBy(fun pos -\u003e pos.Weight))\n"]
          }
,
          {
           "cell_type": "markdown",
           "metadata": {},
           
           "source": ["## Calculating Portfolio returns\n",
"\n",
"We need our function to get returns given weights.\n",
"\n",
"We can start with a function that gets returns.\n",
"It looks a lot like our function to get market capitalizations.\n",
"\n"]
          }
,
          {
           "cell_type": "code",
           "metadata": {},
            "execution_count": 27, "outputs": [],
           "source": ["let getSecurityReturn (security, formationMonth) =\n",
"    // If the security has a missing return, assume that we got 0.0.\n",
"    // Note: If we were doing excess returns, we\u0027d need 0.0 - rf\n",
"    let missingReturn = 0.0\n",
"    match Map.tryFind (security, formationMonth) msfByPermnoMonth with\n",
"    | None -\u003e security, missingReturn\n",
"    | Some x -\u003e  \n",
"        match x.Ret with \n",
"        | None -\u003e security, missingReturn\n",
"        | Some r -\u003e security, r\n",
"\n",
"getSecurityReturn (amznPermno, YearMonth(2019,1))        \n",
"\n",
"let portReturn =\n",
"    getPortfolioReturn getSecurityReturn exampleValueWeights2\n",
"\n",
"portfoliosWithWeights\n",
"|\u003e List.map (getPortfolioReturn getSecurityReturn)    \n",
"\n",
"\n",
"// Put it all together.\n",
"let sampleMonths = getSampleMonths (YearMonth(2010,5), YearMonth(2020,2)) \n",
"\n",
"sampleMonths |\u003e List.rev |\u003e List.take 3\n",
"\n",
"let formMomtenumPort ym =\n",
"    ym\n",
"    |\u003e getInvestmentUniverse\n",
"    |\u003e restrictUniverse\n",
"    |\u003e getMomentumSignals\n",
"    |\u003e assignSignalSort \"Momentum\" 10\n",
"    |\u003e List.map (giveValueWeights getMarketCap)\n",
"    |\u003e List.map (getPortfolioReturn getSecurityReturn)  \n"]
          }
,
          {
           "cell_type": "markdown",
           "metadata": {},
           
           "source": ["We can process months sequentially.\n",
"\n"]
          }
,
          {
           "cell_type": "code",
           "metadata": {},
            "execution_count": null, "outputs": [],
           "source": ["let momentumPortsSequential =\n",
"    sampleMonths\n",
"    |\u003e List.collect formMomtenumPort \n"]
          }
,
          {
           "cell_type": "markdown",
           "metadata": {},
           
           "source": ["Or we can speed things up and process months in Parallel using\n",
"all available CPU cores. Note that the only changes are to\n",
"\n",
"0 Use `Array.Parallel.collect` intead of \n",
"`List.collect`. The array collection is the only parallel\n",
"collection in base F# and the module functions are somewhat limited,\n",
"but if you google F# parallel processing\n",
"you can find other options and also asynchronous coding and PSeq\n",
"(I mostly use PSeq for my parallel code).\n",
"\n",
"1 `Array.Parallel.collect` expects to operate on arrays, so \n",
"we need to mhave our portfolio returned as arrays instead of lists.\n",
"This is what we are doing with `formMomentumPortArray`.\n",
"\n"]
          }
,
          {
           "cell_type": "code",
           "metadata": {},
            "execution_count": 28, "outputs": [],
           "source": ["let formMomentumPortArray ym =\n",
"    ym \n",
"    |\u003e formMomtenumPort \n",
"    |\u003e List.toArray\n",
"\n",
"let momentumPortsParallel =\n",
"    sampleMonths\n",
"    |\u003e List.toArray\n",
"    |\u003e Array.Parallel.collect formMomentumPortArray \n"]
          }],
            "metadata": {
            "kernelspec": {"display_name": ".NET (F#)", "language": "F#", "name": ".net-fsharp"},
            "langauge_info": {
        "file_extension": ".fs",
        "mimetype": "text/x-fsharp",
        "name": "C#",
        "pygments_lexer": "fsharp",
        "version": "4.5"
        }
        },
            "nbformat": 4,
            "nbformat_minor": 1
        }
        

