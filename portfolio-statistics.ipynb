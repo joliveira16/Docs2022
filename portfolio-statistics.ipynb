
        {
            "cells": [
          {
           "cell_type": "markdown",
           "metadata": {},
           
           "source": ["[![Binder](img/badge-binder.svg)](https://mybinder.org/v2/gh/nhirschey/teaching/gh-pages?filepath=portfolio-statistics.ipynb)\u0026emsp;\n",
"[![Script](img/badge-script.svg)](/Teaching//portfolio-statistics.fsx)\u0026emsp;\n",
"[![Notebook](img/badge-notebook.svg)](/Teaching//portfolio-statistics.ipynb)\n",
"\n",
"This page covers important fundamentals for building portfolios.\n",
"\n",
"* [Portfolio Weights](#Portfolio-Weights)\n",
"\n",
"* [Mean and Variance of Portfolio Returns](#Mean-and-Variance-of-Portfolio-Returns)\n",
"\n",
"* [Leverage](#Leverage)\n",
"\n",
"## Portfolio Weights\n",
"\n",
"An investment portfolio consists of positions in assets.\n",
"It is common to refer to a position\u0027s size as its share of\n",
"the portfolio\u0027s total value.\n",
"This is known as the asset\u0027s portfolio weight.\n",
"\n",
"The portfolio weight of asset $i$ in portfolio $p$ is\n",
"\n",
"\\begin{equation}\n",
"w_i=(\\text{positionValue}_i)/(\\text{portfolioValue}_p)\n",
"\\end{equation}\n",
"\n",
"### Long positions\n",
"\n",
"When an investor buys a long position,\n",
"they pay for the position now and hope to sell it later at a higher price.\n",
"\n",
"Let\u0027s look at cash flows for long positions.\n",
"\n",
"* At time 0: investor has $100 cash and no shares.\n",
"\n",
"* At time 1: investor takes their $100 of cash and buys 4 shares \n",
"of stock at a price of $25 per share. They have no cash and are long 4 shares.\n",
"\n",
"* At time 2: the stock has risen to $27, the investor sells their 4 shares.\n",
"They have $108 of cash and no shares.\n",
"\n",
"We can define some functions to update an account given these trades.\n",
"\n"]
          }
,
          {
           "cell_type": "code",
           "metadata": {},
            "execution_count": 1, "outputs": [],
           "source": ["// A record type that defines an account\n",
"type AccountBalances =\n",
"    { Time: int\n",
"      Cash: float \n",
"      Shares: float }\n",
"\n",
"// A record type that defines a trade\n",
"type Trade = \n",
"    { Shares: float \n",
"      Price : float }\n",
"\n",
"let accountAt0 = { Time = 0; Cash = 100.0; Shares = 0.0 }\n",
"let tradeAt1 = { Shares = 4.0; Price = 25.0 }\n",
"\n",
"// `updateAccount` is a function that updates an account after a trade is made.\n",
"// \n",
"// (trade: Trade) restricts the `trade` parameter to data of type `Trade`.\n",
"//\n",
"// (inAccount: AccountBalances) restricts the `inAccount` parameter \n",
"// to data of type `AccountBalances`\n",
"//\n",
"let updateAccount (trade: Trade) (inAccount: AccountBalances) =\n",
"    let tradeValue = trade.Price * trade.Shares\n",
"    let newCash = inAccount.Cash - tradeValue\n",
"    let newShares = inAccount.Shares + trade.Shares\n",
"    let newTime = inAccount.Time + 1\n",
"    { Time = newTime \n",
"      Cash = newCash \n",
"      Shares = newShares }\n"]
          }
,
          {
           "cell_type": "markdown",
           "metadata": {},
           
           "source": ["You can make names with spaces using \"``\" before and after.\n",
"\n"]
          }
,
          {
           "cell_type": "code",
           "metadata": {},
            "execution_count": 2, "outputs": [
          {
           "data": {
            "text/plain": ["{ Time = 1",
"  Cash = 0.0",
"  Shares = 4.0 }"]
        },
           "execution_count": 2,
           "metadata": {},
           "output_type": "execute_result"
          }],
           "source": ["let ``expected account at t1`` = { Time = 1; Cash = 0.0; Shares = 4.0}\n",
"let ``actual account at t1`` = updateAccount tradeAt1 accountAt0 \n",
"\n",
"``actual account at t1``\n"]
          }
,
          {
           "cell_type": "code",
           "metadata": {},
            "execution_count": 3, "outputs": [],
           "source": ["if ``actual account at t1`` \u003c\u003e ``expected account at t1`` then\n",
"    failwith \"You are not updating account correctly after a trade\"\n"]
          }
,
          {
           "cell_type": "markdown",
           "metadata": {},
           
           "source": ["Now we can calculate how the account value changes over time.\n",
"\n"]
          }
,
          {
           "cell_type": "code",
           "metadata": {},
            "execution_count": 4, "outputs": [
          {
           "data": {
            "text/plain": ["{ Time = 1",
"  Cash = 0.0",
"  Shares = 4.0 }"]
        },
           "execution_count": 4,
           "metadata": {},
           "output_type": "execute_result"
          }],
           "source": ["let accountAt1 = updateAccount tradeAt1 accountAt0\n",
"\n",
"accountAt1\n"]
          }
,
          {
           "cell_type": "code",
           "metadata": {},
            "execution_count": 5, "outputs": [
          {
           "data": {
            "text/plain": ["{ Time = 2",
"  Cash = 108.0",
"  Shares = 0.0 }"]
        },
           "execution_count": 5,
           "metadata": {},
           "output_type": "execute_result"
          }],
           "source": ["let tradeAt2 = { Shares = -4.0; Price = 27.0 }\n",
"let accountAt2 = updateAccount tradeAt2 accountAt1\n",
"\n",
"accountAt2\n"]
          }
,
          {
           "cell_type": "markdown",
           "metadata": {},
           
           "source": ["We could have also written this code using the pipe operator.\n",
"\n"]
          }
,
          {
           "cell_type": "code",
           "metadata": {},
            "execution_count": 6, "outputs": [
          {
           "data": {
            "text/plain": ["{ Time = 1",
"  Cash = 0.0",
"  Shares = 4.0 }"]
        },
           "execution_count": 6,
           "metadata": {},
           "output_type": "execute_result"
          }],
           "source": ["let accountAt1\u0027 = accountAt0 |\u003e updateAccount tradeAt1 // same as \"updateAccount tradeAt1 accountAt0\"\n",
"let accountAt2\u0027 = accountAt1 |\u003e updateAccount tradeAt2 // same as \"updateAccount tradeAt2 accountAt1\"\n",
"\n",
"accountAt1\u0027\n"]
          }
,
          {
           "cell_type": "code",
           "metadata": {},
            "execution_count": 7, "outputs": [
          {
           "data": {
            "text/plain": ["{ Time = 2",
"  Cash = 108.0",
"  Shares = 0.0 }"]
        },
           "execution_count": 7,
           "metadata": {},
           "output_type": "execute_result"
          }],
           "source": ["accountAt2\u0027\n"]
          }
,
          {
           "cell_type": "markdown",
           "metadata": {},
           
           "source": ["The pipe operator does not look very useful above because\n",
"we are only doing one operation.\n",
"It is more useful when you\u0027re doing a series of multiple operations.\n",
"This example recomputes the account value at time 2 by\n",
"chaining together updates for the trades at times 1 and 2.\n",
"\n"]
          }
,
          {
           "cell_type": "code",
           "metadata": {},
            "execution_count": 8, "outputs": [
          {
           "data": {
            "text/plain": ["{ Time = 2",
"  Cash = 108.0",
"  Shares = 0.0 }"]
        },
           "execution_count": 8,
           "metadata": {},
           "output_type": "execute_result"
          }],
           "source": ["let accountAt2\u0027\u0027 =\n",
"    accountAt0\n",
"    |\u003e updateAccount tradeAt1\n",
"    |\u003e updateAccount tradeAt2\n",
"\n",
"accountAt2\u0027\u0027\n"]
          }
,
          {
           "cell_type": "markdown",
           "metadata": {},
           
           "source": ["This code is closer to how you would describe it in English:\n",
"\"Start with the account at time 0,\n",
"update it for the trade at time 1,\n",
"then update it for the trade at time 2.\"\n",
"\n",
"\u003e Practice: complete the code for the `accountValue` function below.\n",
"It should calculate total account value of\n",
"the stock and cash positiions.\n",
"If it is correct then the account value test below should evaluate to `true`\n",
"\u003e \n",
"\n"]
          }
,
          {
           "cell_type": "code",
           "metadata": {},
            "execution_count": 9, "outputs": [],
           "source": ["let accountValue (stockPrice: float) (account: AccountBalances) =\n",
"    failwith \"unimplemented\"\n"]
          }
,
          {
           "cell_type": "code",
           "metadata": {},
            "execution_count": null, "outputs": [],
           "source": ["// simple account value test\n",
"(accountValue 27.0 accountAt2) = 108.0\n"]
          }
,
          {
           "cell_type": "markdown",
           "metadata": {},
           
           "source": ["### Portfolio weights of long positions\n",
"\n",
"Now that we understand long positions we can calculate portfolio weights for them.\n",
"Let\u0027s calculate weights for an example **Portfolio A** consisting of\n",
"\n",
"* $100 invested in AAPL\n",
"\n",
"* $300 invested in GOOG\n",
"\n",
"* $500 invested in TSLA\n",
"\n",
"These are all long positions, meaning that they have positive costs.\n",
"\n"]
          }
,
          {
           "cell_type": "code",
           "metadata": {},
            "execution_count": 10, "outputs": [
          {
           "data": {
            "text/plain": ["900.0"]
        },
           "execution_count": 10,
           "metadata": {},
           "output_type": "execute_result"
          }],
           "source": ["let aaplPositionValue = 100.0\n",
"let googPositionValue = 300.0\n",
"let tslaPositionValue = 500.0\n",
"\n",
"// This implies:\n",
"\n",
"let portfolioValueA = aaplPositionValue + googPositionValue + tslaPositionValue\n",
"\n",
"portfolioValueA\n"]
          }
,
          {
           "cell_type": "markdown",
           "metadata": {},
           
           "source": ["The portfolio weights are then\n",
"\n"]
          }
,
          {
           "cell_type": "code",
           "metadata": {},
            "execution_count": 11, "outputs": [
          {
           "data": {
            "text/plain": ["0.1111111111"]
        },
           "execution_count": 11,
           "metadata": {},
           "output_type": "execute_result"
          }],
           "source": ["let aaplWeight = aaplPositionValue / portfolioValueA\n",
"\n",
"aaplWeight\n"]
          }
,
          {
           "cell_type": "code",
           "metadata": {},
            "execution_count": 12, "outputs": [
          {
           "data": {
            "text/plain": ["0.3333333333"]
        },
           "execution_count": 12,
           "metadata": {},
           "output_type": "execute_result"
          }],
           "source": ["let googWeight = googPositionValue / portfolioValueA\n",
"\n",
"googWeight\n"]
          }
,
          {
           "cell_type": "code",
           "metadata": {},
            "execution_count": 13, "outputs": [
          {
           "data": {
            "text/plain": ["0.5555555556"]
        },
           "execution_count": 13,
           "metadata": {},
           "output_type": "execute_result"
          }],
           "source": ["let tslaWeight = tslaPositionValue / portfolioValueA\n",
"\n",
"tslaWeight\n"]
          }
,
          {
           "cell_type": "markdown",
           "metadata": {},
           
           "source": ["These weights for AAPL, GOOG, and TSLA are all positive.\n",
"Long positions always have positive weights.\n",
"\n",
"Another thing to notice is that the portfolio weights add up to one (or 100%):\n",
"\n"]
          }
,
          {
           "cell_type": "code",
           "metadata": {},
            "execution_count": 14, "outputs": [
          {
           "data": {
            "text/plain": ["Real: 00:00:00.000, CPU: 00:00:00.000, GC gen0: 0, gen1: 0, gen2: 0",
"",
"val it : float = 1.0"]
        },
           "execution_count": 14,
           "metadata": {},
           "output_type": "execute_result"
          }],
           "source": ["aaplWeight + googWeight + tslaWeight\n"]
          }
,
          {
           "cell_type": "markdown",
           "metadata": {},
           
           "source": ["This portfolio is a net long portfolio,\n",
"meaning that it costs you money to purchase it.\n",
"Net long portfolios such as this one must\n",
"have portfolio weights that add up to one.\n",
"Due to margin requirements, real-world\n",
"portfolios are generally net long--you must\n",
"put up capital to acquire the portfolio.\n",
"\n",
"The other type of portfolio is a zero-cost portfolio.\n",
"As the name implies, zero-cost portfolios do not require any investment to purchase.\n",
"There is no cost because long positions are funded by offsetting short positions.\n",
"To see how this works we need to examine how short positions work.\n",
"\n",
"### Short positions\n",
"\n",
"When an investor buys a long position,\n",
"they pay for the position now and hope to sell it later at a higher price.\n",
"A short sale reverses this.\n",
"The investor sells the position now and hopes to buy it back later at a lower price.\n",
"\n",
"We now go through an example to see how the cash flows work.\n",
"\n",
"* At time 0: investor has $100 cash and no shares.\n",
"\n",
"* At time 1: investor borrows 4 shares of stock and sells them\n",
"for a price of $25 per share. They have $200 cash and are short 4 shares.\n",
"\n",
"* At time 2: the stock has risen to $27, the investor buys back the\n",
"4 shares that they sold short and returns them to the person that\n",
"they borrowed them from. They have $92 of cash and 0 shares.\n",
"\n",
"The investor\u0027s cash and stock balances at the end of each period will look something like\n",
"\n"]
          }
,
          {
           "cell_type": "code",
           "metadata": {},
            "execution_count": 15, "outputs": [
          {
           "data": {
            "text/plain": ["{ Time = 1",
"  Cash = 200.0",
"  Shares = -4.0 }"]
        },
           "execution_count": 15,
           "metadata": {},
           "output_type": "execute_result"
          }],
           "source": ["let shortAt1 = { Shares = -4.0; Price = 25.0 }\n",
"let shortCoverAt2 = { Shares = 4.0; Price = 27.0 }\n",
"\n",
"// positions at t1\n",
"accountAt0 \n",
"|\u003e updateAccount shortAt1\n"]
          }
,
          {
           "cell_type": "code",
           "metadata": {},
            "execution_count": 16, "outputs": [
          {
           "data": {
            "text/plain": ["{ Time = 2",
"  Cash = 92.0",
"  Shares = 0.0 }"]
        },
           "execution_count": 16,
           "metadata": {},
           "output_type": "execute_result"
          }],
           "source": ["// positions at t2\n",
"accountAt0 \n",
"|\u003e updateAccount shortAt1 \n",
"|\u003e updateAccount shortCoverAt2\n"]
          }
,
          {
           "cell_type": "markdown",
           "metadata": {},
           
           "source": ["### Portfolio weights for short positions\n",
"\n",
"Let\u0027s create a new portfolio, **Portfolio B**, that includes short sales and calculate weights. Assume that you start with **Portfolio A** and short $150 of AMZN stock. This generates $150 of cash that you have to put somewhere. For individual investors, often your broker puts it in bonds and gives you none of the interest. Institutional investors can get some of the interest or even reinvest the proceeds in something else. We will assume that we are an institution and can reinvest all of the short proceeds. We will take the $150 and add $50 to each of our AAPL, GOOG, and TLSA positions.\n",
"\n",
"Short positions have negative portfolio weights.\n",
"\n"]
          }
,
          {
           "cell_type": "code",
           "metadata": {},
            "execution_count": 17, "outputs": [
          {
           "data": {
            "text/plain": ["900.0"]
        },
           "execution_count": 17,
           "metadata": {},
           "output_type": "execute_result"
          }],
           "source": ["let amznPositionValueB = -150.0\n",
"let aaplPositionValueB = aaplPositionValue + 50.0\n",
"let googPositionValueB = googPositionValue + 50.0\n",
"let tslaPositionValueB = tslaPositionValue + 50.0\n",
"\n",
"let portfolioValueB = \n",
"    amznPositionValueB +\n",
"    aaplPositionValueB +\n",
"    googPositionValueB +\n",
"    tslaPositionValueB\n",
"\n",
"portfolioValueB\n"]
          }
,
          {
           "cell_type": "markdown",
           "metadata": {},
           
           "source": ["Compare to **Portfolio A**\n",
"\n"]
          }
,
          {
           "cell_type": "code",
           "metadata": {},
            "execution_count": 18, "outputs": [
          {
           "data": {
            "text/plain": ["Real: 00:00:00.000, CPU: 00:00:00.000, GC gen0: 0, gen1: 0, gen2: 0",
"",
"val it : bool = true"]
        },
           "execution_count": 18,
           "metadata": {},
           "output_type": "execute_result"
          }],
           "source": ["portfolioValueA = portfolioValueB \n"]
          }
,
          {
           "cell_type": "markdown",
           "metadata": {},
           
           "source": ["The weights in **Portfolio B**:\n",
"\n"]
          }
,
          {
           "cell_type": "code",
           "metadata": {},
            "execution_count": 19, "outputs": [
          {
           "data": {
            "text/plain": ["-0.1666666667"]
        },
           "execution_count": 19,
           "metadata": {},
           "output_type": "execute_result"
          }],
           "source": ["let amznWeightB = amznPositionValueB / portfolioValueB\n",
"\n",
"amznWeightB\n"]
          }
,
          {
           "cell_type": "code",
           "metadata": {},
            "execution_count": 20, "outputs": [
          {
           "data": {
            "text/plain": ["0.1666666667"]
        },
           "execution_count": 20,
           "metadata": {},
           "output_type": "execute_result"
          }],
           "source": ["let aaplWeightB = aaplPositionValueB / portfolioValueB\n",
"\n",
"aaplWeightB\n"]
          }
,
          {
           "cell_type": "code",
           "metadata": {},
            "execution_count": 21, "outputs": [
          {
           "data": {
            "text/plain": ["0.3888888889"]
        },
           "execution_count": 21,
           "metadata": {},
           "output_type": "execute_result"
          }],
           "source": ["let googWeightB = googPositionValueB / portfolioValueB\n",
"\n",
"googWeightB\n"]
          }
,
          {
           "cell_type": "code",
           "metadata": {},
            "execution_count": 22, "outputs": [
          {
           "data": {
            "text/plain": ["0.6111111111"]
        },
           "execution_count": 22,
           "metadata": {},
           "output_type": "execute_result"
          }],
           "source": ["let tslaWeightB = tslaPositionValueB / portfolioValueB\n",
"\n",
"tslaWeightB\n"]
          }
,
          {
           "cell_type": "markdown",
           "metadata": {},
           
           "source": ["The weights of **Portfolio B** also add up to one.\n",
"\n"]
          }
,
          {
           "cell_type": "code",
           "metadata": {},
            "execution_count": 23, "outputs": [
          {
           "data": {
            "text/plain": ["Real: 00:00:00.000, CPU: 00:00:00.000, GC gen0: 0, gen1: 0, gen2: 0",
"",
"val it : float = 1.0"]
        },
           "execution_count": 23,
           "metadata": {},
           "output_type": "execute_result"
          }],
           "source": ["amznWeightB + aaplWeightB + googWeightB + tslaWeightB\n"]
          }
,
          {
           "cell_type": "markdown",
           "metadata": {},
           
           "source": ["### Zero-cost portfolios\n",
"\n",
"Another type of portfolio that you will see is zero-cost portfolios.\n",
"They are called self funding because the short sale proceeds\n",
"fund the long investments. The portfolio weights add up to 0.\n",
"You can scale weights relative to what they would be per $ long or short.\n",
"\n",
"An example:\n",
"\n"]
          }
,
          {
           "cell_type": "code",
           "metadata": {},
            "execution_count": 24, "outputs": [
          {
           "data": {
            "text/plain": ["koWeight = -1",
"",
"hogWeight= 0.8",
"",
"yumWeight= 0.2"]
        },
           "execution_count": 24,
           "metadata": {},
           "output_type": "execute_result"
          }],
           "source": ["// Portfolio C\n",
"let koPositionValue = -50.0\n",
"let hogPositionValue = 40.0\n",
"let yumPositionValue = 10.0\n",
"\n",
"let dollarsLong = 50.0\n",
"let koWeight = koPositionValue / dollarsLong\n",
"let hogWeight = hogPositionValue / dollarsLong\n",
"let yumWeight = yumPositionValue / dollarsLong\n",
"\n",
"printfn $\"koWeight = {koWeight}\"\n",
"printfn $\"hogWeight= {hogWeight}\"\n",
"printfn $\"yumWeight= {yumWeight}\"\n"]
          }
,
          {
           "cell_type": "code",
           "metadata": {},
            "execution_count": 25, "outputs": [
          {
           "data": {
            "text/plain": ["5.551115123e-17"]
        },
           "execution_count": 25,
           "metadata": {},
           "output_type": "execute_result"
          }],
           "source": ["koWeight + hogWeight + yumWeight\n"]
          }
,
          {
           "cell_type": "markdown",
           "metadata": {},
           
           "source": ["### Calculating weights using a list of positions\n",
"\n",
"The calculations that we did thus far required code for each position.\n",
"We did the same thing to each position, so there was some repetition.\n",
"We can reduce the repetition by putting the positions into a list\n",
"and then operating on the elements of the list via iteration.\n",
"\n"]
          }
,
          {
           "cell_type": "code",
           "metadata": {},
            "execution_count": 26, "outputs": [
          {
           "data": {
            "text/plain": ["[-150.0; 150.0; 350.0; 550.0]"]
        },
           "execution_count": 26,
           "metadata": {},
           "output_type": "execute_result"
          }],
           "source": ["// defining a position record type\n",
"type Position = { Id: string; PositionValue: float }\n",
"\n",
"// assigning a list of positions to a value named portfolio\n",
"let portfolio =\n",
"    [ { Id = \"AMZN\"; PositionValue = amznPositionValueB }\n",
"      { Id = \"AAPL\"; PositionValue = aaplPositionValueB }\n",
"      { Id = \"GOOG\"; PositionValue = googPositionValueB }\n",
"      { Id = \"TSLA\"; PositionValue = tslaPositionValueB } ]\n",
"\n",
"// This is called a list comprehension\n",
"let positionValues = [ for p in portfolio -\u003e p.PositionValue ]\n"]
          }
,
          {
           "cell_type": "markdown",
           "metadata": {},
           
           "source": ["The list module has many different functions for operating on lists.\n",
"If you type `List.` you should see many different functions pop up.\n",
"These functions are very useful. We will explore them in more detail later.\n",
"\n",
"For now, let\u0027s see what `List.map` does.\n",
"\n"]
          }
,
          {
           "cell_type": "code",
           "metadata": {},
            "execution_count": 28, "outputs": [
          {
           "data": {
            "text/plain": ["Real: 00:00:00.000, CPU: 00:00:00.000, GC gen0: 0, gen1: 0, gen2: 0",
"",
"val it : float list = [-150.0; 150.0; 350.0; 550.0]"]
        },
           "execution_count": 28,
           "metadata": {},
           "output_type": "execute_result"
          }],
           "source": ["portfolio |\u003e List.map (fun p -\u003e p.PositionValue)\n"]
          }
,
          {
           "cell_type": "markdown",
           "metadata": {},
           
           "source": ["This is the same result as the `positionValues` value that we calculated\n",
"using the list comprehension.\n",
"`List.map` \"maps\" each element of the list to an output using a function.\n",
"In this case, our function `(fun p -\u003e p.PositionValue)` was an anonymous function.\n",
"\n",
"Another useful function from the list module is `List.sum`.\n",
"We can use it to calculate the total value of the portfolio by\n",
"summing position values.\n",
"\n"]
          }
,
          {
           "cell_type": "code",
           "metadata": {},
            "execution_count": 29, "outputs": [
          {
           "data": {
            "text/plain": ["900.0"]
        },
           "execution_count": 29,
           "metadata": {},
           "output_type": "execute_result"
          }],
           "source": ["let portfolioValue = positionValues |\u003e List.sum\n"]
          }
,
          {
           "cell_type": "markdown",
           "metadata": {},
           
           "source": ["And with this we can calculate portfolio weights.\n",
"\n"]
          }
,
          {
           "cell_type": "code",
           "metadata": {},
            "execution_count": 31, "outputs": [
          {
           "data": {
            "text/plain": ["[(\"AMZN\", -0.1666666667); (\"AAPL\", 0.1666666667); (\"GOOG\", 0.3888888889);",
" (\"TSLA\", 0.6111111111)]"]
        },
           "execution_count": 31,
           "metadata": {},
           "output_type": "execute_result"
          }],
           "source": ["let portfolioWeights =\n",
"    [ for p in portfolio -\u003e \n",
"        let weight = p.PositionValue / portfolioValue \n",
"        p.Id, weight ]\n",
"portfolioWeights\n"]
          }
,
          {
           "cell_type": "markdown",
           "metadata": {},
           
           "source": ["## Mean and Variance of Portfolio Returns\n",
"\n",
"### A portfolio\u0027s return.\n",
"\n",
"A portfolio\u0027s return is the weighted average return of the portfolio\u0027s positions.\n",
"\n",
"\\begin{equation}\n",
" r_p = \\Sigma^N_{i=1} w_i r_i,\n",
"\\end{equation}\n",
"\n",
"where $r$ is return, $i$ indexes stocks, and $w$ is portfolio weights.\n",
"\n"]
          }
,
          {
           "cell_type": "code",
           "metadata": {},
            "execution_count": 33, "outputs": [
          {
           "data": {
            "text/plain": ["[0.025; 0.15]"]
        },
           "execution_count": 33,
           "metadata": {},
           "output_type": "execute_result"
          }],
           "source": ["type PositionsWithReturn =\n",
"    { Id: string \n",
"      Weight: float \n",
"      Return: float }\n",
"\n",
"let exPortfolio =\n",
"    [ { Id = \"A\"; Weight = 0.25; Return = 0.1 }\n",
"      { Id = \"B\"; Weight = 0.75; Return = 0.2 } ]\n",
"\n",
"let weightsXreturn = [ for pos in exPortfolio -\u003e pos.Weight * pos.Return ]\n",
"weightsXreturn\n"]
          }
,
          {
           "cell_type": "code",
           "metadata": {},
            "execution_count": 35, "outputs": [
          {
           "data": {
            "text/plain": ["0.175"]
        },
           "execution_count": 35,
           "metadata": {},
           "output_type": "execute_result"
          }],
           "source": ["let exPortfolioReturn = weightsXreturn |\u003e List.sum \n",
"exPortfolioReturn\n"]
          }
,
          {
           "cell_type": "markdown",
           "metadata": {},
           
           "source": ["We are now going to look at returns of actual stock and bond portfolios.\n",
"The two portfolios are [VTI](https://investor.vanguard.com/etf/profile/VTI) and\n",
"[BND](https://investor.vanguard.com/etf/profile/BND).\n",
"These are value-weighted exchange traded funds (ETFs).\n",
"VTI tracks a stock market index and BND tracks a bond market index.\n",
"They are good proxies for the return of the overall US stock and bond markets.\n",
"\n",
"We are going to load some helper code that allows us to download and plot this data.\n",
"This will introduce using `#load` to load scripts with external code,\n",
"the `nuget` package manager for loading external libraries,\n",
"and how to open namespaces.\n",
"\n",
"When you type `#load \"Script.fsx\"` in the REPL,\n",
"F# interactive compiles the code in `Script.fsx` and puts it into\n",
"a code module with the same name as the script.\n",
"\n",
"We are going to use a helper script called `YahooFinance.fsx` that includes\n",
"code for requesting price histories from yahoo. To download it,\n",
"go to the [YahooFinance](YahooFinance.html) page and click the \"download script\"\n",
"button at the top. Make sure that you have saved it in\n",
"the same directory as this file.\n",
"\n",
"If you have downloaded it correctly then the following code will evaluate to `true`.\n",
"\n"]
          }
,
          {
           "cell_type": "code",
           "metadata": {},
            "execution_count": 37, "outputs": [
          {
           "data": {
            "text/plain": ["true"]
        },
           "execution_count": 37,
           "metadata": {},
           "output_type": "execute_result"
          }],
           "source": ["System.IO.File.Exists(\"YahooFinance.fsx\")\n"]
          }
,
          {
           "cell_type": "markdown",
           "metadata": {},
           
           "source": ["Assuming that the above code evaluated to `true` we can now load it into our session.\n",
"\n"]
          }
,
          {
           "cell_type": "code",
           "metadata": {},
            "execution_count": 38, "outputs": [],
           "source": ["#load \"YahooFinance.fsx\"\n"]
          }
,
          {
           "cell_type": "markdown",
           "metadata": {},
           
           "source": ["Namespaces are a hierarchical way of organizing code.\n",
"In the above checking for the existence of a file we have a hierarchy of\n",
"`System.IO` where the period `.` separates the `System` and `IO` namespaces.\n",
"If we `open` a namespace, then we have access to the code inside the namespace directly.\n",
"\n",
"It is common to open the `System` namespace.\n",
"\n"]
          }
,
          {
           "cell_type": "code",
           "metadata": {},
            "execution_count": 39, "outputs": [],
           "source": ["open System\n"]
          }
,
          {
           "cell_type": "markdown",
           "metadata": {},
           
           "source": ["Now we can leave `System` off when accessing code in the `System` namespace.\n",
"\n"]
          }
,
          {
           "cell_type": "code",
           "metadata": {},
            "execution_count": 40, "outputs": [
          {
           "data": {
            "text/plain": ["true"]
        },
           "execution_count": 40,
           "metadata": {},
           "output_type": "execute_result"
          }],
           "source": ["IO.File.Exists(\"YahooFinance.fsx\")\n"]
          }
,
          {
           "cell_type": "markdown",
           "metadata": {},
           
           "source": ["We also want to open the `YahooFinance` module from `YahooFinance.fsx`,\n",
"which is similar to a namespace.\n",
"\n"]
          }
,
          {
           "cell_type": "code",
           "metadata": {},
            "execution_count": 41, "outputs": [],
           "source": ["open YahooFinance\n"]
          }
,
          {
           "cell_type": "markdown",
           "metadata": {},
           
           "source": ["We are ready to request some data. Let\u0027s define our start and end dates.\n",
"`DateTime` is a type in the `System` namespace.\n",
"We have opened that namespace so we can access the type directly.\n",
"\n"]
          }
,
          {
           "cell_type": "code",
           "metadata": {},
            "execution_count": 42, "outputs": [
          {
           "data": {
            "text/plain": ["2/28/2022 2:49:06 PM"]
        },
           "execution_count": 42,
           "metadata": {},
           "output_type": "execute_result"
          }],
           "source": ["let myStart = DateTime(2010,1,1)\n",
"let myEnd = DateTime.UtcNow\n",
"myEnd\n"]
          }
,
          {
           "cell_type": "markdown",
           "metadata": {},
           
           "source": ["Our `YahooFinance` module has code for requesting price histories of stocks.\n",
"\n"]
          }
,
          {
           "cell_type": "code",
           "metadata": {},
            "execution_count": 43, "outputs": [],
           "source": ["let bnd = YahooFinance.PriceHistory(\"BND\",startDate=myStart,endDate=myEnd,interval = Interval.Daily)\n",
"let vti = YahooFinance.PriceHistory(\"VTI\",startDate=myStart,endDate=myEnd,interval = Interval.Daily)\n"]
          }
,
          {
           "cell_type": "markdown",
           "metadata": {},
           
           "source": ["This returns several data items for each point in time.\n",
"\n"]
          }
,
          {
           "cell_type": "code",
           "metadata": {},
            "execution_count": null, "outputs": [
          {
           "data": {
            "text/plain": ["[{ Symbol = \"VTI\"",
"   Date = 1/4/2010 12:00:00 AM",
"   Open = 56.860001",
"   High = 57.380001",
"   Low = 56.84",
"   Close = 57.310001",
"   AdjustedClose = 45.772919",
"   Volume = 2251500.0 }; { Symbol = \"VTI\"",
"                           Date = 1/5/2010 12:00:00 AM",
"                           Open = 57.34",
"                           High = 57.540001",
"                           Low = 57.110001",
"                           Close = 57.529999",
"                           AdjustedClose = 45.948658",
"                           Volume = 1597700.0 }; { Symbol = \"VTI\"",
"                                                   Date = 1/6/2010 12:00:00 AM",
"                                                   Open = 57.5",
"                                                   High = 57.720001",
"                                                   Low = 57.41",
"                                                   Close = 57.610001",
"                                                   AdjustedClose = 46.012539",
"                                                   Volume = 2120300.0 };",
" { Symbol = \"VTI\"",
"   Date = 1/7/2010 12:00:00 AM",
"   Open = 57.549999",
"   High = 57.889999",
"   Low = 57.290001",
"   Close = 57.849998",
"   AdjustedClose = 46.204227",
"   Volume = 1656700.0 }]"]
        },
           "execution_count": null,
           "metadata": {},
           "output_type": "execute_result"
          }],
           "source": ["vti[0..3]\n"]
          }
,
          {
           "cell_type": "markdown",
           "metadata": {},
           
           "source": ["The adjusted close is adjusted for stock splits and dividends.\n",
"This adjustment is done so that you can calculate returns from the price changes.\n",
"\n",
"Let\u0027s see what it looks like to plot it.\n",
"We\u0027re going to use the [plotly.NET](https://plotly.net) library for this.\n",
"We download the code from the [nuget.org](http://www.nuget.org) package manager.\n",
"\n",
"This is equivalent to loading libraries with `pip` or `conda` in python\n",
"or `install.packages` in R.\n",
"\n"]
          }
,
          {
           "cell_type": "code",
           "metadata": {},
            "execution_count": 45, "outputs": [],
           "source": ["#r \"nuget: Plotly.NET, 2.0.0-preview.17\"\n",
"#r \"nuget: Plotly.NET.Interactive, 2.0.0-preview.17\"\n",
"\n",
"\n",
"open Plotly.NET\n"]
          }
,
          {
           "cell_type": "markdown",
           "metadata": {},
           
           "source": ["Above we are loading an exact version by using a \",\" and version number.\n",
"\n",
"Plot prices as a line chart.\n",
"\n"]
          }
,
          {
           "cell_type": "code",
           "metadata": {},
            "execution_count": 46, "outputs": [],
           "source": ["let vtiAdjPrices = [ for period in vti -\u003e period.Date, period.AdjustedClose ]\n"]
          }
,
          {
           "cell_type": "code",
           "metadata": {},
            "execution_count": null, "outputs": [
          {
           "data": {
            "text/html": ["\u003cdiv id=\"fd05dc63-dd63-4ec2-a9c7-1c8ee1aee7a9\"\u003e\u003c!-- Plotly chart will be drawn inside this DIV --\u003e\u003c/div\u003e",
"",
"\u003cscript type=\"text/javascript\"\u003e",
"",
"",
"",
"            var renderPlotly_fd05dc63dd634ec2a9c71c8ee1aee7a9 = function() {",
"",
"            var fsharpPlotlyRequire = requirejs.config({context:\u0027fsharp-plotly\u0027,paths:{plotly:\u0027https://cdn.plot.ly/plotly-2.6.3.min\u0027}}) || require;",
"",
"            fsharpPlotlyRequire([\u0027plotly\u0027], function(Plotly) {",
"",
"",
"",
"            var data = [{\"type\":\"scatter\",\"mode\":\"lines\",\"x\":[\"2010-01-04T00:00:00+00:00\",\"2010-01-05T00:00:00+00:00\",\"2010-01-06T00:00:00+00:00\",\"2010-01-07T00:00:00+00:00\",\"2010-01-08T00:00:00+00:00\",\"2010-01-11T00:00:00+00:00\",\"2010-01-12T00:00:00+00:00\",\"2010-01-13T00:00:00+00:00\",\"2010-01-14T00:00:00+00:00\",\"2010-01-15T00:00:00+00:00\",\"2010-01-19T00:00:00+00:00\",\"2010-01-20T00:00:00+00:00\",\"2010-01-21T00:00:00+00:00\",\"2010-01-22T00:00:00+00:00\",\"2010-01-25T00:00:00+00:00\",\"2010-01-26T00:00:00+00:00\",\"2010-01-27T00:00:00+00:00\",\"2010-01-28T00:00:00+00:00\",\"2010-01-29T00:00:00+00:00\",\"2010-02-01T00:00:00+00:00\",\"2010-02-02T00:00:00+00:00\",\"2010-02-03T00:00:00+00:00\",\"2010-02-04T00:00:00+00:00\",\"2010-02-05T00:00:00+00:00\",\"2010-02-08T00:00:00+00:00\",\"2010-02-09T00:00:00+00:00\",\"2010-02-10T00:00:00+00:00\",\"2010-02-11T00:00:00+00:00\",\"2010-02-12T00:00:00+00:00\",\"2010-02-16T00:00:00+00:00\",\"2010-02-17T00:00:00+00:00\",\"2010-02-18T00:00:00+00:00\",\"2010-02-19T00:00:00+00:00\",\"2010-02-22T00:00:00+00:00\",\"2010-02-23T00:00:00+00:00\",\"2010-02-24T00:00:00+00:00\",\"2010-02-25T00:00:00+00:00\",\"2010-02-26T00:00:00+00:00\",\"2010-03-01T00:00:00+00:00\",\"2010-03-02T00:00:00+00:00\",\"2010-03-03T00:00:00+00:00\",\"2010-03-04T00:00:00+00:00\",\"2010-03-05T00:00:00+00:00\",\"2010-03-08T00:00:00+00:00\",\"2010-03-09T00:00:00+00:00\",\"2010-03-10T00:00:00+00:00\",\"2010-03-11T00:00:00+00:00\",\"2010-03-12T00:00:00+00:00\",\"2010-03-15T00:00:00+00:00\",\"2010-03-16T00:00:00+00:00\",\"2010-03-17T00:00:00+00:00\",\"2010-03-18T00:00:00+00:00\",\"2010-03-19T00:00:00+00:00\",\"2010-03-22T00:00:00+00:00\",\"2010-03-23T00:00:00+00:00\",\"2010-03-24T00:00:00+00:00\",\"2010-03-25T00:00:00+00:00\",\"2010-03-26T00:00:00+00:00\",\"2010-03-29T00:00:00+00:00\",\"2010-03-30T00:00:00+00:00\",\"2010-03-31T00:00:00+00:00\",\"2010-04-01T00:00:00+00:00\",\"2010-04-05T00:00:00+00:00\",\"2010-04-06T00:00:00+00:00\",\"2010-04-07T00:00:00+00:00\",\"2010-04-08T00:00:00+00:00\",\"2010-04-09T00:00:00+00:00\",\"2010-04-12T00:00:00+00:00\",\"2010-04-13T00:00:00+00:00\",\"2010-04-14T00:00:00+00:00\",\"2010-04-15T00:00:00+00:00\",\"2010-04-16T00:00:00+00:00\",\"2010-04-19T00:00:00+00:00\",\"2010-04-20T00:00:00+00:00\",\"2010-04-21T00:00:00+00:00\",\"2010-04-22T00:00:00+00:00\",\"2010-04-23T00:00:00+00:00\",\"2010-04-26T00:00:00+00:00\",\"2010-04-27T00:00:00+00:00\",\"2010-04-28T00:00:00+00:00\",\"2010-04-29T00:00:00+00:00\",\"2010-04-30T00:00:00+00:00\",\"2010-05-03T00:00:00+00:00\",\"2010-05-04T00:00:00+00:00\",\"2010-05-05T00:00:00+00:00\",\"2010-05-06T00:00:00+00:00\",\"2010-05-07T00:00:00+00:00\",\"2010-05-10T00:00:00+00:00\",\"2010-05-11T00:00:00+00:00\",\"2010-05-12T00:00:00+00:00\",\"2010-05-13T00:00:00+00:00\",\"2010-05-14T00:00:00+00:00\",\"2010-05-17T00:00:00+00:00\",\"2010-05-18T00:00:00+00:00\",\"2010-05-19T00:00:00+00:00\",\"2010-05-20T00:00:00+00:00\",\"2010-05-21T00:00:00+00:00\",\"2010-05-24T00:00:00+00:00\",\"2010-05-25T00:00:00+00:00\",\"2010-05-26T00:00:00+00:00\",\"2010-05-27T00:00:00+00:00\",\"2010-05-28T00:00:00+00:00\",\"2010-06-01T00:00:00+00:00\",\"2010-06-02T00:00:00+00:00\",\"2010-06-03T00:00:00+00:00\",\"2010-06-04T00:00:00+00:00\",\"2010-06-07T00:00:00+00:00\",\"2010-06-08T00:00:00+00:00\",\"2010-06-09T00:00:00+00:00\",\"2010-06-10T00:00:00+00:00\",\"2010-06-11T00:00:00+00:00\",\"2010-06-14T00:00:00+00:00\",\"2010-06-15T00:00:00+00:00\",\"2010-06-16T00:00:00+00:00\",\"2010-06-17T00:00:00+00:00\",\"2010-06-18T00:00:00+00:00\",\"2010-06-21T00:00:00+00:00\",\"2010-06-22T00:00:00+00:00\",\"2010-06-23T00:00:00+00:00\",\"2010-06-24T00:00:00+00:00\",\"2010-06-25T00:00:00+00:00\",\"2010-06-28T00:00:00+00:00\",\"2010-06-29T00:00:00+00:00\",\"2010-06-30T00:00:00+00:00\",\"2010-07-01T00:00:00+00:00\",\"2010-07-02T00:00:00+00:00\",\"2010-07-06T00:00:00+00:00\",\"2010-07-07T00:00:00+00:00\",\"2010-07-08T00:00:00+00:00\",\"2010-07-09T00:00:00+00:00\",\"2010-07-12T00:00:00+00:00\",\"2010-07-13T00:00:00+00:00\",\"2010-07-14T00:00:00+00:00\",\"2010-07-15T00:00:00+00:00\",\"2010-07-16T00:00:00+00:00\",\"2010-07-19T00:00:00+00:00\",\"2010-07-20T00:00:00+00:00\",\"2010-07-21T00:00:00+00:00\",\"2010-07-22T00:00:00+00:00\",\"2010-07-23T00:00:00+00:00\",\"2010-07-26T00:00:00+00:00\",\"2010-07-27T00:00:00+00:00\",\"2010-07-28T00:00:00+00:00\",\"2010-07-29T00:00:00+00:00\",\"2010-07-30T00:00:00+00:00\",\"2010-08-02T00:00:00+00:00\",\"2010-08-03T00:00:00+00:00\",\"2010-08-04T00:00:00+00:00\",\"2010-08-05T00:00:00+00:00\",\"2010-08-06T00:00:00+00:00\",\"2010-08-09T00:00:00+00:00\",\"2010-08-10T00:00:00+00:00\",\"2010-08-11T00:00:00+00:00\",\"2010-08-12T00:00:00+00:00\",\"2010-08-13T00:00:00+00:00\",\"2010-08-16T00:00:00+00:00\",\"2010-08-17T00:00:00+00:00\",\"2010-08-18T00:00:00+00:00\",\"2010-08-19T00:00:00+00:00\",\"2010-08-20T00:00:00+00:00\",\"2010-08-23T00:00:00+00:00\",\"2010-08-24T00:00:00+00:00\",\"2010-08-25T00:00:00+00:00\",\"2010-08-26T00:00:00+00:00\",\"2010-08-27T00:00:00+00:00\",\"2010-08-30T00:00:00+00:00\",\"2010-08-31T00:00:00+00:00\",\"2010-09-01T00:00:00+00:00\",\"2010-09-02T00:00:00+00:00\",\"2010-09-03T00:00:00+00:00\",\"2010-09-07T00:00:00+00:00\",\"2010-09-08T00:00:00+00:00\",\"2010-09-09T00:00:00+00:00\",\"2010-09-10T00:00:00+00:00\",\"2010-09-13T00:00:00+00:00\",\"2010-09-14T00:00:00+00:00\",\"2010-09-15T00:00:00+00:00\",\"2010-09-16T00:00:00+00:00\",\"2010-09-17T00:00:00+00:00\",\"2010-09-20T00:00:00+00:00\",\"2010-09-21T00:00:00+00:00\",\"2010-09-22T00:00:00+00:00\",\"2010-09-23T00:00:00+00:00\",\"2010-09-24T00:00:00+00:00\",\"2010-09-27T00:00:00+00:00\",\"2010-09-28T00:00:00+00:00\",\"2010-09-29T00:00:00+00:00\",\"2010-09-30T00:00:00+00:00\",\"2010-10-01T00:00:00+00:00\",\"2010-10-04T00:00:00+00:00\",\"2010-10-05T00:00:00+00:00\",\"2010-10-06T00:00:00+00:00\",\"2010-10-07T00:00:00+00:00\",\"2010-10-08T00:00:00+00:00\",\"2010-10-11T00:00:00+00:00\",\"2010-10-12T00:00:00+00:00\",\"2010-10-13T00:00:00+00:00\",\"2010-10-14T00:00:00+00:00\",\"2010-10-15T00:00:00+00:00\",\"2010-10-18T00:00:00+00:00\",\"2010-10-19T00:00:00+00:00\",\"2010-10-20T00:00:00+00:00\",\"2010-10-21T00:00:00+00:00\",\"2010-10-22T00:00:00+00:00\",\"2010-10-25T00:00:00+00:00\",\"2010-10-26T00:00:00+00:00\",\"2010-10-27T00:00:00+00:00\",\"2010-10-28T00:00:00+00:00\",\"2010-10-29T00:00:00+00:00\",\"2010-11-01T00:00:00+00:00\",\"2010-11-02T00:00:00+00:00\",\"2010-11-03T00:00:00+00:00\",\"2010-11-04T00:00:00+00:00\",\"2010-11-05T00:00:00+00:00\",\"2010-11-08T00:00:00+00:00\",\"2010-11-09T00:00:00+00:00\",\"2010-11-10T00:00:00+00:00\",\"2010-11-11T00:00:00+00:00\",\"2010-11-12T00:00:00+00:00\",\"2010-11-15T00:00:00+00:00\",\"2010-11-16T00:00:00+00:00\",\"2010-11-17T00:00:00+00:00\",\"2010-11-18T00:00:00+00:00\",\"2010-11-19T00:00:00+00:00\",\"2010-11-22T00:00:00+00:00\",\"2010-11-23T00:00:00+00:00\",\"2010-11-24T00:00:00+00:00\",\"2010-11-26T00:00:00+00:00\",\"2010-11-29T00:00:00+00:00\",\"2010-11-30T00:00:00+00:00\",\"2010-12-01T00:00:00+00:00\",\"2010-12-02T00:00:00+00:00\",\"2010-12-03T00:00:00+00:00\",\"2010-12-06T00:00:00+00:00\",\"2010-12-07T00:00:00+00:00\",\"2010-12-08T00:00:00+00:00\",\"2010-12-09T00:00:00+00:00\",\"2010-12-10T00:00:00+00:00\",\"2010-12-13T00:00:00+00:00\",\"2010-12-14T00:00:00+00:00\",\"2010-12-15T00:00:00+00:00\",\"2010-12-16T00:00:00+00:00\",\"2010-12-17T00:00:00+00:00\",\"2010-12-20T00:00:00+00:00\",\"2010-12-21T00:00:00+00:00\",\"2010-12-22T00:00:00+00:00\",\"2010-12-23T00:00:00+00:00\",\"2010-12-27T00:00:00+00:00\",\"2010-12-28T00:00:00+00:00\",\"2010-12-29T00:00:00+00:00\",\"2010-12-30T00:00:00+00:00\",\"2010-12-31T00:00:00+00:00\",\"2011-01-03T00:00:00+00:00\",\"2011-01-04T00:00:00+00:00\",\"2011-01-05T00:00:00+00:00\",\"2011-01-06T00:00:00+00:00\",\"2011-01-07T00:00:00+00:00\",\"2011-01-10T00:00:00+00:00\",\"2011-01-11T00:00:00+00:00\",\"2011-01-12T00:00:00+00:00\",\"2011-01-13T00:00:00+00:00\",\"2011-01-14T00:00:00+00:00\",\"2011-01-18T00:00:00+00:00\",\"2011-01-19T00:00:00+00:00\",\"2011-01-20T00:00:00+00:00\",\"2011-01-21T00:00:00+00:00\",\"2011-01-24T00:00:00+00:00\",\"2011-01-25T00:00:00+00:00\",\"2011-01-26T00:00:00+00:00\",\"2011-01-27T00:00:00+00:00\",\"2011-01-28T00:00:00+00:00\",\"2011-01-31T00:00:00+00:00\",\"2011-02-01T00:00:00+00:00\",\"2011-02-02T00:00:00+00:00\",\"2011-02-03T00:00:00+00:00\",\"2011-02-04T00:00:00+00:00\",\"2011-02-07T00:00:00+00:00\",\"2011-02-08T00:00:00+00:00\",\"2011-02-09T00:00:00+00:00\",\"2011-02-10T00:00:00+00:00\",\"2011-02-11T00:00:00+00:00\",\"2011-02-14T00:00:00+00:00\",\"2011-02-15T00:00:00+00:00\",\"2011-02-16T00:00:00+00:00\",\"2011-02-17T00:00:00+00:00\",\"2011-02-18T00:00:00+00:00\",\"2011-02-22T00:00:00+00:00\",\"2011-02-23T00:00:00+00:00\",\"2011-02-24T00:00:00+00:00\",\"2011-02-25T00:00:00+00:00\",\"2011-02-28T00:00:00+00:00\",\"2011-03-01T00:00:00+00:00\",\"2011-03-02T00:00:00+00:00\",\"2011-03-03T00:00:00+00:00\",\"2011-03-04T00:00:00+00:00\",\"2011-03-07T00:00:00+00:00\",\"2011-03-08T00:00:00+00:00\",\"2011-03-09T00:00:00+00:00\",\"2011-03-10T00:00:00+00:00\",\"2011-03-11T00:00:00+00:00\",\"2011-03-14T00:00:00+00:00\",\"2011-03-15T00:00:00+00:00\",\"2011-03-16T00:00:00+00:00\",\"2011-03-17T00:00:00+00:00\",\"2011-03-18T00:00:00+00:00\",\"2011-03-21T00:00:00+00:00\",\"2011-03-22T00:00:00+00:00\",\"2011-03-23T00:00:00+00:00\",\"2011-03-24T00:00:00+00:00\",\"2011-03-25T00:00:00+00:00\",\"2011-03-28T00:00:00+00:00\",\"2011-03-29T00:00:00+00:00\",\"2011-03-30T00:00:00+00:00\",\"2011-03-31T00:00:00+00:00\",\"2011-04-01T00:00:00+00:00\",\"2011-04-04T00:00:00+00:00\",\"2011-04-05T00:00:00+00:00\",\"2011-04-06T00:00:00+00:00\",\"2011-04-07T00:00:00+00:00\",\"2011-04-08T00:00:00+00:00\",\"2011-04-11T00:00:00+00:00\",\"2011-04-12T00:00:00+00:00\",\"2011-04-13T00:00:00+00:00\",\"2011-04-14T00:00:00+00:00\",\"2011-04-15T00:00:00+00:00\",\"2011-04-18T00:00:00+00:00\",\"2011-04-19T00:00:00+00:00\",\"2011-04-20T00:00:00+00:00\",\"2011-04-21T00:00:00+00:00\",\"2011-04-25T00:00:00+00:00\",\"2011-04-26T00:00:00+00:00\",\"2011-04-27T00:00:00+00:00\",\"2011-04-28T00:00:00+00:00\",\"2011-04-29T00:00:00+00:00\",\"2011-05-02T00:00:00+00:00\",\"2011-05-03T00:00:00+00:00\",\"2011-05-04T00:00:00+00:00\",\"2011-05-05T00:00:00+00:00\",\"2011-05-06T00:00:00+00:00\",\"2011-05-09T00:00:00+00:00\",\"2011-05-10T00:00:00+00:00\",\"2011-05-11T00:00:00+00:00\",\"2011-05-12T00:00:00+00:00\",\"2011-05-13T00:00:00+00:00\",\"2011-05-16T00:00:00+00:00\",\"2011-05-17T00:00:00+00:00\",\"2011-05-18T00:00:00+00:00\",\"2011-05-19T00:00:00+00:00\",\"2011-05-20T00:00:00+00:00\",\"2011-05-23T00:00:00+00:00\",\"2011-05-24T00:00:00+00:00\",\"2011-05-25T00:00:00+00:00\",\"2011-05-26T00:00:00+00:00\",\"2011-05-27T00:00:00+00:00\",\"2011-05-31T00:00:00+00:00\",\"2011-06-01T00:00:00+00:00\",\"2011-06-02T00:00:00+00:00\",\"2011-06-03T00:00:00+00:00\",\"2011-06-06T00:00:00+00:00\",\"2011-06-07T00:00:00+00:00\",\"2011-06-08T00:00:00+00:00\",\"2011-06-09T00:00:00+00:00\",\"2011-06-10T00:00:00+00:00\",\"2011-06-13T00:00:00+00:00\",\"2011-06-14T00:00:00+00:00\",\"2011-06-15T00:00:00+00:00\",\"2011-06-16T00:00:00+00:00\",\"2011-06-17T00:00:00+00:00\",\"2011-06-20T00:00:00+00:00\",\"2011-06-21T00:00:00+00:00\",\"2011-06-22T00:00:00+00:00\",\"2011-06-23T00:00:00+00:00\",\"2011-06-24T00:00:00+00:00\",\"2011-06-27T00:00:00+00:00\",\"2011-06-28T00:00:00+00:00\",\"2011-06-29T00:00:00+00:00\",\"2011-06-30T00:00:00+00:00\",\"2011-07-01T00:00:00+00:00\",\"2011-07-05T00:00:00+00:00\",\"2011-07-06T00:00:00+00:00\",\"2011-07-07T00:00:00+00:00\",\"2011-07-08T00:00:00+00:00\",\"2011-07-11T00:00:00+00:00\",\"2011-07-12T00:00:00+00:00\",\"2011-07-13T00:00:00+00:00\",\"2011-07-14T00:00:00+00:00\",\"2011-07-15T00:00:00+00:00\",\"2011-07-18T00:00:00+00:00\",\"2011-07-19T00:00:00+00:00\",\"2011-07-20T00:00:00+00:00\",\"2011-07-21T00:00:00+00:00\",\"2011-07-22T00:00:00+00:00\",\"2011-07-25T00:00:00+00:00\",\"2011-07-26T00:00:00+00:00\",\"2011-07-27T00:00:00+00:00\",\"2011-07-28T00:00:00+00:00\",\"2011-07-29T00:00:00+00:00\",\"2011-08-01T00:00:00+00:00\",\"2011-08-02T00:00:00+00:00\",\"2011-08-03T00:00:00+00:00\",\"2011-08-04T00:00:00+00:00\",\"2011-08-05T00:00:00+00:00\",\"2011-08-08T00:00:00+00:00\",\"2011-08-09T00:00:00+00:00\",\"2011-08-10T00:00:00+00:00\",\"2011-08-11T00:00:00+00:00\",\"2011-08-12T00:00:00+00:00\",\"2011-08-15T00:00:00+00:00\",\"2011-08-16T00:00:00+00:00\",\"2011-08-17T00:00:00+00:00\",\"2011-08-18T00:00:00+00:00\",\"2011-08-19T00:00:00+00:00\",\"2011-08-22T00:00:00+00:00\",\"2011-08-23T00:00:00+00:00\",\"2011-08-24T00:00:00+00:00\",\"2011-08-25T00:00:00+00:00\",\"2011-08-26T00:00:00+00:00\",\"2011-08-29T00:00:00+00:00\",\"2011-08-30T00:00:00+00:00\",\"2011-08-31T00:00:00+00:00\",\"2011-09-01T00:00:00+00:00\",\"2011-09-02T00:00:00+00:00\",\"2011-09-06T00:00:00+00:00\",\"2011-09-07T00:00:00+00:00\",\"2011-09-08T00:00:00+00:00\",\"2011-09-09T00:00:00+00:00\",\"2011-09-12T00:00:00+00:00\",\"2011-09-13T00:00:00+00:00\",\"2011-09-14T00:00:00+00:00\",\"2011-09-15T00:00:00+00:00\",\"2011-09-16T00:00:00+00:00\",\"2011-09-19T00:00:00+00:00\",\"2011-09-20T00:00:00+00:00\",\"2011-09-21T00:00:00+00:00\",\"2011-09-22T00:00:00+00:00\",\"2011-09-23T00:00:00+00:00\",\"2011-09-26T00:00:00+00:00\",\"2011-09-27T00:00:00+00:00\",\"2011-09-28T00:00:00+00:00\",\"2011-09-29T00:00:00+00:00\",\"2011-09-30T00:00:00+00:00\",\"2011-10-03T00:00:00+00:00\",\"2011-10-04T00:00:00+00:00\",\"2011-10-05T00:00:00+00:00\",\"2011-10-06T00:00:00+00:00\",\"2011-10-07T00:00:00+00:00\",\"2011-10-10T00:00:00+00:00\",\"2011-10-11T00:00:00+00:00\",\"2011-10-12T00:00:00+00:00\",\"2011-10-13T00:00:00+00:00\",\"2011-10-14T00:00:00+00:00\",\"2011-10-17T00:00:00+00:00\",\"2011-10-18T00:00:00+00:00\",\"2011-10-19T00:00:00+00:00\",\"2011-10-20T00:00:00+00:00\",\"2011-10-21T00:00:00+00:00\",\"2011-10-24T00:00:00+00:00\",\"2011-10-25T00:00:00+00:00\",\"2011-10-26T00:00:00+00:00\",\"2011-10-27T00:00:00+00:00\",\"2011-10-28T00:00:00+00:00\",\"2011-10-31T00:00:00+00:00\",\"2011-11-01T00:00:00+00:00\",\"2011-11-02T00:00:00+00:00\",\"2011-11-03T00:00:00+00:00\",\"2011-11-04T00:00:00+00:00\",\"2011-11-07T00:00:00+00:00\",\"2011-11-08T00:00:00+00:00\",\"2011-11-09T00:00:00+00:00\",\"2011-11-10T00:00:00+00:00\",\"2011-11-11T00:00:00+00:00\",\"2011-11-14T00:00:00+00:00\",\"2011-11-15T00:00:00+00:00\",\"2011-11-16T00:00:00+00:00\",\"2011-11-17T00:00:00+00:00\",\"2011-11-18T00:00:00+00:00\",\"2011-11-21T00:00:00+00:00\",\"2011-11-22T00:00:00+00:00\",\"2011-11-23T00:00:00+00:00\",\"2011-11-25T00:00:00+00:00\",\"2011-11-28T00:00:00+00:00\",\"2011-11-29T00:00:00+00:00\",\"2011-11-30T00:00:00+00:00\",\"2011-12-01T00:00:00+00:00\",\"2011-12-02T00:00:00+00:00\",\"2011-12-05T00:00:00+00:00\",\"2011-12-06T00:00:00+00:00\",\"2011-12-07T00:00:00+00:00\",\"2011-12-08T00:00:00+00:00\",\"2011-12-09T00:00:00+00:00\",\"2011-12-12T00:00:00+00:00\",\"2011-12-13T00:00:00+00:00\",\"2011-12-14T00:00:00+00:00\",\"2011-12-15T00:00:00+00:00\",\"2011-12-16T00:00:00+00:00\",\"2011-12-19T00:00:00+00:00\",\"2011-12-20T00:00:00+00:00\",\"2011-12-21T00:00:00+00:00\",\"2011-12-22T00:00:00+00:00\",\"2011-12-23T00:00:00+00:00\",\"2011-12-27T00:00:00+00:00\",\"2011-12-28T00:00:00+00:00\",\"2011-12-29T00:00:00+00:00\",\"2011-12-30T00:00:00+00:00\",\"2012-01-03T00:00:00+00:00\",\"2012-01-04T00:00:00+00:00\",\"2012-01-05T00:00:00+00:00\",\"2012-01-06T00:00:00+00:00\",\"2012-01-09T00:00:00+00:00\",\"2012-01-10T00:00:00+00:00\",\"2012-01-11T00:00:00+00:00\",\"2012-01-12T00:00:00+00:00\",\"2012-01-13T00:00:00+00:00\",\"2012-01-17T00:00:00+00:00\",\"2012-01-18T00:00:00+00:00\",\"2012-01-19T00:00:00+00:00\",\"2012-01-20T00:00:00+00:00\",\"2012-01-23T00:00:00+00:00\",\"2012-01-24T00:00:00+00:00\",\"2012-01-25T00:00:00+00:00\",\"2012-01-26T00:00:00+00:00\",\"2012-01-27T00:00:00+00:00\",\"2012-01-30T00:00:00+00:00\",\"2012-01-31T00:00:00+00:00\",\"2012-02-01T00:00:00+00:00\",\"2012-02-02T00:00:00+00:00\",\"2012-02-03T00:00:00+00:00\",\"2012-02-06T00:00:00+00:00\",\"2012-02-07T00:00:00+00:00\",\"2012-02-08T00:00:00+00:00\",\"2012-02-09T00:00:00+00:00\",\"2012-02-10T00:00:00+00:00\",\"2012-02-13T00:00:00+00:00\",\"2012-02-14T00:00:00+00:00\",\"2012-02-15T00:00:00+00:00\",\"2012-02-16T00:00:00+00:00\",\"2012-02-17T00:00:00+00:00\",\"2012-02-21T00:00:00+00:00\",\"2012-02-22T00:00:00+00:00\",\"2012-02-23T00:00:00+00:00\",\"2012-02-24T00:00:00+00:00\",\"2012-02-27T00:00:00+00:00\",\"2012-02-28T00:00:00+00:00\",\"2012-02-29T00:00:00+00:00\",\"2012-03-01T00:00:00+00:00\",\"2012-03-02T00:00:00+00:00\",\"2012-03-05T00:00:00+00:00\",\"2012-03-06T00:00:00+00:00\",\"2012-03-07T00:00:00+00:00\",\"2012-03-08T00:00:00+00:00\",\"2012-03-09T00:00:00+00:00\",\"2012-03-12T00:00:00+00:00\",\"2012-03-13T00:00:00+00:00\",\"2012-03-14T00:00:00+00:00\",\"2012-03-15T00:00:00+00:00\",\"2012-03-16T00:00:00+00:00\",\"2012-03-19T00:00:00+00:00\",\"2012-03-20T00:00:00+00:00\",\"2012-03-21T00:00:00+00:00\",\"2012-03-22T00:00:00+00:00\",\"2012-03-23T00:00:00+00:00\",\"2012-03-26T00:00:00+00:00\",\"2012-03-27T00:00:00+00:00\",\"2012-03-28T00:00:00+00:00\",\"2012-03-29T00:00:00+00:00\",\"2012-03-30T00:00:00+00:00\",\"2012-04-02T00:00:00+00:00\",\"2012-04-03T00:00:00+00:00\",\"2012-04-04T00:00:00+00:00\",\"2012-04-05T00:00:00+00:00\",\"2012-04-09T00:00:00+00:00\",\"2012-04-10T00:00:00+00:00\",\"2012-04-11T00:00:00+00:00\",\"2012-04-12T00:00:00+00:00\",\"2012-04-13T00:00:00+00:00\",\"2012-04-16T00:00:00+00:00\",\"2012-04-17T00:00:00+00:00\",\"2012-04-18T00:00:00+00:00\",\"2012-04-19T00:00:00+00:00\",\"2012-04-20T00:00:00+00:00\",\"2012-04-23T00:00:00+00:00\",\"2012-04-24T00:00:00+00:00\",\"2012-04-25T00:00:00+00:00\",\"2012-04-26T00:00:00+00:00\",\"2012-04-27T00:00:00+00:00\",\"2012-04-30T00:00:00+00:00\",\"2012-05-01T00:00:00+00:00\",\"2012-05-02T00:00:00+00:00\",\"2012-05-03T00:00:00+00:00\",\"2012-05-04T00:00:00+00:00\",\"2012-05-07T00:00:00+00:00\",\"2012-05-08T00:00:00+00:00\",\"2012-05-09T00:00:00+00:00\",\"2012-05-10T00:00:00+00:00\",\"2012-05-11T00:00:00+00:00\",\"2012-05-14T00:00:00+00:00\",\"2012-05-15T00:00:00+00:00\",\"2012-05-16T00:00:00+00:00\",\"2012-05-17T00:00:00+00:00\",\"2012-05-18T00:00:00+00:00\",\"2012-05-21T00:00:00+00:00\",\"2012-05-22T00:00:00+00:00\",\"2012-05-23T00:00:00+00:00\",\"2012-05-24T00:00:00+00:00\",\"2012-05-25T00:00:00+00:00\",\"2012-05-29T00:00:00+00:00\",\"2012-05-30T00:00:00+00:00\",\"2012-05-31T00:00:00+00:00\",\"2012-06-01T00:00:00+00:00\",\"2012-06-04T00:00:00+00:00\",\"2012-06-05T00:00:00+00:00\",\"2012-06-06T00:00:00+00:00\",\"2012-06-07T00:00:00+00:00\",\"2012-06-08T00:00:00+00:00\",\"2012-06-11T00:00:00+00:00\",\"2012-06-12T00:00:00+00:00\",\"2012-06-13T00:00:00+00:00\",\"2012-06-14T00:00:00+00:00\",\"2012-06-15T00:00:00+00:00\",\"2012-06-18T00:00:00+00:00\",\"2012-06-19T00:00:00+00:00\",\"2012-06-20T00:00:00+00:00\",\"2012-06-21T00:00:00+00:00\",\"2012-06-22T00:00:00+00:00\",\"2012-06-25T00:00:00+00:00\",\"2012-06-26T00:00:00+00:00\",\"2012-06-27T00:00:00+00:00\",\"2012-06-28T00:00:00+00:00\",\"2012-06-29T00:00:00+00:00\",\"2012-07-02T00:00:00+00:00\",\"2012-07-03T00:00:00+00:00\",\"2012-07-05T00:00:00+00:00\",\"2012-07-06T00:00:00+00:00\",\"2012-07-09T00:00:00+00:00\",\"2012-07-10T00:00:00+00:00\",\"2012-07-11T00:00:00+00:00\",\"2012-07-12T00:00:00+00:00\",\"2012-07-13T00:00:00+00:00\",\"2012-07-16T00:00:00+00:00\",\"2012-07-17T00:00:00+00:00\",\"2012-07-18T00:00:00+00:00\",\"2012-07-19T00:00:00+00:00\",\"2012-07-20T00:00:00+00:00\",\"2012-07-23T00:00:00+00:00\",\"2012-07-24T00:00:00+00:00\",\"2012-07-25T00:00:00+00:00\",\"2012-07-26T00:00:00+00:00\",\"2012-07-27T00:00:00+00:00\",\"2012-07-30T00:00:00+00:00\",\"2012-07-31T00:00:00+00:00\",\"2012-08-01T00:00:00+00:00\",\"2012-08-02T00:00:00+00:00\",\"2012-08-03T00:00:00+00:00\",\"2012-08-06T00:00:00+00:00\",\"2012-08-07T00:00:00+00:00\",\"2012-08-08T00:00:00+00:00\",\"2012-08-09T00:00:00+00:00\",\"2012-08-10T00:00:00+00:00\",\"2012-08-13T00:00:00+00:00\",\"2012-08-14T00:00:00+00:00\",\"2012-08-15T00:00:00+00:00\",\"2012-08-16T00:00:00+00:00\",\"2012-08-17T00:00:00+00:00\",\"2012-08-20T00:00:00+00:00\",\"2012-08-21T00:00:00+00:00\",\"2012-08-22T00:00:00+00:00\",\"2012-08-23T00:00:00+00:00\",\"2012-08-24T00:00:00+00:00\",\"2012-08-27T00:00:00+00:00\",\"2012-08-28T00:00:00+00:00\",\"2012-08-29T00:00:00+00:00\",\"2012-08-30T00:00:00+00:00\",\"2012-08-31T00:00:00+00:00\",\"2012-09-04T00:00:00+00:00\",\"2012-09-05T00:00:00+00:00\",\"2012-09-06T00:00:00+00:00\",\"2012-09-07T00:00:00+00:00\",\"2012-09-10T00:00:00+00:00\",\"2012-09-11T00:00:00+00:00\",\"2012-09-12T00:00:00+00:00\",\"2012-09-13T00:00:00+00:00\",\"2012-09-14T00:00:00+00:00\",\"2012-09-17T00:00:00+00:00\",\"2012-09-18T00:00:00+00:00\",\"2012-09-19T00:00:00+00:00\",\"2012-09-20T00:00:00+00:00\",\"2012-09-21T00:00:00+00:00\",\"2012-09-24T00:00:00+00:00\",\"2012-09-25T00:00:00+00:00\",\"2012-09-26T00:00:00+00:00\",\"2012-09-27T00:00:00+00:00\",\"2012-09-28T00:00:00+00:00\",\"2012-10-01T00:00:00+00:00\",\"2012-10-02T00:00:00+00:00\",\"2012-10-03T00:00:00+00:00\",\"2012-10-04T00:00:00+00:00\",\"2012-10-05T00:00:00+00:00\",\"2012-10-08T00:00:00+00:00\",\"2012-10-09T00:00:00+00:00\",\"2012-10-10T00:00:00+00:00\",\"2012-10-11T00:00:00+00:00\",\"2012-10-12T00:00:00+00:00\",\"2012-10-15T00:00:00+00:00\",\"2012-10-16T00:00:00+00:00\",\"2012-10-17T00:00:00+00:00\",\"2012-10-18T00:00:00+00:00\",\"2012-10-19T00:00:00+00:00\",\"2012-10-22T00:00:00+00:00\",\"2012-10-23T00:00:00+00:00\",\"2012-10-24T00:00:00+00:00\",\"2012-10-25T00:00:00+00:00\",\"2012-10-26T00:00:00+00:00\",\"2012-10-31T00:00:00+00:00\",\"2012-11-01T00:00:00+00:00\",\"2012-11-02T00:00:00+00:00\",\"2012-11-05T00:00:00+00:00\",\"2012-11-06T00:00:00+00:00\",\"2012-11-07T00:00:00+00:00\",\"2012-11-08T00:00:00+00:00\",\"2012-11-09T00:00:00+00:00\",\"2012-11-12T00:00:00+00:00\",\"2012-11-13T00:00:00+00:00\",\"2012-11-14T00:00:00+00:00\",\"2012-11-15T00:00:00+00:00\",\"2012-11-16T00:00:00+00:00\",\"2012-11-19T00:00:00+00:00\",\"2012-11-20T00:00:00+00:00\",\"2012-11-21T00:00:00+00:00\",\"2012-11-23T00:00:00+00:00\",\"2012-11-26T00:00:00+00:00\",\"2012-11-27T00:00:00+00:00\",\"2012-11-28T00:00:00+00:00\",\"2012-11-29T00:00:00+00:00\",\"2012-11-30T00:00:00+00:00\",\"2012-12-03T00:00:00+00:00\",\"2012-12-04T00:00:00+00:00\",\"2012-12-05T00:00:00+00:00\",\"2012-12-06T00:00:00+00:00\",\"2012-12-07T00:00:00+00:00\",\"2012-12-10T00:00:00+00:00\",\"2012-12-11T00:00:00+00:00\",\"2012-12-12T00:00:00+00:00\",\"2012-12-13T00:00:00+00:00\",\"2012-12-14T00:00:00+00:00\",\"2012-12-17T00:00:00+00:00\",\"2012-12-18T00:00:00+00:00\",\"2012-12-19T00:00:00+00:00\",\"2012-12-20T00:00:00+00:00\",\"2012-12-21T00:00:00+00:00\",\"2012-12-24T00:00:00+00:00\",\"2012-12-26T00:00:00+00:00\",\"2012-12-27T00:00:00+00:00\",\"2012-12-28T00:00:00+00:00\",\"2012-12-31T00:00:00+00:00\",\"2013-01-02T00:00:00+00:00\",\"2013-01-03T00:00:00+00:00\",\"2013-01-04T00:00:00+00:00\",\"2013-01-07T00:00:00+00:00\",\"2013-01-08T00:00:00+00:00\",\"2013-01-09T00:00:00+00:00\",\"2013-01-10T00:00:00+00:00\",\"2013-01-11T00:00:00+00:00\",\"2013-01-14T00:00:00+00:00\",\"2013-01-15T00:00:00+00:00\",\"2013-01-16T00:00:00+00:00\",\"2013-01-17T00:00:00+00:00\",\"2013-01-18T00:00:00+00:00\",\"2013-01-22T00:00:00+00:00\",\"2013-01-23T00:00:00+00:00\",\"2013-01-24T00:00:00+00:00\",\"2013-01-25T00:00:00+00:00\",\"2013-01-28T00:00:00+00:00\",\"2013-01-29T00:00:00+00:00\",\"2013-01-30T00:00:00+00:00\",\"2013-01-31T00:00:00+00:00\",\"2013-02-01T00:00:00+00:00\",\"2013-02-04T00:00:00+00:00\",\"2013-02-05T00:00:00+00:00\",\"2013-02-06T00:00:00+00:00\",\"2013-02-07T00:00:00+00:00\",\"2013-02-08T00:00:00+00:00\",\"2013-02-11T00:00:00+00:00\",\"2013-02-12T00:00:00+00:00\",\"2013-02-13T00:00:00+00:00\",\"2013-02-14T00:00:00+00:00\",\"2013-02-15T00:00:00+00:00\",\"2013-02-19T00:00:00+00:00\",\"2013-02-20T00:00:00+00:00\",\"2013-02-21T00:00:00+00:00\",\"2013-02-22T00:00:00+00:00\",\"2013-02-25T00:00:00+00:00\",\"2013-02-26T00:00:00+00:00\",\"2013-02-27T00:00:00+00:00\",\"2013-02-28T00:00:00+00:00\",\"2013-03-01T00:00:00+00:00\",\"2013-03-04T00:00:00+00:00\",\"2013-03-05T00:00:00+00:00\",\"2013-03-06T00:00:00+00:00\",\"2013-03-07T00:00:00+00:00\",\"2013-03-08T00:00:00+00:00\",\"2013-03-11T00:00:00+00:00\",\"2013-03-12T00:00:00+00:00\",\"2013-03-13T00:00:00+00:00\",\"2013-03-14T00:00:00+00:00\",\"2013-03-15T00:00:00+00:00\",\"2013-03-18T00:00:00+00:00\",\"2013-03-19T00:00:00+00:00\",\"2013-03-20T00:00:00+00:00\",\"2013-03-21T00:00:00+00:00\",\"2013-03-22T00:00:00+00:00\",\"2013-03-25T00:00:00+00:00\",\"2013-03-26T00:00:00+00:00\",\"2013-03-27T00:00:00+00:00\",\"2013-03-28T00:00:00+00:00\",\"2013-04-01T00:00:00+00:00\",\"2013-04-02T00:00:00+00:00\",\"2013-04-03T00:00:00+00:00\",\"2013-04-04T00:00:00+00:00\",\"2013-04-05T00:00:00+00:00\",\"2013-04-08T00:00:00+00:00\",\"2013-04-09T00:00:00+00:00\",\"2013-04-10T00:00:00+00:00\",\"2013-04-11T00:00:00+00:00\",\"2013-04-12T00:00:00+00:00\",\"2013-04-15T00:00:00+00:00\",\"2013-04-16T00:00:00+00:00\",\"2013-04-17T00:00:00+00:00\",\"2013-04-18T00:00:00+00:00\",\"2013-04-19T00:00:00+00:00\",\"2013-04-22T00:00:00+00:00\",\"2013-04-23T00:00:00+00:00\",\"2013-04-24T00:00:00+00:00\",\"2013-04-25T00:00:00+00:00\",\"2013-04-26T00:00:00+00:00\",\"2013-04-29T00:00:00+00:00\",\"2013-04-30T00:00:00+00:00\",\"2013-05-01T00:00:00+00:00\",\"2013-05-02T00:00:00+00:00\",\"2013-05-03T00:00:00+00:00\",\"2013-05-06T00:00:00+00:00\",\"2013-05-07T00:00:00+00:00\",\"2013-05-08T00:00:00+00:00\",\"2013-05-09T00:00:00+00:00\",\"2013-05-10T00:00:00+00:00\",\"2013-05-13T00:00:00+00:00\",\"2013-05-14T00:00:00+00:00\",\"2013-05-15T00:00:00+00:00\",\"2013-05-16T00:00:00+00:00\",\"2013-05-17T00:00:00+00:00\",\"2013-05-20T00:00:00+00:00\",\"2013-05-21T00:00:00+00:00\",\"2013-05-22T00:00:00+00:00\",\"2013-05-23T00:00:00+00:00\",\"2013-05-24T00:00:00+00:00\",\"2013-05-28T00:00:00+00:00\",\"2013-05-29T00:00:00+00:00\",\"2013-05-30T00:00:00+00:00\",\"2013-05-31T00:00:00+00:00\",\"2013-06-03T00:00:00+00:00\",\"2013-06-04T00:00:00+00:00\",\"2013-06-05T00:00:00+00:00\",\"2013-06-06T00:00:00+00:00\",\"2013-06-07T00:00:00+00:00\",\"2013-06-10T00:00:00+00:00\",\"2013-06-11T00:00:00+00:00\",\"2013-06-12T00:00:00+00:00\",\"2013-06-13T00:00:00+00:00\",\"2013-06-14T00:00:00+00:00\",\"2013-06-17T00:00:00+00:00\",\"2013-06-18T00:00:00+00:00\",\"2013-06-19T00:00:00+00:00\",\"2013-06-20T00:00:00+00:00\",\"2013-06-21T00:00:00+00:00\",\"2013-06-24T00:00:00+00:00\",\"2013-06-25T00:00:00+00:00\",\"2013-06-26T00:00:00+00:00\",\"2013-06-27T00:00:00+00:00\",\"2013-06-28T00:00:00+00:00\",\"2013-07-01T00:00:00+00:00\",\"2013-07-02T00:00:00+00:00\",\"2013-07-03T00:00:00+00:00\",\"2013-07-05T00:00:00+00:00\",\"2013-07-08T00:00:00+00:00\",\"2013-07-09T00:00:00+00:00\",\"2013-07-10T00:00:00+00:00\",\"2013-07-11T00:00:00+00:00\",\"2013-07-12T00:00:00+00:00\",\"2013-07-15T00:00:00+00:00\",\"2013-07-16T00:00:00+00:00\",\"2013-07-17T00:00:00+00:00\",\"2013-07-18T00:00:00+00:00\",\"2013-07-19T00:00:00+00:00\",\"2013-07-22T00:00:00+00:00\",\"2013-07-23T00:00:00+00:00\",\"2013-07-24T00:00:00+00:00\",\"2013-07-25T00:00:00+00:00\",\"2013-07-26T00:00:00+00:00\",\"2013-07-29T00:00:00+00:00\",\"2013-07-30T00:00:00+00:00\",\"2013-07-31T00:00:00+00:00\",\"2013-08-01T00:00:00+00:00\",\"2013-08-02T00:00:00+00:00\",\"2013-08-05T00:00:00+00:00\",\"2013-08-06T00:00:00+00:00\",\"2013-08-07T00:00:00+00:00\",\"2013-08-08T00:00:00+00:00\",\"2013-08-09T00:00:00+00:00\",\"2013-08-12T00:00:00+00:00\",\"2013-08-13T00:00:00+00:00\",\"2013-08-14T00:00:00+00:00\",\"2013-08-15T00:00:00+00:00\",\"2013-08-16T00:00:00+00:00\",\"2013-08-19T00:00:00+00:00\",\"2013-08-20T00:00:00+00:00\",\"2013-08-21T00:00:00+00:00\",\"2013-08-22T00:00:00+00:00\",\"2013-08-23T00:00:00+00:00\",\"2013-08-26T00:00:00+00:00\",\"2013-08-27T00:00:00+00:00\",\"2013-08-28T00:00:00+00:00\",\"2013-08-29T00:00:00+00:00\",\"2013-08-30T00:00:00+00:00\",\"2013-09-03T00:00:00+00:00\",\"2013-09-04T00:00:00+00:00\",\"2013-09-05T00:00:00+00:00\",\"2013-09-06T00:00:00+00:00\",\"2013-09-09T00:00:00+00:00\",\"2013-09-10T00:00:00+00:00\",\"2013-09-11T00:00:00+00:00\",\"2013-09-12T00:00:00+00:00\",\"2013-09-13T00:00:00+00:00\",\"2013-09-16T00:00:00+00:00\",\"2013-09-17T00:00:00+00:00\",\"2013-09-18T00:00:00+00:00\",\"2013-09-19T00:00:00+00:00\",\"2013-09-20T00:00:00+00:00\",\"2013-09-23T00:00:00+00:00\",\"2013-09-24T00:00:00+00:00\",\"2013-09-25T00:00:00+00:00\",\"2013-09-26T00:00:00+00:00\",\"2013-09-27T00:00:00+00:00\",\"2013-09-30T00:00:00+00:00\",\"2013-10-01T00:00:00+00:00\",\"2013-10-02T00:00:00+00:00\",\"2013-10-03T00:00:00+00:00\",\"2013-10-04T00:00:00+00:00\",\"2013-10-07T00:00:00+00:00\",\"2013-10-08T00:00:00+00:00\",\"2013-10-09T00:00:00+00:00\",\"2013-10-10T00:00:00+00:00\",\"2013-10-11T00:00:00+00:00\",\"2013-10-14T00:00:00+00:00\",\"2013-10-15T00:00:00+00:00\",\"2013-10-16T00:00:00+00:00\",\"2013-10-17T00:00:00+00:00\",\"2013-10-18T00:00:00+00:00\",\"2013-10-21T00:00:00+00:00\",\"2013-10-22T00:00:00+00:00\",\"2013-10-23T00:00:00+00:00\",\"2013-10-24T00:00:00+00:00\",\"2013-10-25T00:00:00+00:00\",\"2013-10-28T00:00:00+00:00\",\"2013-10-29T00:00:00+00:00\",\"2013-10-30T00:00:00+00:00\",\"2013-10-31T00:00:00+00:00\",\"2013-11-01T00:00:00+00:00\",\"2013-11-04T00:00:00+00:00\",\"2013-11-05T00:00:00+00:00\",\"2013-11-06T00:00:00+00:00\",\"2013-11-07T00:00:00+00:00\",\"2013-11-08T00:00:00+00:00\",\"2013-11-11T00:00:00+00:00\",\"2013-11-12T00:00:00+00:00\",\"2013-11-13T00:00:00+00:00\",\"2013-11-14T00:00:00+00:00\",\"2013-11-15T00:00:00+00:00\",\"2013-11-18T00:00:00+00:00\",\"2013-11-19T00:00:00+00:00\",\"2013-11-20T00:00:00+00:00\",\"2013-11-21T00:00:00+00:00\",\"2013-11-22T00:00:00+00:00\",\"2013-11-25T00:00:00+00:00\",\"2013-11-26T00:00:00+00:00\",\"2013-11-27T00:00:00+00:00\",\"2013-11-29T00:00:00+00:00\",\"2013-12-02T00:00:00+00:00\",\"2013-12-03T00:00:00+00:00\",\"2013-12-04T00:00:00+00:00\",\"2013-12-05T00:00:00+00:00\",\"2013-12-06T00:00:00+00:00\",\"2013-12-09T00:00:00+00:00\",\"2013-12-10T00:00:00+00:00\",\"2013-12-11T00:00:00+00:00\",\"2013-12-12T00:00:00+00:00\",\"2013-12-13T00:00:00+00:00\",\"2013-12-16T00:00:00+00:00\",\"2013-12-17T00:00:00+00:00\",\"2013-12-18T00:00:00+00:00\",\"2013-12-19T00:00:00+00:00\",\"2013-12-20T00:00:00+00:00\",\"2013-12-23T00:00:00+00:00\",\"2013-12-24T00:00:00+00:00\",\"2013-12-26T00:00:00+00:00\",\"2013-12-27T00:00:00+00:00\",\"2013-12-30T00:00:00+00:00\",\"2013-12-31T00:00:00+00:00\",\"2014-01-02T00:00:00+00:00\",\"2014-01-03T00:00:00+00:00\",\"2014-01-06T00:00:00+00:00\",\"2014-01-07T00:00:00+00:00\",\"2014-01-08T00:00:00+00:00\",\"2014-01-09T00:00:00+00:00\",\"2014-01-10T00:00:00+00:00\",\"2014-01-13T00:00:00+00:00\",\"2014-01-14T00:00:00+00:00\",\"2014-01-15T00:00:00+00:00\",\"2014-01-16T00:00:00+00:00\",\"2014-01-17T00:00:00+00:00\",\"2014-01-21T00:00:00+00:00\",\"2014-01-22T00:00:00+00:00\",\"2014-01-23T00:00:00+00:00\",\"2014-01-24T00:00:00+00:00\",\"2014-01-27T00:00:00+00:00\",\"2014-01-28T00:00:00+00:00\",\"2014-01-29T00:00:00+00:00\",\"2014-01-30T00:00:00+00:00\",\"2014-01-31T00:00:00+00:00\",\"2014-02-03T00:00:00+00:00\",\"2014-02-04T00:00:00+00:00\",\"2014-02-05T00:00:00+00:00\",\"2014-02-06T00:00:00+00:00\",\"2014-02-07T00:00:00+00:00\",\"2014-02-10T00:00:00+00:00\",\"2014-02-11T00:00:00+00:00\",\"2014-02-12T00:00:00+00:00\",\"2014-02-13T00:00:00+00:00\",\"2014-02-14T00:00:00+00:00\",\"2014-02-18T00:00:00+00:00\",\"2014-02-19T00:00:00+00:00\",\"2014-02-20T00:00:00+00:00\",\"2014-02-21T00:00:00+00:00\",\"2014-02-24T00:00:00+00:00\",\"2014-02-25T00:00:00+00:00\",\"2014-02-26T00:00:00+00:00\",\"2014-02-27T00:00:00+00:00\",\"2014-02-28T00:00:00+00:00\",\"2014-03-03T00:00:00+00:00\",\"2014-03-04T00:00:00+00:00\",\"2014-03-05T00:00:00+00:00\",\"2014-03-06T00:00:00+00:00\",\"2014-03-07T00:00:00+00:00\",\"2014-03-10T00:00:00+00:00\",\"2014-03-11T00:00:00+00:00\",\"2014-03-12T00:00:00+00:00\",\"2014-03-13T00:00:00+00:00\",\"2014-03-14T00:00:00+00:00\",\"2014-03-17T00:00:00+00:00\",\"2014-03-18T00:00:00+00:00\",\"2014-03-19T00:00:00+00:00\",\"2014-03-20T00:00:00+00:00\",\"2014-03-21T00:00:00+00:00\",\"2014-03-24T00:00:00+00:00\",\"2014-03-25T00:00:00+00:00\",\"2014-03-26T00:00:00+00:00\",\"2014-03-27T00:00:00+00:00\",\"2014-03-28T00:00:00+00:00\",\"2014-03-31T00:00:00+00:00\",\"2014-04-01T00:00:00+00:00\",\"2014-04-02T00:00:00+00:00\",\"2014-04-03T00:00:00+00:00\",\"2014-04-04T00:00:00+00:00\",\"2014-04-07T00:00:00+00:00\",\"2014-04-08T00:00:00+00:00\",\"2014-04-09T00:00:00+00:00\",\"2014-04-10T00:00:00+00:00\",\"2014-04-11T00:00:00+00:00\",\"2014-04-14T00:00:00+00:00\",\"2014-04-15T00:00:00+00:00\",\"2014-04-16T00:00:00+00:00\",\"2014-04-17T00:00:00+00:00\",\"2014-04-21T00:00:00+00:00\",\"2014-04-22T00:00:00+00:00\",\"2014-04-23T00:00:00+00:00\",\"2014-04-24T00:00:00+00:00\",\"2014-04-25T00:00:00+00:00\",\"2014-04-28T00:00:00+00:00\",\"2014-04-29T00:00:00+00:00\",\"2014-04-30T00:00:00+00:00\",\"2014-05-01T00:00:00+00:00\",\"2014-05-02T00:00:00+00:00\",\"2014-05-05T00:00:00+00:00\",\"2014-05-06T00:00:00+00:00\",\"2014-05-07T00:00:00+00:00\",\"2014-05-08T00:00:00+00:00\",\"2014-05-09T00:00:00+00:00\",\"2014-05-12T00:00:00+00:00\",\"2014-05-13T00:00:00+00:00\",\"2014-05-14T00:00:00+00:00\",\"2014-05-15T00:00:00+00:00\",\"2014-05-16T00:00:00+00:00\",\"2014-05-19T00:00:00+00:00\",\"2014-05-20T00:00:00+00:00\",\"2014-05-21T00:00:00+00:00\",\"2014-05-22T00:00:00+00:00\",\"2014-05-23T00:00:00+00:00\",\"2014-05-27T00:00:00+00:00\",\"2014-05-28T00:00:00+00:00\",\"2014-05-29T00:00:00+00:00\",\"2014-05-30T00:00:00+00:00\",\"2014-06-02T00:00:00+00:00\",\"2014-06-03T00:00:00+00:00\",\"2014-06-04T00:00:00+00:00\",\"2014-06-05T00:00:00+00:00\",\"2014-06-06T00:00:00+00:00\",\"2014-06-09T00:00:00+00:00\",\"2014-06-10T00:00:00+00:00\",\"2014-06-11T00:00:00+00:00\",\"2014-06-12T00:00:00+00:00\",\"2014-06-13T00:00:00+00:00\",\"2014-06-16T00:00:00+00:00\",\"2014-06-17T00:00:00+00:00\",\"2014-06-18T00:00:00+00:00\",\"2014-06-19T00:00:00+00:00\",\"2014-06-20T00:00:00+00:00\",\"2014-06-23T00:00:00+00:00\",\"2014-06-24T00:00:00+00:00\",\"2014-06-25T00:00:00+00:00\",\"2014-06-26T00:00:00+00:00\",\"2014-06-27T00:00:00+00:00\",\"2014-06-30T00:00:00+00:00\",\"2014-07-01T00:00:00+00:00\",\"2014-07-02T00:00:00+00:00\",\"2014-07-03T00:00:00+00:00\",\"2014-07-07T00:00:00+00:00\",\"2014-07-08T00:00:00+00:00\",\"2014-07-09T00:00:00+00:00\",\"2014-07-10T00:00:00+00:00\",\"2014-07-11T00:00:00+00:00\",\"2014-07-14T00:00:00+00:00\",\"2014-07-15T00:00:00+00:00\",\"2014-07-16T00:00:00+00:00\",\"2014-07-17T00:00:00+00:00\",\"2014-07-18T00:00:00+00:00\",\"2014-07-21T00:00:00+00:00\",\"2014-07-22T00:00:00+00:00\",\"2014-07-23T00:00:00+00:00\",\"2014-07-24T00:00:00+00:00\",\"2014-07-25T00:00:00+00:00\",\"2014-07-28T00:00:00+00:00\",\"2014-07-29T00:00:00+00:00\",\"2014-07-30T00:00:00+00:00\",\"2014-07-31T00:00:00+00:00\",\"2014-08-01T00:00:00+00:00\",\"2014-08-04T00:00:00+00:00\",\"2014-08-05T00:00:00+00:00\",\"2014-08-06T00:00:00+00:00\",\"2014-08-07T00:00:00+00:00\",\"2014-08-08T00:00:00+00:00\",\"2014-08-11T00:00:00+00:00\",\"2014-08-12T00:00:00+00:00\",\"2014-08-13T00:00:00+00:00\",\"2014-08-14T00:00:00+00:00\",\"2014-08-15T00:00:00+00:00\",\"2014-08-18T00:00:00+00:00\",\"2014-08-19T00:00:00+00:00\",\"2014-08-20T00:00:00+00:00\",\"2014-08-21T00:00:00+00:00\",\"2014-08-22T00:00:00+00:00\",\"2014-08-25T00:00:00+00:00\",\"2014-08-26T00:00:00+00:00\",\"2014-08-27T00:00:00+00:00\",\"2014-08-28T00:00:00+00:00\",\"2014-08-29T00:00:00+00:00\",\"2014-09-02T00:00:00+00:00\",\"2014-09-03T00:00:00+00:00\",\"2014-09-04T00:00:00+00:00\",\"2014-09-05T00:00:00+00:00\",\"2014-09-08T00:00:00+00:00\",\"2014-09-09T00:00:00+00:00\",\"2014-09-10T00:00:00+00:00\",\"2014-09-11T00:00:00+00:00\",\"2014-09-12T00:00:00+00:00\",\"2014-09-15T00:00:00+00:00\",\"2014-09-16T00:00:00+00:00\",\"2014-09-17T00:00:00+00:00\",\"2014-09-18T00:00:00+00:00\",\"2014-09-19T00:00:00+00:00\",\"2014-09-22T00:00:00+00:00\",\"2014-09-23T00:00:00+00:00\",\"2014-09-24T00:00:00+00:00\",\"2014-09-25T00:00:00+00:00\",\"2014-09-26T00:00:00+00:00\",\"2014-09-29T00:00:00+00:00\",\"2014-09-30T00:00:00+00:00\",\"2014-10-01T00:00:00+00:00\",\"2014-10-02T00:00:00+00:00\",\"2014-10-03T00:00:00+00:00\",\"2014-10-06T00:00:00+00:00\",\"2014-10-07T00:00:00+00:00\",\"2014-10-08T00:00:00+00:00\",\"2014-10-09T00:00:00+00:00\",\"2014-10-10T00:00:00+00:00\",\"2014-10-13T00:00:00+00:00\",\"2014-10-14T00:00:00+00:00\",\"2014-10-15T00:00:00+00:00\",\"2014-10-16T00:00:00+00:00\",\"2014-10-17T00:00:00+00:00\",\"2014-10-20T00:00:00+00:00\",\"2014-10-21T00:00:00+00:00\",\"2014-10-22T00:00:00+00:00\",\"2014-10-23T00:00:00+00:00\",\"2014-10-24T00:00:00+00:00\",\"2014-10-27T00:00:00+00:00\",\"2014-10-28T00:00:00+00:00\",\"2014-10-29T00:00:00+00:00\",\"2014-10-30T00:00:00+00:00\",\"2014-10-31T00:00:00+00:00\",\"2014-11-03T00:00:00+00:00\",\"2014-11-04T00:00:00+00:00\",\"2014-11-05T00:00:00+00:00\",\"2014-11-06T00:00:00+00:00\",\"2014-11-07T00:00:00+00:00\",\"2014-11-10T00:00:00+00:00\",\"2014-11-11T00:00:00+00:00\",\"2014-11-12T00:00:00+00:00\",\"2014-11-13T00:00:00+00:00\",\"2014-11-14T00:00:00+00:00\",\"2014-11-17T00:00:00+00:00\",\"2014-11-18T00:00:00+00:00\",\"2014-11-19T00:00:00+00:00\",\"2014-11-20T00:00:00+00:00\",\"2014-11-21T00:00:00+00:00\",\"2014-11-24T00:00:00+00:00\",\"2014-11-25T00:00:00+00:00\",\"2014-11-26T00:00:00+00:00\",\"2014-11-28T00:00:00+00:00\",\"2014-12-01T00:00:00+00:00\",\"2014-12-02T00:00:00+00:00\",\"2014-12-03T00:00:00+00:00\",\"2014-12-04T00:00:00+00:00\",\"2014-12-05T00:00:00+00:00\",\"2014-12-08T00:00:00+00:00\",\"2014-12-09T00:00:00+00:00\",\"2014-12-10T00:00:00+00:00\",\"2014-12-11T00:00:00+00:00\",\"2014-12-12T00:00:00+00:00\",\"2014-12-15T00:00:00+00:00\",\"2014-12-16T00:00:00+00:00\",\"2014-12-17T00:00:00+00:00\",\"2014-12-18T00:00:00+00:00\",\"2014-12-19T00:00:00+00:00\",\"2014-12-22T00:00:00+00:00\",\"2014-12-23T00:00:00+00:00\",\"2014-12-24T00:00:00+00:00\",\"2014-12-26T00:00:00+00:00\",\"2014-12-29T00:00:00+00:00\",\"2014-12-30T00:00:00+00:00\",\"2014-12-31T00:00:00+00:00\",\"2015-01-02T00:00:00+00:00\",\"2015-01-05T00:00:00+00:00\",\"2015-01-06T00:00:00+00:00\",\"2015-01-07T00:00:00+00:00\",\"2015-01-08T00:00:00+00:00\",\"2015-01-09T00:00:00+00:00\",\"2015-01-12T00:00:00+00:00\",\"2015-01-13T00:00:00+00:00\",\"2015-01-14T00:00:00+00:00\",\"2015-01-15T00:00:00+00:00\",\"2015-01-16T00:00:00+00:00\",\"2015-01-20T00:00:00+00:00\",\"2015-01-21T00:00:00+00:00\",\"2015-01-22T00:00:00+00:00\",\"2015-01-23T00:00:00+00:00\",\"2015-01-26T00:00:00+00:00\",\"2015-01-27T00:00:00+00:00\",\"2015-01-28T00:00:00+00:00\",\"2015-01-29T00:00:00+00:00\",\"2015-01-30T00:00:00+00:00\",\"2015-02-02T00:00:00+00:00\",\"2015-02-03T00:00:00+00:00\",\"2015-02-04T00:00:00+00:00\",\"2015-02-05T00:00:00+00:00\",\"2015-02-06T00:00:00+00:00\",\"2015-02-09T00:00:00+00:00\",\"2015-02-10T00:00:00+00:00\",\"2015-02-11T00:00:00+00:00\",\"2015-02-12T00:00:00+00:00\",\"2015-02-13T00:00:00+00:00\",\"2015-02-17T00:00:00+00:00\",\"2015-02-18T00:00:00+00:00\",\"2015-02-19T00:00:00+00:00\",\"2015-02-20T00:00:00+00:00\",\"2015-02-23T00:00:00+00:00\",\"2015-02-24T00:00:00+00:00\",\"2015-02-25T00:00:00+00:00\",\"2015-02-26T00:00:00+00:00\",\"2015-02-27T00:00:00+00:00\",\"2015-03-02T00:00:00+00:00\",\"2015-03-03T00:00:00+00:00\",\"2015-03-04T00:00:00+00:00\",\"2015-03-05T00:00:00+00:00\",\"2015-03-06T00:00:00+00:00\",\"2015-03-09T00:00:00+00:00\",\"2015-03-10T00:00:00+00:00\",\"2015-03-11T00:00:00+00:00\",\"2015-03-12T00:00:00+00:00\",\"2015-03-13T00:00:00+00:00\",\"2015-03-16T00:00:00+00:00\",\"2015-03-17T00:00:00+00:00\",\"2015-03-18T00:00:00+00:00\",\"2015-03-19T00:00:00+00:00\",\"2015-03-20T00:00:00+00:00\",\"2015-03-23T00:00:00+00:00\",\"2015-03-24T00:00:00+00:00\",\"2015-03-25T00:00:00+00:00\",\"2015-03-26T00:00:00+00:00\",\"2015-03-27T00:00:00+00:00\",\"2015-03-30T00:00:00+00:00\",\"2015-03-31T00:00:00+00:00\",\"2015-04-01T00:00:00+00:00\",\"2015-04-02T00:00:00+00:00\",\"2015-04-06T00:00:00+00:00\",\"2015-04-07T00:00:00+00:00\",\"2015-04-08T00:00:00+00:00\",\"2015-04-09T00:00:00+00:00\",\"2015-04-10T00:00:00+00:00\",\"2015-04-13T00:00:00+00:00\",\"2015-04-14T00:00:00+00:00\",\"2015-04-15T00:00:00+00:00\",\"2015-04-16T00:00:00+00:00\",\"2015-04-17T00:00:00+00:00\",\"2015-04-20T00:00:00+00:00\",\"2015-04-21T00:00:00+00:00\",\"2015-04-22T00:00:00+00:00\",\"2015-04-23T00:00:00+00:00\",\"2015-04-24T00:00:00+00:00\",\"2015-04-27T00:00:00+00:00\",\"2015-04-28T00:00:00+00:00\",\"2015-04-29T00:00:00+00:00\",\"2015-04-30T00:00:00+00:00\",\"2015-05-01T00:00:00+00:00\",\"2015-05-04T00:00:00+00:00\",\"2015-05-05T00:00:00+00:00\",\"2015-05-06T00:00:00+00:00\",\"2015-05-07T00:00:00+00:00\",\"2015-05-08T00:00:00+00:00\",\"2015-05-11T00:00:00+00:00\",\"2015-05-12T00:00:00+00:00\",\"2015-05-13T00:00:00+00:00\",\"2015-05-14T00:00:00+00:00\",\"2015-05-15T00:00:00+00:00\",\"2015-05-18T00:00:00+00:00\",\"2015-05-19T00:00:00+00:00\",\"2015-05-20T00:00:00+00:00\",\"2015-05-21T00:00:00+00:00\",\"2015-05-22T00:00:00+00:00\",\"2015-05-26T00:00:00+00:00\",\"2015-05-27T00:00:00+00:00\",\"2015-05-28T00:00:00+00:00\",\"2015-05-29T00:00:00+00:00\",\"2015-06-01T00:00:00+00:00\",\"2015-06-02T00:00:00+00:00\",\"2015-06-03T00:00:00+00:00\",\"2015-06-04T00:00:00+00:00\",\"2015-06-05T00:00:00+00:00\",\"2015-06-08T00:00:00+00:00\",\"2015-06-09T00:00:00+00:00\",\"2015-06-10T00:00:00+00:00\",\"2015-06-11T00:00:00+00:00\",\"2015-06-12T00:00:00+00:00\",\"2015-06-15T00:00:00+00:00\",\"2015-06-16T00:00:00+00:00\",\"2015-06-17T00:00:00+00:00\",\"2015-06-18T00:00:00+00:00\",\"2015-06-19T00:00:00+00:00\",\"2015-06-22T00:00:00+00:00\",\"2015-06-23T00:00:00+00:00\",\"2015-06-24T00:00:00+00:00\",\"2015-06-25T00:00:00+00:00\",\"2015-06-26T00:00:00+00:00\",\"2015-06-29T00:00:00+00:00\",\"2015-06-30T00:00:00+00:00\",\"2015-07-01T00:00:00+00:00\",\"2015-07-02T00:00:00+00:00\",\"2015-07-06T00:00:00+00:00\",\"2015-07-07T00:00:00+00:00\",\"2015-07-08T00:00:00+00:00\",\"2015-07-09T00:00:00+00:00\",\"2015-07-10T00:00:00+00:00\",\"2015-07-13T00:00:00+00:00\",\"2015-07-14T00:00:00+00:00\",\"2015-07-15T00:00:00+00:00\",\"2015-07-16T00:00:00+00:00\",\"2015-07-17T00:00:00+00:00\",\"2015-07-20T00:00:00+00:00\",\"2015-07-21T00:00:00+00:00\",\"2015-07-22T00:00:00+00:00\",\"2015-07-23T00:00:00+00:00\",\"2015-07-24T00:00:00+00:00\",\"2015-07-27T00:00:00+00:00\",\"2015-07-28T00:00:00+00:00\",\"2015-07-29T00:00:00+00:00\",\"2015-07-30T00:00:00+00:00\",\"2015-07-31T00:00:00+00:00\",\"2015-08-03T00:00:00+00:00\",\"2015-08-04T00:00:00+00:00\",\"2015-08-05T00:00:00+00:00\",\"2015-08-06T00:00:00+00:00\",\"2015-08-07T00:00:00+00:00\",\"2015-08-10T00:00:00+00:00\",\"2015-08-11T00:00:00+00:00\",\"2015-08-12T00:00:00+00:00\",\"2015-08-13T00:00:00+00:00\",\"2015-08-14T00:00:00+00:00\",\"2015-08-17T00:00:00+00:00\",\"2015-08-18T00:00:00+00:00\",\"2015-08-19T00:00:00+00:00\",\"2015-08-20T00:00:00+00:00\",\"2015-08-21T00:00:00+00:00\",\"2015-08-24T00:00:00+00:00\",\"2015-08-25T00:00:00+00:00\",\"2015-08-26T00:00:00+00:00\",\"2015-08-27T00:00:00+00:00\",\"2015-08-28T00:00:00+00:00\",\"2015-08-31T00:00:00+00:00\",\"2015-09-01T00:00:00+00:00\",\"2015-09-02T00:00:00+00:00\",\"2015-09-03T00:00:00+00:00\",\"2015-09-04T00:00:00+00:00\",\"2015-09-08T00:00:00+00:00\",\"2015-09-09T00:00:00+00:00\",\"2015-09-10T00:00:00+00:00\",\"2015-09-11T00:00:00+00:00\",\"2015-09-14T00:00:00+00:00\",\"2015-09-15T00:00:00+00:00\",\"2015-09-16T00:00:00+00:00\",\"2015-09-17T00:00:00+00:00\",\"2015-09-18T00:00:00+00:00\",\"2015-09-21T00:00:00+00:00\",\"2015-09-22T00:00:00+00:00\",\"2015-09-23T00:00:00+00:00\",\"2015-09-24T00:00:00+00:00\",\"2015-09-25T00:00:00+00:00\",\"2015-09-28T00:00:00+00:00\",\"2015-09-29T00:00:00+00:00\",\"2015-09-30T00:00:00+00:00\",\"2015-10-01T00:00:00+00:00\",\"2015-10-02T00:00:00+00:00\",\"2015-10-05T00:00:00+00:00\",\"2015-10-06T00:00:00+00:00\",\"2015-10-07T00:00:00+00:00\",\"2015-10-08T00:00:00+00:00\",\"2015-10-09T00:00:00+00:00\",\"2015-10-12T00:00:00+00:00\",\"2015-10-13T00:00:00+00:00\",\"2015-10-14T00:00:00+00:00\",\"2015-10-15T00:00:00+00:00\",\"2015-10-16T00:00:00+00:00\",\"2015-10-19T00:00:00+00:00\",\"2015-10-20T00:00:00+00:00\",\"2015-10-21T00:00:00+00:00\",\"2015-10-22T00:00:00+00:00\",\"2015-10-23T00:00:00+00:00\",\"2015-10-26T00:00:00+00:00\",\"2015-10-27T00:00:00+00:00\",\"2015-10-28T00:00:00+00:00\",\"2015-10-29T00:00:00+00:00\",\"2015-10-30T00:00:00+00:00\",\"2015-11-02T00:00:00+00:00\",\"2015-11-03T00:00:00+00:00\",\"2015-11-04T00:00:00+00:00\",\"2015-11-05T00:00:00+00:00\",\"2015-11-06T00:00:00+00:00\",\"2015-11-09T00:00:00+00:00\",\"2015-11-10T00:00:00+00:00\",\"2015-11-11T00:00:00+00:00\",\"2015-11-12T00:00:00+00:00\",\"2015-11-13T00:00:00+00:00\",\"2015-11-16T00:00:00+00:00\",\"2015-11-17T00:00:00+00:00\",\"2015-11-18T00:00:00+00:00\",\"2015-11-19T00:00:00+00:00\",\"2015-11-20T00:00:00+00:00\",\"2015-11-23T00:00:00+00:00\",\"2015-11-24T00:00:00+00:00\",\"2015-11-25T00:00:00+00:00\",\"2015-11-27T00:00:00+00:00\",\"2015-11-30T00:00:00+00:00\",\"2015-12-01T00:00:00+00:00\",\"2015-12-02T00:00:00+00:00\",\"2015-12-03T00:00:00+00:00\",\"2015-12-04T00:00:00+00:00\",\"2015-12-07T00:00:00+00:00\",\"2015-12-08T00:00:00+00:00\",\"2015-12-09T00:00:00+00:00\",\"2015-12-10T00:00:00+00:00\",\"2015-12-11T00:00:00+00:00\",\"2015-12-14T00:00:00+00:00\",\"2015-12-15T00:00:00+00:00\",\"2015-12-16T00:00:00+00:00\",\"2015-12-17T00:00:00+00:00\",\"2015-12-18T00:00:00+00:00\",\"2015-12-21T00:00:00+00:00\",\"2015-12-22T00:00:00+00:00\",\"2015-12-23T00:00:00+00:00\",\"2015-12-24T00:00:00+00:00\",\"2015-12-28T00:00:00+00:00\",\"2015-12-29T00:00:00+00:00\",\"2015-12-30T00:00:00+00:00\",\"2015-12-31T00:00:00+00:00\",\"2016-01-04T00:00:00+00:00\",\"2016-01-05T00:00:00+00:00\",\"2016-01-06T00:00:00+00:00\",\"2016-01-07T00:00:00+00:00\",\"2016-01-08T00:00:00+00:00\",\"2016-01-11T00:00:00+00:00\",\"2016-01-12T00:00:00+00:00\",\"2016-01-13T00:00:00+00:00\",\"2016-01-14T00:00:00+00:00\",\"2016-01-15T00:00:00+00:00\",\"2016-01-19T00:00:00+00:00\",\"2016-01-20T00:00:00+00:00\",\"2016-01-21T00:00:00+00:00\",\"2016-01-22T00:00:00+00:00\",\"2016-01-25T00:00:00+00:00\",\"2016-01-26T00:00:00+00:00\",\"2016-01-27T00:00:00+00:00\",\"2016-01-28T00:00:00+00:00\",\"2016-01-29T00:00:00+00:00\",\"2016-02-01T00:00:00+00:00\",\"2016-02-02T00:00:00+00:00\",\"2016-02-03T00:00:00+00:00\",\"2016-02-04T00:00:00+00:00\",\"2016-02-05T00:00:00+00:00\",\"2016-02-08T00:00:00+00:00\",\"2016-02-09T00:00:00+00:00\",\"2016-02-10T00:00:00+00:00\",\"2016-02-11T00:00:00+00:00\",\"2016-02-12T00:00:00+00:00\",\"2016-02-16T00:00:00+00:00\",\"2016-02-17T00:00:00+00:00\",\"2016-02-18T00:00:00+00:00\",\"2016-02-19T00:00:00+00:00\",\"2016-02-22T00:00:00+00:00\",\"2016-02-23T00:00:00+00:00\",\"2016-02-24T00:00:00+00:00\",\"2016-02-25T00:00:00+00:00\",\"2016-02-26T00:00:00+00:00\",\"2016-02-29T00:00:00+00:00\",\"2016-03-01T00:00:00+00:00\",\"2016-03-02T00:00:00+00:00\",\"2016-03-03T00:00:00+00:00\",\"2016-03-04T00:00:00+00:00\",\"2016-03-07T00:00:00+00:00\",\"2016-03-08T00:00:00+00:00\",\"2016-03-09T00:00:00+00:00\",\"2016-03-10T00:00:00+00:00\",\"2016-03-11T00:00:00+00:00\",\"2016-03-14T00:00:00+00:00\",\"2016-03-15T00:00:00+00:00\",\"2016-03-16T00:00:00+00:00\",\"2016-03-17T00:00:00+00:00\",\"2016-03-18T00:00:00+00:00\",\"2016-03-21T00:00:00+00:00\",\"2016-03-22T00:00:00+00:00\",\"2016-03-23T00:00:00+00:00\",\"2016-03-24T00:00:00+00:00\",\"2016-03-28T00:00:00+00:00\",\"2016-03-29T00:00:00+00:00\",\"2016-03-30T00:00:00+00:00\",\"2016-03-31T00:00:00+00:00\",\"2016-04-01T00:00:00+00:00\",\"2016-04-04T00:00:00+00:00\",\"2016-04-05T00:00:00+00:00\",\"2016-04-06T00:00:00+00:00\",\"2016-04-07T00:00:00+00:00\",\"2016-04-08T00:00:00+00:00\",\"2016-04-11T00:00:00+00:00\",\"2016-04-12T00:00:00+00:00\",\"2016-04-13T00:00:00+00:00\",\"2016-04-14T00:00:00+00:00\",\"2016-04-15T00:00:00+00:00\",\"2016-04-18T00:00:00+00:00\",\"2016-04-19T00:00:00+00:00\",\"2016-04-20T00:00:00+00:00\",\"2016-04-21T00:00:00+00:00\",\"2016-04-22T00:00:00+00:00\",\"2016-04-25T00:00:00+00:00\",\"2016-04-26T00:00:00+00:00\",\"2016-04-27T00:00:00+00:00\",\"2016-04-28T00:00:00+00:00\",\"2016-04-29T00:00:00+00:00\",\"2016-05-02T00:00:00+00:00\",\"2016-05-03T00:00:00+00:00\",\"2016-05-04T00:00:00+00:00\",\"2016-05-05T00:00:00+00:00\",\"2016-05-06T00:00:00+00:00\",\"2016-05-09T00:00:00+00:00\",\"2016-05-10T00:00:00+00:00\",\"2016-05-11T00:00:00+00:00\",\"2016-05-12T00:00:00+00:00\",\"2016-05-13T00:00:00+00:00\",\"2016-05-16T00:00:00+00:00\",\"2016-05-17T00:00:00+00:00\",\"2016-05-18T00:00:00+00:00\",\"2016-05-19T00:00:00+00:00\",\"2016-05-20T00:00:00+00:00\",\"2016-05-23T00:00:00+00:00\",\"2016-05-24T00:00:00+00:00\",\"2016-05-25T00:00:00+00:00\",\"2016-05-26T00:00:00+00:00\",\"2016-05-27T00:00:00+00:00\",\"2016-05-31T00:00:00+00:00\",\"2016-06-01T00:00:00+00:00\",\"2016-06-02T00:00:00+00:00\",\"2016-06-03T00:00:00+00:00\",\"2016-06-06T00:00:00+00:00\",\"2016-06-07T00:00:00+00:00\",\"2016-06-08T00:00:00+00:00\",\"2016-06-09T00:00:00+00:00\",\"2016-06-10T00:00:00+00:00\",\"2016-06-13T00:00:00+00:00\",\"2016-06-14T00:00:00+00:00\",\"2016-06-15T00:00:00+00:00\",\"2016-06-16T00:00:00+00:00\",\"2016-06-17T00:00:00+00:00\",\"2016-06-20T00:00:00+00:00\",\"2016-06-21T00:00:00+00:00\",\"2016-06-22T00:00:00+00:00\",\"2016-06-23T00:00:00+00:00\",\"2016-06-24T00:00:00+00:00\",\"2016-06-27T00:00:00+00:00\",\"2016-06-28T00:00:00+00:00\",\"2016-06-29T00:00:00+00:00\",\"2016-06-30T00:00:00+00:00\",\"2016-07-01T00:00:00+00:00\",\"2016-07-05T00:00:00+00:00\",\"2016-07-06T00:00:00+00:00\",\"2016-07-07T00:00:00+00:00\",\"2016-07-08T00:00:00+00:00\",\"2016-07-11T00:00:00+00:00\",\"2016-07-12T00:00:00+00:00\",\"2016-07-13T00:00:00+00:00\",\"2016-07-14T00:00:00+00:00\",\"2016-07-15T00:00:00+00:00\",\"2016-07-18T00:00:00+00:00\",\"2016-07-19T00:00:00+00:00\",\"2016-07-20T00:00:00+00:00\",\"2016-07-21T00:00:00+00:00\",\"2016-07-22T00:00:00+00:00\",\"2016-07-25T00:00:00+00:00\",\"2016-07-26T00:00:00+00:00\",\"2016-07-27T00:00:00+00:00\",\"2016-07-28T00:00:00+00:00\",\"2016-07-29T00:00:00+00:00\",\"2016-08-01T00:00:00+00:00\",\"2016-08-02T00:00:00+00:00\",\"2016-08-03T00:00:00+00:00\",\"2016-08-04T00:00:00+00:00\",\"2016-08-05T00:00:00+00:00\",\"2016-08-08T00:00:00+00:00\",\"2016-08-09T00:00:00+00:00\",\"2016-08-10T00:00:00+00:00\",\"2016-08-11T00:00:00+00:00\",\"2016-08-12T00:00:00+00:00\",\"2016-08-15T00:00:00+00:00\",\"2016-08-16T00:00:00+00:00\",\"2016-08-17T00:00:00+00:00\",\"2016-08-18T00:00:00+00:00\",\"2016-08-19T00:00:00+00:00\",\"2016-08-22T00:00:00+00:00\",\"2016-08-23T00:00:00+00:00\",\"2016-08-24T00:00:00+00:00\",\"2016-08-25T00:00:00+00:00\",\"2016-08-26T00:00:00+00:00\",\"2016-08-29T00:00:00+00:00\",\"2016-08-30T00:00:00+00:00\",\"2016-08-31T00:00:00+00:00\",\"2016-09-01T00:00:00+00:00\",\"2016-09-02T00:00:00+00:00\",\"2016-09-06T00:00:00+00:00\",\"2016-09-07T00:00:00+00:00\",\"2016-09-08T00:00:00+00:00\",\"2016-09-09T00:00:00+00:00\",\"2016-09-12T00:00:00+00:00\",\"2016-09-13T00:00:00+00:00\",\"2016-09-14T00:00:00+00:00\",\"2016-09-15T00:00:00+00:00\",\"2016-09-16T00:00:00+00:00\",\"2016-09-19T00:00:00+00:00\",\"2016-09-20T00:00:00+00:00\",\"2016-09-21T00:00:00+00:00\",\"2016-09-22T00:00:00+00:00\",\"2016-09-23T00:00:00+00:00\",\"2016-09-26T00:00:00+00:00\",\"2016-09-27T00:00:00+00:00\",\"2016-09-28T00:00:00+00:00\",\"2016-09-29T00:00:00+00:00\",\"2016-09-30T00:00:00+00:00\",\"2016-10-03T00:00:00+00:00\",\"2016-10-04T00:00:00+00:00\",\"2016-10-05T00:00:00+00:00\",\"2016-10-06T00:00:00+00:00\",\"2016-10-07T00:00:00+00:00\",\"2016-10-10T00:00:00+00:00\",\"2016-10-11T00:00:00+00:00\",\"2016-10-12T00:00:00+00:00\",\"2016-10-13T00:00:00+00:00\",\"2016-10-14T00:00:00+00:00\",\"2016-10-17T00:00:00+00:00\",\"2016-10-18T00:00:00+00:00\",\"2016-10-19T00:00:00+00:00\",\"2016-10-20T00:00:00+00:00\",\"2016-10-21T00:00:00+00:00\",\"2016-10-24T00:00:00+00:00\",\"2016-10-25T00:00:00+00:00\",\"2016-10-26T00:00:00+00:00\",\"2016-10-27T00:00:00+00:00\",\"2016-10-28T00:00:00+00:00\",\"2016-10-31T00:00:00+00:00\",\"2016-11-01T00:00:00+00:00\",\"2016-11-02T00:00:00+00:00\",\"2016-11-03T00:00:00+00:00\",\"2016-11-04T00:00:00+00:00\",\"2016-11-07T00:00:00+00:00\",\"2016-11-08T00:00:00+00:00\",\"2016-11-09T00:00:00+00:00\",\"2016-11-10T00:00:00+00:00\",\"2016-11-11T00:00:00+00:00\",\"2016-11-14T00:00:00+00:00\",\"2016-11-15T00:00:00+00:00\",\"2016-11-16T00:00:00+00:00\",\"2016-11-17T00:00:00+00:00\",\"2016-11-18T00:00:00+00:00\",\"2016-11-21T00:00:00+00:00\",\"2016-11-22T00:00:00+00:00\",\"2016-11-23T00:00:00+00:00\",\"2016-11-25T00:00:00+00:00\",\"2016-11-28T00:00:00+00:00\",\"2016-11-29T00:00:00+00:00\",\"2016-11-30T00:00:00+00:00\",\"2016-12-01T00:00:00+00:00\",\"2016-12-02T00:00:00+00:00\",\"2016-12-05T00:00:00+00:00\",\"2016-12-06T00:00:00+00:00\",\"2016-12-07T00:00:00+00:00\",\"2016-12-08T00:00:00+00:00\",\"2016-12-09T00:00:00+00:00\",\"2016-12-12T00:00:00+00:00\",\"2016-12-13T00:00:00+00:00\",\"2016-12-14T00:00:00+00:00\",\"2016-12-15T00:00:00+00:00\",\"2016-12-16T00:00:00+00:00\",\"2016-12-19T00:00:00+00:00\",\"2016-12-20T00:00:00+00:00\",\"2016-12-21T00:00:00+00:00\",\"2016-12-22T00:00:00+00:00\",\"2016-12-23T00:00:00+00:00\",\"2016-12-27T00:00:00+00:00\",\"2016-12-28T00:00:00+00:00\",\"2016-12-29T00:00:00+00:00\",\"2016-12-30T00:00:00+00:00\",\"2017-01-03T00:00:00+00:00\",\"2017-01-04T00:00:00+00:00\",\"2017-01-05T00:00:00+00:00\",\"2017-01-06T00:00:00+00:00\",\"2017-01-09T00:00:00+00:00\",\"2017-01-10T00:00:00+00:00\",\"2017-01-11T00:00:00+00:00\",\"2017-01-12T00:00:00+00:00\",\"2017-01-13T00:00:00+00:00\",\"2017-01-17T00:00:00+00:00\",\"2017-01-18T00:00:00+00:00\",\"2017-01-19T00:00:00+00:00\",\"2017-01-20T00:00:00+00:00\",\"2017-01-23T00:00:00+00:00\",\"2017-01-24T00:00:00+00:00\",\"2017-01-25T00:00:00+00:00\",\"2017-01-26T00:00:00+00:00\",\"2017-01-27T00:00:00+00:00\",\"2017-01-30T00:00:00+00:00\",\"2017-01-31T00:00:00+00:00\",\"2017-02-01T00:00:00+00:00\",\"2017-02-02T00:00:00+00:00\",\"2017-02-03T00:00:00+00:00\",\"2017-02-06T00:00:00+00:00\",\"2017-02-07T00:00:00+00:00\",\"2017-02-08T00:00:00+00:00\",\"2017-02-09T00:00:00+00:00\",\"2017-02-10T00:00:00+00:00\",\"2017-02-13T00:00:00+00:00\",\"2017-02-14T00:00:00+00:00\",\"2017-02-15T00:00:00+00:00\",\"2017-02-16T00:00:00+00:00\",\"2017-02-17T00:00:00+00:00\",\"2017-02-21T00:00:00+00:00\",\"2017-02-22T00:00:00+00:00\",\"2017-02-23T00:00:00+00:00\",\"2017-02-24T00:00:00+00:00\",\"2017-02-27T00:00:00+00:00\",\"2017-02-28T00:00:00+00:00\",\"2017-03-01T00:00:00+00:00\",\"2017-03-02T00:00:00+00:00\",\"2017-03-03T00:00:00+00:00\",\"2017-03-06T00:00:00+00:00\",\"2017-03-07T00:00:00+00:00\",\"2017-03-08T00:00:00+00:00\",\"2017-03-09T00:00:00+00:00\",\"2017-03-10T00:00:00+00:00\",\"2017-03-13T00:00:00+00:00\",\"2017-03-14T00:00:00+00:00\",\"2017-03-15T00:00:00+00:00\",\"2017-03-16T00:00:00+00:00\",\"2017-03-17T00:00:00+00:00\",\"2017-03-20T00:00:00+00:00\",\"2017-03-21T00:00:00+00:00\",\"2017-03-22T00:00:00+00:00\",\"2017-03-23T00:00:00+00:00\",\"2017-03-24T00:00:00+00:00\",\"2017-03-27T00:00:00+00:00\",\"2017-03-28T00:00:00+00:00\",\"2017-03-29T00:00:00+00:00\",\"2017-03-30T00:00:00+00:00\",\"2017-03-31T00:00:00+00:00\",\"2017-04-03T00:00:00+00:00\",\"2017-04-04T00:00:00+00:00\",\"2017-04-05T00:00:00+00:00\",\"2017-04-06T00:00:00+00:00\",\"2017-04-07T00:00:00+00:00\",\"2017-04-10T00:00:00+00:00\",\"2017-04-11T00:00:00+00:00\",\"2017-04-12T00:00:00+00:00\",\"2017-04-13T00:00:00+00:00\",\"2017-04-17T00:00:00+00:00\",\"2017-04-18T00:00:00+00:00\",\"2017-04-19T00:00:00+00:00\",\"2017-04-20T00:00:00+00:00\",\"2017-04-21T00:00:00+00:00\",\"2017-04-24T00:00:00+00:00\",\"2017-04-25T00:00:00+00:00\",\"2017-04-26T00:00:00+00:00\",\"2017-04-27T00:00:00+00:00\",\"2017-04-28T00:00:00+00:00\",\"2017-05-01T00:00:00+00:00\",\"2017-05-02T00:00:00+00:00\",\"2017-05-03T00:00:00+00:00\",\"2017-05-04T00:00:00+00:00\",\"2017-05-05T00:00:00+00:00\",\"2017-05-08T00:00:00+00:00\",\"2017-05-09T00:00:00+00:00\",\"2017-05-10T00:00:00+00:00\",\"2017-05-11T00:00:00+00:00\",\"2017-05-12T00:00:00+00:00\",\"2017-05-15T00:00:00+00:00\",\"2017-05-16T00:00:00+00:00\",\"2017-05-17T00:00:00+00:00\",\"2017-05-18T00:00:00+00:00\",\"2017-05-19T00:00:00+00:00\",\"2017-05-22T00:00:00+00:00\",\"2017-05-23T00:00:00+00:00\",\"2017-05-24T00:00:00+00:00\",\"2017-05-25T00:00:00+00:00\",\"2017-05-26T00:00:00+00:00\",\"2017-05-30T00:00:00+00:00\",\"2017-05-31T00:00:00+00:00\",\"2017-06-01T00:00:00+00:00\",\"2017-06-02T00:00:00+00:00\",\"2017-06-05T00:00:00+00:00\",\"2017-06-06T00:00:00+00:00\",\"2017-06-07T00:00:00+00:00\",\"2017-06-08T00:00:00+00:00\",\"2017-06-09T00:00:00+00:00\",\"2017-06-12T00:00:00+00:00\",\"2017-06-13T00:00:00+00:00\",\"2017-06-14T00:00:00+00:00\",\"2017-06-15T00:00:00+00:00\",\"2017-06-16T00:00:00+00:00\",\"2017-06-19T00:00:00+00:00\",\"2017-06-20T00:00:00+00:00\",\"2017-06-21T00:00:00+00:00\",\"2017-06-22T00:00:00+00:00\",\"2017-06-23T00:00:00+00:00\",\"2017-06-26T00:00:00+00:00\",\"2017-06-27T00:00:00+00:00\",\"2017-06-28T00:00:00+00:00\",\"2017-06-29T00:00:00+00:00\",\"2017-06-30T00:00:00+00:00\",\"2017-07-03T00:00:00+00:00\",\"2017-07-05T00:00:00+00:00\",\"2017-07-06T00:00:00+00:00\",\"2017-07-07T00:00:00+00:00\",\"2017-07-10T00:00:00+00:00\",\"2017-07-11T00:00:00+00:00\",\"2017-07-12T00:00:00+00:00\",\"2017-07-13T00:00:00+00:00\",\"2017-07-14T00:00:00+00:00\",\"2017-07-17T00:00:00+00:00\",\"2017-07-18T00:00:00+00:00\",\"2017-07-19T00:00:00+00:00\",\"2017-07-20T00:00:00+00:00\",\"2017-07-21T00:00:00+00:00\",\"2017-07-24T00:00:00+00:00\",\"2017-07-25T00:00:00+00:00\",\"2017-07-26T00:00:00+00:00\",\"2017-07-27T00:00:00+00:00\",\"2017-07-28T00:00:00+00:00\",\"2017-07-31T00:00:00+00:00\",\"2017-08-01T00:00:00+00:00\",\"2017-08-02T00:00:00+00:00\",\"2017-08-03T00:00:00+00:00\",\"2017-08-04T00:00:00+00:00\",\"2017-08-07T00:00:00+00:00\",\"2017-08-08T00:00:00+00:00\",\"2017-08-09T00:00:00+00:00\",\"2017-08-10T00:00:00+00:00\",\"2017-08-11T00:00:00+00:00\",\"2017-08-14T00:00:00+00:00\",\"2017-08-15T00:00:00+00:00\",\"2017-08-16T00:00:00+00:00\",\"2017-08-17T00:00:00+00:00\",\"2017-08-18T00:00:00+00:00\",\"2017-08-21T00:00:00+00:00\",\"2017-08-22T00:00:00+00:00\",\"2017-08-23T00:00:00+00:00\",\"2017-08-24T00:00:00+00:00\",\"2017-08-25T00:00:00+00:00\",\"2017-08-28T00:00:00+00:00\",\"2017-08-29T00:00:00+00:00\",\"2017-08-30T00:00:00+00:00\",\"2017-08-31T00:00:00+00:00\",\"2017-09-01T00:00:00+00:00\",\"2017-09-05T00:00:00+00:00\",\"2017-09-06T00:00:00+00:00\",\"2017-09-07T00:00:00+00:00\",\"2017-09-08T00:00:00+00:00\",\"2017-09-11T00:00:00+00:00\",\"2017-09-12T00:00:00+00:00\",\"2017-09-13T00:00:00+00:00\",\"2017-09-14T00:00:00+00:00\",\"2017-09-15T00:00:00+00:00\",\"2017-09-18T00:00:00+00:00\",\"2017-09-19T00:00:00+00:00\",\"2017-09-20T00:00:00+00:00\",\"2017-09-21T00:00:00+00:00\",\"2017-09-22T00:00:00+00:00\",\"2017-09-25T00:00:00+00:00\",\"2017-09-26T00:00:00+00:00\",\"2017-09-27T00:00:00+00:00\",\"2017-09-28T00:00:00+00:00\",\"2017-09-29T00:00:00+00:00\",\"2017-10-02T00:00:00+00:00\",\"2017-10-03T00:00:00+00:00\",\"2017-10-04T00:00:00+00:00\",\"2017-10-05T00:00:00+00:00\",\"2017-10-06T00:00:00+00:00\",\"2017-10-09T00:00:00+00:00\",\"2017-10-10T00:00:00+00:00\",\"2017-10-11T00:00:00+00:00\",\"2017-10-12T00:00:00+00:00\",\"2017-10-13T00:00:00+00:00\",\"2017-10-16T00:00:00+00:00\",\"2017-10-17T00:00:00+00:00\",\"2017-10-18T00:00:00+00:00\",\"2017-10-19T00:00:00+00:00\",\"2017-10-20T00:00:00+00:00\",\"2017-10-23T00:00:00+00:00\",\"2017-10-24T00:00:00+00:00\",\"2017-10-25T00:00:00+00:00\",\"2017-10-26T00:00:00+00:00\",\"2017-10-27T00:00:00+00:00\",\"2017-10-30T00:00:00+00:00\",\"2017-10-31T00:00:00+00:00\",\"2017-11-01T00:00:00+00:00\",\"2017-11-02T00:00:00+00:00\",\"2017-11-03T00:00:00+00:00\",\"2017-11-06T00:00:00+00:00\",\"2017-11-07T00:00:00+00:00\",\"2017-11-08T00:00:00+00:00\",\"2017-11-09T00:00:00+00:00\",\"2017-11-10T00:00:00+00:00\",\"2017-11-13T00:00:00+00:00\",\"2017-11-14T00:00:00+00:00\",\"2017-11-15T00:00:00+00:00\",\"2017-11-16T00:00:00+00:00\",\"2017-11-17T00:00:00+00:00\",\"2017-11-20T00:00:00+00:00\",\"2017-11-21T00:00:00+00:00\",\"2017-11-22T00:00:00+00:00\",\"2017-11-24T00:00:00+00:00\",\"2017-11-27T00:00:00+00:00\",\"2017-11-28T00:00:00+00:00\",\"2017-11-29T00:00:00+00:00\",\"2017-11-30T00:00:00+00:00\",\"2017-12-01T00:00:00+00:00\",\"2017-12-04T00:00:00+00:00\",\"2017-12-05T00:00:00+00:00\",\"2017-12-06T00:00:00+00:00\",\"2017-12-07T00:00:00+00:00\",\"2017-12-08T00:00:00+00:00\",\"2017-12-11T00:00:00+00:00\",\"2017-12-12T00:00:00+00:00\",\"2017-12-13T00:00:00+00:00\",\"2017-12-14T00:00:00+00:00\",\"2017-12-15T00:00:00+00:00\",\"2017-12-18T00:00:00+00:00\",\"2017-12-19T00:00:00+00:00\",\"2017-12-20T00:00:00+00:00\",\"2017-12-21T00:00:00+00:00\",\"2017-12-22T00:00:00+00:00\",\"2017-12-26T00:00:00+00:00\",\"2017-12-27T00:00:00+00:00\",\"2017-12-28T00:00:00+00:00\",\"2017-12-29T00:00:00+00:00\",\"2018-01-02T00:00:00+00:00\",\"2018-01-03T00:00:00+00:00\",\"2018-01-04T00:00:00+00:00\",\"2018-01-05T00:00:00+00:00\",\"2018-01-08T00:00:00+00:00\",\"2018-01-09T00:00:00+00:00\",\"2018-01-10T00:00:00+00:00\",\"2018-01-11T00:00:00+00:00\",\"2018-01-12T00:00:00+00:00\",\"2018-01-16T00:00:00+00:00\",\"2018-01-17T00:00:00+00:00\",\"2018-01-18T00:00:00+00:00\",\"2018-01-19T00:00:00+00:00\",\"2018-01-22T00:00:00+00:00\",\"2018-01-23T00:00:00+00:00\",\"2018-01-24T00:00:00+00:00\",\"2018-01-25T00:00:00+00:00\",\"2018-01-26T00:00:00+00:00\",\"2018-01-29T00:00:00+00:00\",\"2018-01-30T00:00:00+00:00\",\"2018-01-31T00:00:00+00:00\",\"2018-02-01T00:00:00+00:00\",\"2018-02-02T00:00:00+00:00\",\"2018-02-05T00:00:00+00:00\",\"2018-02-06T00:00:00+00:00\",\"2018-02-07T00:00:00+00:00\",\"2018-02-08T00:00:00+00:00\",\"2018-02-09T00:00:00+00:00\",\"2018-02-12T00:00:00+00:00\",\"2018-02-13T00:00:00+00:00\",\"2018-02-14T00:00:00+00:00\",\"2018-02-15T00:00:00+00:00\",\"2018-02-16T00:00:00+00:00\",\"2018-02-20T00:00:00+00:00\",\"2018-02-21T00:00:00+00:00\",\"2018-02-22T00:00:00+00:00\",\"2018-02-23T00:00:00+00:00\",\"2018-02-26T00:00:00+00:00\",\"2018-02-27T00:00:00+00:00\",\"2018-02-28T00:00:00+00:00\",\"2018-03-01T00:00:00+00:00\",\"2018-03-02T00:00:00+00:00\",\"2018-03-05T00:00:00+00:00\",\"2018-03-06T00:00:00+00:00\",\"2018-03-07T00:00:00+00:00\",\"2018-03-08T00:00:00+00:00\",\"2018-03-09T00:00:00+00:00\",\"2018-03-12T00:00:00+00:00\",\"2018-03-13T00:00:00+00:00\",\"2018-03-14T00:00:00+00:00\",\"2018-03-15T00:00:00+00:00\",\"2018-03-16T00:00:00+00:00\",\"2018-03-19T00:00:00+00:00\",\"2018-03-20T00:00:00+00:00\",\"2018-03-21T00:00:00+00:00\",\"2018-03-22T00:00:00+00:00\",\"2018-03-23T00:00:00+00:00\",\"2018-03-26T00:00:00+00:00\",\"2018-03-27T00:00:00+00:00\",\"2018-03-28T00:00:00+00:00\",\"2018-03-29T00:00:00+00:00\",\"2018-04-02T00:00:00+00:00\",\"2018-04-03T00:00:00+00:00\",\"2018-04-04T00:00:00+00:00\",\"2018-04-05T00:00:00+00:00\",\"2018-04-06T00:00:00+00:00\",\"2018-04-09T00:00:00+00:00\",\"2018-04-10T00:00:00+00:00\",\"2018-04-11T00:00:00+00:00\",\"2018-04-12T00:00:00+00:00\",\"2018-04-13T00:00:00+00:00\",\"2018-04-16T00:00:00+00:00\",\"2018-04-17T00:00:00+00:00\",\"2018-04-18T00:00:00+00:00\",\"2018-04-19T00:00:00+00:00\",\"2018-04-20T00:00:00+00:00\",\"2018-04-23T00:00:00+00:00\",\"2018-04-24T00:00:00+00:00\",\"2018-04-25T00:00:00+00:00\",\"2018-04-26T00:00:00+00:00\",\"2018-04-27T00:00:00+00:00\",\"2018-04-30T00:00:00+00:00\",\"2018-05-01T00:00:00+00:00\",\"2018-05-02T00:00:00+00:00\",\"2018-05-03T00:00:00+00:00\",\"2018-05-04T00:00:00+00:00\",\"2018-05-07T00:00:00+00:00\",\"2018-05-08T00:00:00+00:00\",\"2018-05-09T00:00:00+00:00\",\"2018-05-10T00:00:00+00:00\",\"2018-05-11T00:00:00+00:00\",\"2018-05-14T00:00:00+00:00\",\"2018-05-15T00:00:00+00:00\",\"2018-05-16T00:00:00+00:00\",\"2018-05-17T00:00:00+00:00\",\"2018-05-18T00:00:00+00:00\",\"2018-05-21T00:00:00+00:00\",\"2018-05-22T00:00:00+00:00\",\"2018-05-23T00:00:00+00:00\",\"2018-05-24T00:00:00+00:00\",\"2018-05-25T00:00:00+00:00\",\"2018-05-29T00:00:00+00:00\",\"2018-05-30T00:00:00+00:00\",\"2018-05-31T00:00:00+00:00\",\"2018-06-01T00:00:00+00:00\",\"2018-06-04T00:00:00+00:00\",\"2018-06-05T00:00:00+00:00\",\"2018-06-06T00:00:00+00:00\",\"2018-06-07T00:00:00+00:00\",\"2018-06-08T00:00:00+00:00\",\"2018-06-11T00:00:00+00:00\",\"2018-06-12T00:00:00+00:00\",\"2018-06-13T00:00:00+00:00\",\"2018-06-14T00:00:00+00:00\",\"2018-06-15T00:00:00+00:00\",\"2018-06-18T00:00:00+00:00\",\"2018-06-19T00:00:00+00:00\",\"2018-06-20T00:00:00+00:00\",\"2018-06-21T00:00:00+00:00\",\"2018-06-22T00:00:00+00:00\",\"2018-06-25T00:00:00+00:00\",\"2018-06-26T00:00:00+00:00\",\"2018-06-27T00:00:00+00:00\",\"2018-06-28T00:00:00+00:00\",\"2018-06-29T00:00:00+00:00\",\"2018-07-02T00:00:00+00:00\",\"2018-07-03T00:00:00+00:00\",\"2018-07-05T00:00:00+00:00\",\"2018-07-06T00:00:00+00:00\",\"2018-07-09T00:00:00+00:00\",\"2018-07-10T00:00:00+00:00\",\"2018-07-11T00:00:00+00:00\",\"2018-07-12T00:00:00+00:00\",\"2018-07-13T00:00:00+00:00\",\"2018-07-16T00:00:00+00:00\",\"2018-07-17T00:00:00+00:00\",\"2018-07-18T00:00:00+00:00\",\"2018-07-19T00:00:00+00:00\",\"2018-07-20T00:00:00+00:00\",\"2018-07-23T00:00:00+00:00\",\"2018-07-24T00:00:00+00:00\",\"2018-07-25T00:00:00+00:00\",\"2018-07-26T00:00:00+00:00\",\"2018-07-27T00:00:00+00:00\",\"2018-07-30T00:00:00+00:00\",\"2018-07-31T00:00:00+00:00\",\"2018-08-01T00:00:00+00:00\",\"2018-08-02T00:00:00+00:00\",\"2018-08-03T00:00:00+00:00\",\"2018-08-06T00:00:00+00:00\",\"2018-08-07T00:00:00+00:00\",\"2018-08-08T00:00:00+00:00\",\"2018-08-09T00:00:00+00:00\",\"2018-08-10T00:00:00+00:00\",\"2018-08-13T00:00:00+00:00\",\"2018-08-14T00:00:00+00:00\",\"2018-08-15T00:00:00+00:00\",\"2018-08-16T00:00:00+00:00\",\"2018-08-17T00:00:00+00:00\",\"2018-08-20T00:00:00+00:00\",\"2018-08-21T00:00:00+00:00\",\"2018-08-22T00:00:00+00:00\",\"2018-08-23T00:00:00+00:00\",\"2018-08-24T00:00:00+00:00\",\"2018-08-27T00:00:00+00:00\",\"2018-08-28T00:00:00+00:00\",\"2018-08-29T00:00:00+00:00\",\"2018-08-30T00:00:00+00:00\",\"2018-08-31T00:00:00+00:00\",\"2018-09-04T00:00:00+00:00\",\"2018-09-05T00:00:00+00:00\",\"2018-09-06T00:00:00+00:00\",\"2018-09-07T00:00:00+00:00\",\"2018-09-10T00:00:00+00:00\",\"2018-09-11T00:00:00+00:00\",\"2018-09-12T00:00:00+00:00\",\"2018-09-13T00:00:00+00:00\",\"2018-09-14T00:00:00+00:00\",\"2018-09-17T00:00:00+00:00\",\"2018-09-18T00:00:00+00:00\",\"2018-09-19T00:00:00+00:00\",\"2018-09-20T00:00:00+00:00\",\"2018-09-21T00:00:00+00:00\",\"2018-09-24T00:00:00+00:00\",\"2018-09-25T00:00:00+00:00\",\"2018-09-26T00:00:00+00:00\",\"2018-09-27T00:00:00+00:00\",\"2018-09-28T00:00:00+00:00\",\"2018-10-01T00:00:00+00:00\",\"2018-10-02T00:00:00+00:00\",\"2018-10-03T00:00:00+00:00\",\"2018-10-04T00:00:00+00:00\",\"2018-10-05T00:00:00+00:00\",\"2018-10-08T00:00:00+00:00\",\"2018-10-09T00:00:00+00:00\",\"2018-10-10T00:00:00+00:00\",\"2018-10-11T00:00:00+00:00\",\"2018-10-12T00:00:00+00:00\",\"2018-10-15T00:00:00+00:00\",\"2018-10-16T00:00:00+00:00\",\"2018-10-17T00:00:00+00:00\",\"2018-10-18T00:00:00+00:00\",\"2018-10-19T00:00:00+00:00\",\"2018-10-22T00:00:00+00:00\",\"2018-10-23T00:00:00+00:00\",\"2018-10-24T00:00:00+00:00\",\"2018-10-25T00:00:00+00:00\",\"2018-10-26T00:00:00+00:00\",\"2018-10-29T00:00:00+00:00\",\"2018-10-30T00:00:00+00:00\",\"2018-10-31T00:00:00+00:00\",\"2018-11-01T00:00:00+00:00\",\"2018-11-02T00:00:00+00:00\",\"2018-11-05T00:00:00+00:00\",\"2018-11-06T00:00:00+00:00\",\"2018-11-07T00:00:00+00:00\",\"2018-11-08T00:00:00+00:00\",\"2018-11-09T00:00:00+00:00\",\"2018-11-12T00:00:00+00:00\",\"2018-11-13T00:00:00+00:00\",\"2018-11-14T00:00:00+00:00\",\"2018-11-15T00:00:00+00:00\",\"2018-11-16T00:00:00+00:00\",\"2018-11-19T00:00:00+00:00\",\"2018-11-20T00:00:00+00:00\",\"2018-11-21T00:00:00+00:00\",\"2018-11-23T00:00:00+00:00\",\"2018-11-26T00:00:00+00:00\",\"2018-11-27T00:00:00+00:00\",\"2018-11-28T00:00:00+00:00\",\"2018-11-29T00:00:00+00:00\",\"2018-11-30T00:00:00+00:00\",\"2018-12-03T00:00:00+00:00\",\"2018-12-04T00:00:00+00:00\",\"2018-12-06T00:00:00+00:00\",\"2018-12-07T00:00:00+00:00\",\"2018-12-10T00:00:00+00:00\",\"2018-12-11T00:00:00+00:00\",\"2018-12-12T00:00:00+00:00\",\"2018-12-13T00:00:00+00:00\",\"2018-12-14T00:00:00+00:00\",\"2018-12-17T00:00:00+00:00\",\"2018-12-18T00:00:00+00:00\",\"2018-12-19T00:00:00+00:00\",\"2018-12-20T00:00:00+00:00\",\"2018-12-21T00:00:00+00:00\",\"2018-12-24T00:00:00+00:00\",\"2018-12-26T00:00:00+00:00\",\"2018-12-27T00:00:00+00:00\",\"2018-12-28T00:00:00+00:00\",\"2018-12-31T00:00:00+00:00\",\"2019-01-02T00:00:00+00:00\",\"2019-01-03T00:00:00+00:00\",\"2019-01-04T00:00:00+00:00\",\"2019-01-07T00:00:00+00:00\",\"2019-01-08T00:00:00+00:00\",\"2019-01-09T00:00:00+00:00\",\"2019-01-10T00:00:00+00:00\",\"2019-01-11T00:00:00+00:00\",\"2019-01-14T00:00:00+00:00\",\"2019-01-15T00:00:00+00:00\",\"2019-01-16T00:00:00+00:00\",\"2019-01-17T00:00:00+00:00\",\"2019-01-18T00:00:00+00:00\",\"2019-01-22T00:00:00+00:00\",\"2019-01-23T00:00:00+00:00\",\"2019-01-24T00:00:00+00:00\",\"2019-01-25T00:00:00+00:00\",\"2019-01-28T00:00:00+00:00\",\"2019-01-29T00:00:00+00:00\",\"2019-01-30T00:00:00+00:00\",\"2019-01-31T00:00:00+00:00\",\"2019-02-01T00:00:00+00:00\",\"2019-02-04T00:00:00+00:00\",\"2019-02-05T00:00:00+00:00\",\"2019-02-06T00:00:00+00:00\",\"2019-02-07T00:00:00+00:00\",\"2019-02-08T00:00:00+00:00\",\"2019-02-11T00:00:00+00:00\",\"2019-02-12T00:00:00+00:00\",\"2019-02-13T00:00:00+00:00\",\"2019-02-14T00:00:00+00:00\",\"2019-02-15T00:00:00+00:00\",\"2019-02-19T00:00:00+00:00\",\"2019-02-20T00:00:00+00:00\",\"2019-02-21T00:00:00+00:00\",\"2019-02-22T00:00:00+00:00\",\"2019-02-25T00:00:00+00:00\",\"2019-02-26T00:00:00+00:00\",\"2019-02-27T00:00:00+00:00\",\"2019-02-28T00:00:00+00:00\",\"2019-03-01T00:00:00+00:00\",\"2019-03-04T00:00:00+00:00\",\"2019-03-05T00:00:00+00:00\",\"2019-03-06T00:00:00+00:00\",\"2019-03-07T00:00:00+00:00\",\"2019-03-08T00:00:00+00:00\",\"2019-03-11T00:00:00+00:00\",\"2019-03-12T00:00:00+00:00\",\"2019-03-13T00:00:00+00:00\",\"2019-03-14T00:00:00+00:00\",\"2019-03-15T00:00:00+00:00\",\"2019-03-18T00:00:00+00:00\",\"2019-03-19T00:00:00+00:00\",\"2019-03-20T00:00:00+00:00\",\"2019-03-21T00:00:00+00:00\",\"2019-03-22T00:00:00+00:00\",\"2019-03-25T00:00:00+00:00\",\"2019-03-26T00:00:00+00:00\",\"2019-03-27T00:00:00+00:00\",\"2019-03-28T00:00:00+00:00\",\"2019-03-29T00:00:00+00:00\",\"2019-04-01T00:00:00+00:00\",\"2019-04-02T00:00:00+00:00\",\"2019-04-03T00:00:00+00:00\",\"2019-04-04T00:00:00+00:00\",\"2019-04-05T00:00:00+00:00\",\"2019-04-08T00:00:00+00:00\",\"2019-04-09T00:00:00+00:00\",\"2019-04-10T00:00:00+00:00\",\"2019-04-11T00:00:00+00:00\",\"2019-04-12T00:00:00+00:00\",\"2019-04-15T00:00:00+00:00\",\"2019-04-16T00:00:00+00:00\",\"2019-04-17T00:00:00+00:00\",\"2019-04-18T00:00:00+00:00\",\"2019-04-22T00:00:00+00:00\",\"2019-04-23T00:00:00+00:00\",\"2019-04-24T00:00:00+00:00\",\"2019-04-25T00:00:00+00:00\",\"2019-04-26T00:00:00+00:00\",\"2019-04-29T00:00:00+00:00\",\"2019-04-30T00:00:00+00:00\",\"2019-05-01T00:00:00+00:00\",\"2019-05-02T00:00:00+00:00\",\"2019-05-03T00:00:00+00:00\",\"2019-05-06T00:00:00+00:00\",\"2019-05-07T00:00:00+00:00\",\"2019-05-08T00:00:00+00:00\",\"2019-05-09T00:00:00+00:00\",\"2019-05-10T00:00:00+00:00\",\"2019-05-13T00:00:00+00:00\",\"2019-05-14T00:00:00+00:00\",\"2019-05-15T00:00:00+00:00\",\"2019-05-16T00:00:00+00:00\",\"2019-05-17T00:00:00+00:00\",\"2019-05-20T00:00:00+00:00\",\"2019-05-21T00:00:00+00:00\",\"2019-05-22T00:00:00+00:00\",\"2019-05-23T00:00:00+00:00\",\"2019-05-24T00:00:00+00:00\",\"2019-05-28T00:00:00+00:00\",\"2019-05-29T00:00:00+00:00\",\"2019-05-30T00:00:00+00:00\",\"2019-05-31T00:00:00+00:00\",\"2019-06-03T00:00:00+00:00\",\"2019-06-04T00:00:00+00:00\",\"2019-06-05T00:00:00+00:00\",\"2019-06-06T00:00:00+00:00\",\"2019-06-07T00:00:00+00:00\",\"2019-06-10T00:00:00+00:00\",\"2019-06-11T00:00:00+00:00\",\"2019-06-12T00:00:00+00:00\",\"2019-06-13T00:00:00+00:00\",\"2019-06-14T00:00:00+00:00\",\"2019-06-17T00:00:00+00:00\",\"2019-06-18T00:00:00+00:00\",\"2019-06-19T00:00:00+00:00\",\"2019-06-20T00:00:00+00:00\",\"2019-06-21T00:00:00+00:00\",\"2019-06-24T00:00:00+00:00\",\"2019-06-25T00:00:00+00:00\",\"2019-06-26T00:00:00+00:00\",\"2019-06-27T00:00:00+00:00\",\"2019-06-28T00:00:00+00:00\",\"2019-07-01T00:00:00+00:00\",\"2019-07-02T00:00:00+00:00\",\"2019-07-03T00:00:00+00:00\",\"2019-07-05T00:00:00+00:00\",\"2019-07-08T00:00:00+00:00\",\"2019-07-09T00:00:00+00:00\",\"2019-07-10T00:00:00+00:00\",\"2019-07-11T00:00:00+00:00\",\"2019-07-12T00:00:00+00:00\",\"2019-07-15T00:00:00+00:00\",\"2019-07-16T00:00:00+00:00\",\"2019-07-17T00:00:00+00:00\",\"2019-07-18T00:00:00+00:00\",\"2019-07-19T00:00:00+00:00\",\"2019-07-22T00:00:00+00:00\",\"2019-07-23T00:00:00+00:00\",\"2019-07-24T00:00:00+00:00\",\"2019-07-25T00:00:00+00:00\",\"2019-07-26T00:00:00+00:00\",\"2019-07-29T00:00:00+00:00\",\"2019-07-30T00:00:00+00:00\",\"2019-07-31T00:00:00+00:00\",\"2019-08-01T00:00:00+00:00\",\"2019-08-02T00:00:00+00:00\",\"2019-08-05T00:00:00+00:00\",\"2019-08-06T00:00:00+00:00\",\"2019-08-07T00:00:00+00:00\",\"2019-08-08T00:00:00+00:00\",\"2019-08-09T00:00:00+00:00\",\"2019-08-12T00:00:00+00:00\",\"2019-08-13T00:00:00+00:00\",\"2019-08-14T00:00:00+00:00\",\"2019-08-15T00:00:00+00:00\",\"2019-08-16T00:00:00+00:00\",\"2019-08-19T00:00:00+00:00\",\"2019-08-20T00:00:00+00:00\",\"2019-08-21T00:00:00+00:00\",\"2019-08-22T00:00:00+00:00\",\"2019-08-23T00:00:00+00:00\",\"2019-08-26T00:00:00+00:00\",\"2019-08-27T00:00:00+00:00\",\"2019-08-28T00:00:00+00:00\",\"2019-08-29T00:00:00+00:00\",\"2019-08-30T00:00:00+00:00\",\"2019-09-03T00:00:00+00:00\",\"2019-09-04T00:00:00+00:00\",\"2019-09-05T00:00:00+00:00\",\"2019-09-06T00:00:00+00:00\",\"2019-09-09T00:00:00+00:00\",\"2019-09-10T00:00:00+00:00\",\"2019-09-11T00:00:00+00:00\",\"2019-09-12T00:00:00+00:00\",\"2019-09-13T00:00:00+00:00\",\"2019-09-16T00:00:00+00:00\",\"2019-09-17T00:00:00+00:00\",\"2019-09-18T00:00:00+00:00\",\"2019-09-19T00:00:00+00:00\",\"2019-09-20T00:00:00+00:00\",\"2019-09-23T00:00:00+00:00\",\"2019-09-24T00:00:00+00:00\",\"2019-09-25T00:00:00+00:00\",\"2019-09-26T00:00:00+00:00\",\"2019-09-27T00:00:00+00:00\",\"2019-09-30T00:00:00+00:00\",\"2019-10-01T00:00:00+00:00\",\"2019-10-02T00:00:00+00:00\",\"2019-10-03T00:00:00+00:00\",\"2019-10-04T00:00:00+00:00\",\"2019-10-07T00:00:00+00:00\",\"2019-10-08T00:00:00+00:00\",\"2019-10-09T00:00:00+00:00\",\"2019-10-10T00:00:00+00:00\",\"2019-10-11T00:00:00+00:00\",\"2019-10-14T00:00:00+00:00\",\"2019-10-15T00:00:00+00:00\",\"2019-10-16T00:00:00+00:00\",\"2019-10-17T00:00:00+00:00\",\"2019-10-18T00:00:00+00:00\",\"2019-10-21T00:00:00+00:00\",\"2019-10-22T00:00:00+00:00\",\"2019-10-23T00:00:00+00:00\",\"2019-10-24T00:00:00+00:00\",\"2019-10-25T00:00:00+00:00\",\"2019-10-28T00:00:00+00:00\",\"2019-10-29T00:00:00+00:00\",\"2019-10-30T00:00:00+00:00\",\"2019-10-31T00:00:00+00:00\",\"2019-11-01T00:00:00+00:00\",\"2019-11-04T00:00:00+00:00\",\"2019-11-05T00:00:00+00:00\",\"2019-11-06T00:00:00+00:00\",\"2019-11-07T00:00:00+00:00\",\"2019-11-08T00:00:00+00:00\",\"2019-11-11T00:00:00+00:00\",\"2019-11-12T00:00:00+00:00\",\"2019-11-13T00:00:00+00:00\",\"2019-11-14T00:00:00+00:00\",\"2019-11-15T00:00:00+00:00\",\"2019-11-18T00:00:00+00:00\",\"2019-11-19T00:00:00+00:00\",\"2019-11-20T00:00:00+00:00\",\"2019-11-21T00:00:00+00:00\",\"2019-11-22T00:00:00+00:00\",\"2019-11-25T00:00:00+00:00\",\"2019-11-26T00:00:00+00:00\",\"2019-11-27T00:00:00+00:00\",\"2019-11-29T00:00:00+00:00\",\"2019-12-02T00:00:00+00:00\",\"2019-12-03T00:00:00+00:00\",\"2019-12-04T00:00:00+00:00\",\"2019-12-05T00:00:00+00:00\",\"2019-12-06T00:00:00+00:00\",\"2019-12-09T00:00:00+00:00\",\"2019-12-10T00:00:00+00:00\",\"2019-12-11T00:00:00+00:00\",\"2019-12-12T00:00:00+00:00\",\"2019-12-13T00:00:00+00:00\",\"2019-12-16T00:00:00+00:00\",\"2019-12-17T00:00:00+00:00\",\"2019-12-18T00:00:00+00:00\",\"2019-12-19T00:00:00+00:00\",\"2019-12-20T00:00:00+00:00\",\"2019-12-23T00:00:00+00:00\",\"2019-12-24T00:00:00+00:00\",\"2019-12-26T00:00:00+00:00\",\"2019-12-27T00:00:00+00:00\",\"2019-12-30T00:00:00+00:00\",\"2019-12-31T00:00:00+00:00\",\"2020-01-02T00:00:00+00:00\",\"2020-01-03T00:00:00+00:00\",\"2020-01-06T00:00:00+00:00\",\"2020-01-07T00:00:00+00:00\",\"2020-01-08T00:00:00+00:00\",\"2020-01-09T00:00:00+00:00\",\"2020-01-10T00:00:00+00:00\",\"2020-01-13T00:00:00+00:00\",\"2020-01-14T00:00:00+00:00\",\"2020-01-15T00:00:00+00:00\",\"2020-01-16T00:00:00+00:00\",\"2020-01-17T00:00:00+00:00\",\"2020-01-21T00:00:00+00:00\",\"2020-01-22T00:00:00+00:00\",\"2020-01-23T00:00:00+00:00\",\"2020-01-24T00:00:00+00:00\",\"2020-01-27T00:00:00+00:00\",\"2020-01-28T00:00:00+00:00\",\"2020-01-29T00:00:00+00:00\",\"2020-01-30T00:00:00+00:00\",\"2020-01-31T00:00:00+00:00\",\"2020-02-03T00:00:00+00:00\",\"2020-02-04T00:00:00+00:00\",\"2020-02-05T00:00:00+00:00\",\"2020-02-06T00:00:00+00:00\",\"2020-02-07T00:00:00+00:00\",\"2020-02-10T00:00:00+00:00\",\"2020-02-11T00:00:00+00:00\",\"2020-02-12T00:00:00+00:00\",\"2020-02-13T00:00:00+00:00\",\"2020-02-14T00:00:00+00:00\",\"2020-02-18T00:00:00+00:00\",\"2020-02-19T00:00:00+00:00\",\"2020-02-20T00:00:00+00:00\",\"2020-02-21T00:00:00+00:00\",\"2020-02-24T00:00:00+00:00\",\"2020-02-25T00:00:00+00:00\",\"2020-02-26T00:00:00+00:00\",\"2020-02-27T00:00:00+00:00\",\"2020-02-28T00:00:00+00:00\",\"2020-03-02T00:00:00+00:00\",\"2020-03-03T00:00:00+00:00\",\"2020-03-04T00:00:00+00:00\",\"2020-03-05T00:00:00+00:00\",\"2020-03-06T00:00:00+00:00\",\"2020-03-09T00:00:00+00:00\",\"2020-03-10T00:00:00+00:00\",\"2020-03-11T00:00:00+00:00\",\"2020-03-12T00:00:00+00:00\",\"2020-03-13T00:00:00+00:00\",\"2020-03-16T00:00:00+00:00\",\"2020-03-17T00:00:00+00:00\",\"2020-03-18T00:00:00+00:00\",\"2020-03-19T00:00:00+00:00\",\"2020-03-20T00:00:00+00:00\",\"2020-03-23T00:00:00+00:00\",\"2020-03-24T00:00:00+00:00\",\"2020-03-25T00:00:00+00:00\",\"2020-03-26T00:00:00+00:00\",\"2020-03-27T00:00:00+00:00\",\"2020-03-30T00:00:00+00:00\",\"2020-03-31T00:00:00+00:00\",\"2020-04-01T00:00:00+00:00\",\"2020-04-02T00:00:00+00:00\",\"2020-04-03T00:00:00+00:00\",\"2020-04-06T00:00:00+00:00\",\"2020-04-07T00:00:00+00:00\",\"2020-04-08T00:00:00+00:00\",\"2020-04-09T00:00:00+00:00\",\"2020-04-13T00:00:00+00:00\",\"2020-04-14T00:00:00+00:00\",\"2020-04-15T00:00:00+00:00\",\"2020-04-16T00:00:00+00:00\",\"2020-04-17T00:00:00+00:00\",\"2020-04-20T00:00:00+00:00\",\"2020-04-21T00:00:00+00:00\",\"2020-04-22T00:00:00+00:00\",\"2020-04-23T00:00:00+00:00\",\"2020-04-24T00:00:00+00:00\",\"2020-04-27T00:00:00+00:00\",\"2020-04-28T00:00:00+00:00\",\"2020-04-29T00:00:00+00:00\",\"2020-04-30T00:00:00+00:00\",\"2020-05-01T00:00:00+00:00\",\"2020-05-04T00:00:00+00:00\",\"2020-05-05T00:00:00+00:00\",\"2020-05-06T00:00:00+00:00\",\"2020-05-07T00:00:00+00:00\",\"2020-05-08T00:00:00+00:00\",\"2020-05-11T00:00:00+00:00\",\"2020-05-12T00:00:00+00:00\",\"2020-05-13T00:00:00+00:00\",\"2020-05-14T00:00:00+00:00\",\"2020-05-15T00:00:00+00:00\",\"2020-05-18T00:00:00+00:00\",\"2020-05-19T00:00:00+00:00\",\"2020-05-20T00:00:00+00:00\",\"2020-05-21T00:00:00+00:00\",\"2020-05-22T00:00:00+00:00\",\"2020-05-26T00:00:00+00:00\",\"2020-05-27T00:00:00+00:00\",\"2020-05-28T00:00:00+00:00\",\"2020-05-29T00:00:00+00:00\",\"2020-06-01T00:00:00+00:00\",\"2020-06-02T00:00:00+00:00\",\"2020-06-03T00:00:00+00:00\",\"2020-06-04T00:00:00+00:00\",\"2020-06-05T00:00:00+00:00\",\"2020-06-08T00:00:00+00:00\",\"2020-06-09T00:00:00+00:00\",\"2020-06-10T00:00:00+00:00\",\"2020-06-11T00:00:00+00:00\",\"2020-06-12T00:00:00+00:00\",\"2020-06-15T00:00:00+00:00\",\"2020-06-16T00:00:00+00:00\",\"2020-06-17T00:00:00+00:00\",\"2020-06-18T00:00:00+00:00\",\"2020-06-19T00:00:00+00:00\",\"2020-06-22T00:00:00+00:00\",\"2020-06-23T00:00:00+00:00\",\"2020-06-24T00:00:00+00:00\",\"2020-06-25T00:00:00+00:00\",\"2020-06-26T00:00:00+00:00\",\"2020-06-29T00:00:00+00:00\",\"2020-06-30T00:00:00+00:00\",\"2020-07-01T00:00:00+00:00\",\"2020-07-02T00:00:00+00:00\",\"2020-07-06T00:00:00+00:00\",\"2020-07-07T00:00:00+00:00\",\"2020-07-08T00:00:00+00:00\",\"2020-07-09T00:00:00+00:00\",\"2020-07-10T00:00:00+00:00\",\"2020-07-13T00:00:00+00:00\",\"2020-07-14T00:00:00+00:00\",\"2020-07-15T00:00:00+00:00\",\"2020-07-16T00:00:00+00:00\",\"2020-07-17T00:00:00+00:00\",\"2020-07-20T00:00:00+00:00\",\"2020-07-21T00:00:00+00:00\",\"2020-07-22T00:00:00+00:00\",\"2020-07-23T00:00:00+00:00\",\"2020-07-24T00:00:00+00:00\",\"2020-07-27T00:00:00+00:00\",\"2020-07-28T00:00:00+00:00\",\"2020-07-29T00:00:00+00:00\",\"2020-07-30T00:00:00+00:00\",\"2020-07-31T00:00:00+00:00\",\"2020-08-03T00:00:00+00:00\",\"2020-08-04T00:00:00+00:00\",\"2020-08-05T00:00:00+00:00\",\"2020-08-06T00:00:00+00:00\",\"2020-08-07T00:00:00+00:00\",\"2020-08-10T00:00:00+00:00\",\"2020-08-11T00:00:00+00:00\",\"2020-08-12T00:00:00+00:00\",\"2020-08-13T00:00:00+00:00\",\"2020-08-14T00:00:00+00:00\",\"2020-08-17T00:00:00+00:00\",\"2020-08-18T00:00:00+00:00\",\"2020-08-19T00:00:00+00:00\",\"2020-08-20T00:00:00+00:00\",\"2020-08-21T00:00:00+00:00\",\"2020-08-24T00:00:00+00:00\",\"2020-08-25T00:00:00+00:00\",\"2020-08-26T00:00:00+00:00\",\"2020-08-27T00:00:00+00:00\",\"2020-08-28T00:00:00+00:00\",\"2020-08-31T00:00:00+00:00\",\"2020-09-01T00:00:00+00:00\",\"2020-09-02T00:00:00+00:00\",\"2020-09-03T00:00:00+00:00\",\"2020-09-04T00:00:00+00:00\",\"2020-09-08T00:00:00+00:00\",\"2020-09-09T00:00:00+00:00\",\"2020-09-10T00:00:00+00:00\",\"2020-09-11T00:00:00+00:00\",\"2020-09-14T00:00:00+00:00\",\"2020-09-15T00:00:00+00:00\",\"2020-09-16T00:00:00+00:00\",\"2020-09-17T00:00:00+00:00\",\"2020-09-18T00:00:00+00:00\",\"2020-09-21T00:00:00+00:00\",\"2020-09-22T00:00:00+00:00\",\"2020-09-23T00:00:00+00:00\",\"2020-09-24T00:00:00+00:00\",\"2020-09-25T00:00:00+00:00\",\"2020-09-28T00:00:00+00:00\",\"2020-09-29T00:00:00+00:00\",\"2020-09-30T00:00:00+00:00\",\"2020-10-01T00:00:00+00:00\",\"2020-10-02T00:00:00+00:00\",\"2020-10-05T00:00:00+00:00\",\"2020-10-06T00:00:00+00:00\",\"2020-10-07T00:00:00+00:00\",\"2020-10-08T00:00:00+00:00\",\"2020-10-09T00:00:00+00:00\",\"2020-10-12T00:00:00+00:00\",\"2020-10-13T00:00:00+00:00\",\"2020-10-14T00:00:00+00:00\",\"2020-10-15T00:00:00+00:00\",\"2020-10-16T00:00:00+00:00\",\"2020-10-19T00:00:00+00:00\",\"2020-10-20T00:00:00+00:00\",\"2020-10-21T00:00:00+00:00\",\"2020-10-22T00:00:00+00:00\",\"2020-10-23T00:00:00+00:00\",\"2020-10-26T00:00:00+00:00\",\"2020-10-27T00:00:00+00:00\",\"2020-10-28T00:00:00+00:00\",\"2020-10-29T00:00:00+00:00\",\"2020-10-30T00:00:00+00:00\",\"2020-11-02T00:00:00+00:00\",\"2020-11-03T00:00:00+00:00\",\"2020-11-04T00:00:00+00:00\",\"2020-11-05T00:00:00+00:00\",\"2020-11-06T00:00:00+00:00\",\"2020-11-09T00:00:00+00:00\",\"2020-11-10T00:00:00+00:00\",\"2020-11-11T00:00:00+00:00\",\"2020-11-12T00:00:00+00:00\",\"2020-11-13T00:00:00+00:00\",\"2020-11-16T00:00:00+00:00\",\"2020-11-17T00:00:00+00:00\",\"2020-11-18T00:00:00+00:00\",\"2020-11-19T00:00:00+00:00\",\"2020-11-20T00:00:00+00:00\",\"2020-11-23T00:00:00+00:00\",\"2020-11-24T00:00:00+00:00\",\"2020-11-25T00:00:00+00:00\",\"2020-11-27T00:00:00+00:00\",\"2020-11-30T00:00:00+00:00\",\"2020-12-01T00:00:00+00:00\",\"2020-12-02T00:00:00+00:00\",\"2020-12-03T00:00:00+00:00\",\"2020-12-04T00:00:00+00:00\",\"2020-12-07T00:00:00+00:00\",\"2020-12-08T00:00:00+00:00\",\"2020-12-09T00:00:00+00:00\",\"2020-12-10T00:00:00+00:00\",\"2020-12-11T00:00:00+00:00\",\"2020-12-14T00:00:00+00:00\",\"2020-12-15T00:00:00+00:00\",\"2020-12-16T00:00:00+00:00\",\"2020-12-17T00:00:00+00:00\",\"2020-12-18T00:00:00+00:00\",\"2020-12-21T00:00:00+00:00\",\"2020-12-22T00:00:00+00:00\",\"2020-12-23T00:00:00+00:00\",\"2020-12-24T00:00:00+00:00\",\"2020-12-28T00:00:00+00:00\",\"2020-12-29T00:00:00+00:00\",\"2020-12-30T00:00:00+00:00\",\"2020-12-31T00:00:00+00:00\",\"2021-01-04T00:00:00+00:00\",\"2021-01-05T00:00:00+00:00\",\"2021-01-06T00:00:00+00:00\",\"2021-01-07T00:00:00+00:00\",\"2021-01-08T00:00:00+00:00\",\"2021-01-11T00:00:00+00:00\",\"2021-01-12T00:00:00+00:00\",\"2021-01-13T00:00:00+00:00\",\"2021-01-14T00:00:00+00:00\",\"2021-01-15T00:00:00+00:00\",\"2021-01-19T00:00:00+00:00\",\"2021-01-20T00:00:00+00:00\",\"2021-01-21T00:00:00+00:00\",\"2021-01-22T00:00:00+00:00\",\"2021-01-25T00:00:00+00:00\",\"2021-01-26T00:00:00+00:00\",\"2021-01-27T00:00:00+00:00\",\"2021-01-28T00:00:00+00:00\",\"2021-01-29T00:00:00+00:00\",\"2021-02-01T00:00:00+00:00\",\"2021-02-02T00:00:00+00:00\",\"2021-02-03T00:00:00+00:00\",\"2021-02-04T00:00:00+00:00\",\"2021-02-05T00:00:00+00:00\",\"2021-02-08T00:00:00+00:00\",\"2021-02-09T00:00:00+00:00\",\"2021-02-10T00:00:00+00:00\",\"2021-02-11T00:00:00+00:00\",\"2021-02-12T00:00:00+00:00\",\"2021-02-16T00:00:00+00:00\",\"2021-02-17T00:00:00+00:00\",\"2021-02-18T00:00:00+00:00\",\"2021-02-19T00:00:00+00:00\",\"2021-02-22T00:00:00+00:00\",\"2021-02-23T00:00:00+00:00\",\"2021-02-24T00:00:00+00:00\",\"2021-02-25T00:00:00+00:00\",\"2021-02-26T00:00:00+00:00\",\"2021-03-01T00:00:00+00:00\",\"2021-03-02T00:00:00+00:00\",\"2021-03-03T00:00:00+00:00\",\"2021-03-04T00:00:00+00:00\",\"2021-03-05T00:00:00+00:00\",\"2021-03-08T00:00:00+00:00\",\"2021-03-09T00:00:00+00:00\",\"2021-03-10T00:00:00+00:00\",\"2021-03-11T00:00:00+00:00\",\"2021-03-12T00:00:00+00:00\",\"2021-03-15T00:00:00+00:00\",\"2021-03-16T00:00:00+00:00\",\"2021-03-17T00:00:00+00:00\",\"2021-03-18T00:00:00+00:00\",\"2021-03-19T00:00:00+00:00\",\"2021-03-22T00:00:00+00:00\",\"2021-03-23T00:00:00+00:00\",\"2021-03-24T00:00:00+00:00\",\"2021-03-25T00:00:00+00:00\",\"2021-03-26T00:00:00+00:00\",\"2021-03-29T00:00:00+00:00\",\"2021-03-30T00:00:00+00:00\",\"2021-03-31T00:00:00+00:00\",\"2021-04-01T00:00:00+00:00\",\"2021-04-05T00:00:00+00:00\",\"2021-04-06T00:00:00+00:00\",\"2021-04-07T00:00:00+00:00\",\"2021-04-08T00:00:00+00:00\",\"2021-04-09T00:00:00+00:00\",\"2021-04-12T00:00:00+00:00\",\"2021-04-13T00:00:00+00:00\",\"2021-04-14T00:00:00+00:00\",\"2021-04-15T00:00:00+00:00\",\"2021-04-16T00:00:00+00:00\",\"2021-04-19T00:00:00+00:00\",\"2021-04-20T00:00:00+00:00\",\"2021-04-21T00:00:00+00:00\",\"2021-04-22T00:00:00+00:00\",\"2021-04-23T00:00:00+00:00\",\"2021-04-26T00:00:00+00:00\",\"2021-04-27T00:00:00+00:00\",\"2021-04-28T00:00:00+00:00\",\"2021-04-29T00:00:00+00:00\",\"2021-04-30T00:00:00+00:00\",\"2021-05-03T00:00:00+00:00\",\"2021-05-04T00:00:00+00:00\",\"2021-05-05T00:00:00+00:00\",\"2021-05-06T00:00:00+00:00\",\"2021-05-07T00:00:00+00:00\",\"2021-05-10T00:00:00+00:00\",\"2021-05-11T00:00:00+00:00\",\"2021-05-12T00:00:00+00:00\",\"2021-05-13T00:00:00+00:00\",\"2021-05-14T00:00:00+00:00\",\"2021-05-17T00:00:00+00:00\",\"2021-05-18T00:00:00+00:00\",\"2021-05-19T00:00:00+00:00\",\"2021-05-20T00:00:00+00:00\",\"2021-05-21T00:00:00+00:00\",\"2021-05-24T00:00:00+00:00\",\"2021-05-25T00:00:00+00:00\",\"2021-05-26T00:00:00+00:00\",\"2021-05-27T00:00:00+00:00\",\"2021-05-28T00:00:00+00:00\",\"2021-06-01T00:00:00+00:00\",\"2021-06-02T00:00:00+00:00\",\"2021-06-03T00:00:00+00:00\",\"2021-06-04T00:00:00+00:00\",\"2021-06-07T00:00:00+00:00\",\"2021-06-08T00:00:00+00:00\",\"2021-06-09T00:00:00+00:00\",\"2021-06-10T00:00:00+00:00\",\"2021-06-11T00:00:00+00:00\",\"2021-06-14T00:00:00+00:00\",\"2021-06-15T00:00:00+00:00\",\"2021-06-16T00:00:00+00:00\",\"2021-06-17T00:00:00+00:00\",\"2021-06-18T00:00:00+00:00\",\"2021-06-21T00:00:00+00:00\",\"2021-06-22T00:00:00+00:00\",\"2021-06-23T00:00:00+00:00\",\"2021-06-24T00:00:00+00:00\",\"2021-06-25T00:00:00+00:00\",\"2021-06-28T00:00:00+00:00\",\"2021-06-29T00:00:00+00:00\",\"2021-06-30T00:00:00+00:00\",\"2021-07-01T00:00:00+00:00\",\"2021-07-02T00:00:00+00:00\",\"2021-07-06T00:00:00+00:00\",\"2021-07-07T00:00:00+00:00\",\"2021-07-08T00:00:00+00:00\",\"2021-07-09T00:00:00+00:00\",\"2021-07-12T00:00:00+00:00\",\"2021-07-13T00:00:00+00:00\",\"2021-07-14T00:00:00+00:00\",\"2021-07-15T00:00:00+00:00\",\"2021-07-16T00:00:00+00:00\",\"2021-07-19T00:00:00+00:00\",\"2021-07-20T00:00:00+00:00\",\"2021-07-21T00:00:00+00:00\",\"2021-07-22T00:00:00+00:00\",\"2021-07-23T00:00:00+00:00\",\"2021-07-26T00:00:00+00:00\",\"2021-07-27T00:00:00+00:00\",\"2021-07-28T00:00:00+00:00\",\"2021-07-29T00:00:00+00:00\",\"2021-07-30T00:00:00+00:00\",\"2021-08-02T00:00:00+00:00\",\"2021-08-03T00:00:00+00:00\",\"2021-08-04T00:00:00+00:00\",\"2021-08-05T00:00:00+00:00\",\"2021-08-06T00:00:00+00:00\",\"2021-08-09T00:00:00+00:00\",\"2021-08-10T00:00:00+00:00\",\"2021-08-11T00:00:00+00:00\",\"2021-08-12T00:00:00+00:00\",\"2021-08-13T00:00:00+00:00\",\"2021-08-16T00:00:00+00:00\",\"2021-08-17T00:00:00+00:00\",\"2021-08-18T00:00:00+00:00\",\"2021-08-19T00:00:00+00:00\",\"2021-08-20T00:00:00+00:00\",\"2021-08-23T00:00:00+00:00\",\"2021-08-24T00:00:00+00:00\",\"2021-08-25T00:00:00+00:00\",\"2021-08-26T00:00:00+00:00\",\"2021-08-27T00:00:00+00:00\",\"2021-08-30T00:00:00+00:00\",\"2021-08-31T00:00:00+00:00\",\"2021-09-01T00:00:00+00:00\",\"2021-09-02T00:00:00+00:00\",\"2021-09-03T00:00:00+00:00\",\"2021-09-07T00:00:00+00:00\",\"2021-09-08T00:00:00+00:00\",\"2021-09-09T00:00:00+00:00\",\"2021-09-10T00:00:00+00:00\",\"2021-09-13T00:00:00+00:00\",\"2021-09-14T00:00:00+00:00\",\"2021-09-15T00:00:00+00:00\",\"2021-09-16T00:00:00+00:00\",\"2021-09-17T00:00:00+00:00\",\"2021-09-20T00:00:00+00:00\",\"2021-09-21T00:00:00+00:00\",\"2021-09-22T00:00:00+00:00\",\"2021-09-23T00:00:00+00:00\",\"2021-09-24T00:00:00+00:00\",\"2021-09-27T00:00:00+00:00\",\"2021-09-28T00:00:00+00:00\",\"2021-09-29T00:00:00+00:00\",\"2021-09-30T00:00:00+00:00\",\"2021-10-01T00:00:00+00:00\",\"2021-10-04T00:00:00+00:00\",\"2021-10-05T00:00:00+00:00\",\"2021-10-06T00:00:00+00:00\",\"2021-10-07T00:00:00+00:00\",\"2021-10-08T00:00:00+00:00\",\"2021-10-11T00:00:00+00:00\",\"2021-10-12T00:00:00+00:00\",\"2021-10-13T00:00:00+00:00\",\"2021-10-14T00:00:00+00:00\",\"2021-10-15T00:00:00+00:00\",\"2021-10-18T00:00:00+00:00\",\"2021-10-19T00:00:00+00:00\",\"2021-10-20T00:00:00+00:00\",\"2021-10-21T00:00:00+00:00\",\"2021-10-22T00:00:00+00:00\",\"2021-10-25T00:00:00+00:00\",\"2021-10-26T00:00:00+00:00\",\"2021-10-27T00:00:00+00:00\",\"2021-10-28T00:00:00+00:00\",\"2021-10-29T00:00:00+00:00\",\"2021-11-01T00:00:00+00:00\",\"2021-11-02T00:00:00+00:00\",\"2021-11-03T00:00:00+00:00\",\"2021-11-04T00:00:00+00:00\",\"2021-11-05T00:00:00+00:00\",\"2021-11-08T00:00:00+00:00\",\"2021-11-09T00:00:00+00:00\",\"2021-11-10T00:00:00+00:00\",\"2021-11-11T00:00:00+00:00\",\"2021-11-12T00:00:00+00:00\",\"2021-11-15T00:00:00+00:00\",\"2021-11-16T00:00:00+00:00\",\"2021-11-17T00:00:00+00:00\",\"2021-11-18T00:00:00+00:00\",\"2021-11-19T00:00:00+00:00\",\"2021-11-22T00:00:00+00:00\",\"2021-11-23T00:00:00+00:00\",\"2021-11-24T00:00:00+00:00\",\"2021-11-26T00:00:00+00:00\",\"2021-11-29T00:00:00+00:00\",\"2021-11-30T00:00:00+00:00\",\"2021-12-01T00:00:00+00:00\",\"2021-12-02T00:00:00+00:00\",\"2021-12-03T00:00:00+00:00\",\"2021-12-06T00:00:00+00:00\",\"2021-12-07T00:00:00+00:00\",\"2021-12-08T00:00:00+00:00\",\"2021-12-09T00:00:00+00:00\",\"2021-12-10T00:00:00+00:00\",\"2021-12-13T00:00:00+00:00\",\"2021-12-14T00:00:00+00:00\",\"2021-12-15T00:00:00+00:00\",\"2021-12-16T00:00:00+00:00\",\"2021-12-17T00:00:00+00:00\",\"2021-12-20T00:00:00+00:00\",\"2021-12-21T00:00:00+00:00\",\"2021-12-22T00:00:00+00:00\",\"2021-12-23T00:00:00+00:00\",\"2021-12-27T00:00:00+00:00\",\"2021-12-28T00:00:00+00:00\",\"2021-12-29T00:00:00+00:00\",\"2021-12-30T00:00:00+00:00\",\"2021-12-31T00:00:00+00:00\",\"2022-01-03T00:00:00+00:00\",\"2022-01-04T00:00:00+00:00\",\"2022-01-05T00:00:00+00:00\",\"2022-01-06T00:00:00+00:00\",\"2022-01-07T00:00:00+00:00\",\"2022-01-10T00:00:00+00:00\",\"2022-01-11T00:00:00+00:00\",\"2022-01-12T00:00:00+00:00\",\"2022-01-13T00:00:00+00:00\",\"2022-01-14T00:00:00+00:00\",\"2022-01-18T00:00:00+00:00\",\"2022-01-19T00:00:00+00:00\",\"2022-01-20T00:00:00+00:00\",\"2022-01-21T00:00:00+00:00\",\"2022-01-24T00:00:00+00:00\",\"2022-01-25T00:00:00+00:00\",\"2022-01-26T00:00:00+00:00\",\"2022-01-27T00:00:00+00:00\",\"2022-01-28T00:00:00+00:00\",\"2022-01-31T00:00:00+00:00\",\"2022-02-01T00:00:00+00:00\",\"2022-02-02T00:00:00+00:00\",\"2022-02-03T00:00:00+00:00\",\"2022-02-04T00:00:00+00:00\",\"2022-02-07T00:00:00+00:00\",\"2022-02-08T00:00:00+00:00\",\"2022-02-09T00:00:00+00:00\",\"2022-02-10T00:00:00+00:00\",\"2022-02-11T00:00:00+00:00\",\"2022-02-14T00:00:00+00:00\",\"2022-02-15T00:00:00+00:00\",\"2022-02-16T00:00:00+00:00\",\"2022-02-17T00:00:00+00:00\",\"2022-02-18T00:00:00+00:00\",\"2022-02-22T00:00:00+00:00\",\"2022-02-23T00:00:00+00:00\",\"2022-02-24T00:00:00+00:00\",\"2022-02-25T00:00:00+00:00\",\"2022-02-28T00:00:00+00:00\"],\"y\":[45.772919,45.948658,46.012539,46.204227,46.35598,46.419861,45.940655,46.371952,46.451824,45.924675,46.531693,46.100399,45.253784,44.255428,44.447117,44.24744,44.463078,43.935944,43.416798,44.079704,44.646778,44.423153,43.04142,43.113289,42.777847,43.344917,43.281029,43.744267,43.744267,44.479053,44.726654,44.982227,45.141972,45.070087,44.526974,44.926319,44.910347,44.910347,45.445469,45.589226,45.645157,45.764942,46.491756,46.499744,46.595585,46.843178,47.018887,47.018887,47.002918,47.386292,47.689793,47.633888,47.322392,47.657833,47.993301,47.71376,47.630363,47.622341,47.902996,47.927048,47.782711,48.12751,48.592598,48.728901,48.472313,48.584583,48.913338,49.025589,49.073719,49.675098,49.739239,48.961449,49.089729,49.554829,49.514717,49.75528,50.092064,49.915653,48.712864,49.033619,49.675098,48.825134,49.482655,48.279865,47.886955,46.275219,45.401196,47.486031,47.445927,48.207703,47.630363,46.772373,46.80444,46.138916,45.810135,44.030014,44.67149,44.110207,44.110207,43.925774,45.465347,44.976208,44.046055,45.192707,45.433262,43.837574,43.123913,43.492775,43.292313,44.62339,44.89603,44.904041,45.914383,45.866276,45.946465,45.978539,45.802113,45.016304,44.839901,44.130047,44.355644,44.210625,42.816696,42.349377,42.164051,41.962616,42.09153,43.461266,43.888313,44.226734,44.242847,44.968014,44.959953,45.00024,43.694946,43.944733,44.452324,43.896366,44.871319,45.330574,45.886543,45.830147,45.507854,45.274185,45.322529,46.29747,46.047691,46.410263,46.313572,46.144382,46.386093,46.096035,44.734341,44.484566,44.315369,44.27507,44.903545,45.008308,44.21867,44.065586,43.831932,43.203445,43.34042,43.074539,43.815811,43.179279,43.187336,44.452324,44.919655,45.515907,45.024422,45.258068,45.483673,45.677052,46.257179,46.249123,46.402214,46.386093,46.410263,47.175716,47.062912,46.813137,46.410263,47.395931,47.193459,47.460735,47.379723,47.274441,47.48502,47.063862,48.043865,47.99527,47.930489,48.254429,48.327312,48.49741,48.878063,48.748478,48.788971,49.056248,48.343521,48.829472,48.910465,49.056248,49.218224,49.210129,49.112942,49.112942,49.177746,49.185829,49.574589,49.777069,50.748959,50.975727,50.910934,50.514084,50.732769,50.595078,49.955246,49.882355,49.08865,49.169632,49.858051,50.060535,50.068634,49.355907,50.149624,49.809456,49.736565,49.428802,50.489784,51.137722,51.299698,51.283493,51.340195,51.485977,51.672245,52.004318,52.020519,52.036716,51.809933,52.117702,52.214901,52.352581,52.668449,52.868748,52.79546,52.82803,52.876888,52.958324,52.893154,52.868748,53.414295,53.308437,53.60157,53.479424,53.357285,53.39801,53.609707,54.090118,54.008686,54.358807,54.497227,53.845837,53.682991,53.772549,54.073818,54.106377,54.415813,54.578651,53.60157,53.951691,54.839211,54.774067,54.896214,55.050911,55.41732,55.694176,55.5476,55.612762,55.979149,56.125706,55.94659,56.312988,56.516541,56.622395,55.409184,54.945076,54.953205,55.645325,55.94659,55.002068,55.116055,56.117569,55.743027,55.238194,55.734886,55.653439,54.586807,54.953205,54.619362,54.041248,53.104877,53.715549,53.967964,54.8148,54.635658,54.765938,55.287052,55.485741,55.354912,55.763748,56.180756,56.180756,56.450588,56.499603,56.532318,56.679512,56.515972,56.27887,56.074444,55.600224,55.632923,55.665634,55.935467,55.26495,55.583847,56.393322,56.671337,56.614105,57.112862,57.488983,57.660686,57.80788,57.709743,57.39085,56.965691,56.507797,56.753075,57.055634,57.562572,56.973869,57.243687,56.720406,56.327915,56.27887,56.818501,56.95752,56.532318,55.812798,55.755562,55.984524,56.319756,56.581402,57.194633,55.894577,55.788284,55.2159,54.578144,54.553612,54.267433,54.651741,53.874969,53.866787,54.610851,53.637856,53.72781,53.899487,54.152973,54.978786,54.676258,54.586311,53.964725,54.424553,55.18,55.664474,56.165367,56.970058,56.961857,57.076809,57.69265,57.282097,56.222858,55.976494,56.189999,55.713745,56.066826,55.549526,56.485611,56.452751,57.142502,57.241047,56.87154,56.633411,55.385277,55.196423,54.892601,54.646275,53.201073,53.496681,50.811581,50.598091,47.091854,49.448505,47.346413,49.514202,49.842648,50.926556,50.442078,50.450291,48.200378,47.338207,47.346413,48.972244,49.670216,48.840866,49.653786,51.20573,51.345314,51.550598,50.967606,49.571678,49.259651,50.729481,50.121834,48.816235,49.161114,49.653786,50.359959,51.238571,51.484917,50.942959,50.762325,49.111851,47.600956,47.878334,49.009247,49.628361,48.49744,48.852413,47.647194,46.070499,47.226192,48.192013,49.124802,48.67905,50.35479,50.396076,50.874851,50.808811,51.733353,50.685005,51.708591,51.023445,51.254574,52.220398,53.095425,52.014011,52.575363,54.391441,54.440956,53.062397,51.650806,52.501053,53.52467,53.235748,53.508148,54.152039,52.08831,52.550583,53.590706,53.062397,53.384342,52.492802,51.634308,51.560013,50.602432,50.363033,49.240383,49.083538,50.561169,50.71801,52.864288,52.864288,52.839516,53.417343,53.442123,53.582451,52.368984,53.301792,52.484543,51.923218,51.328861,51.518742,51.692074,51.08947,52.690918,52.79137,53.339306,53.74609,53.754398,53.098545,53.621563,53.380817,54.136284,54.161175,54.401917,54.277401,54.401917,54.94154,55.041183,55.173996,54.916649,55.041183,55.705326,56.045696,56.06229,56.078907,56.070599,56.585312,56.294746,56.33625,56.112087,56.087193,56.734749,56.834373,57.681168,57.647964,57.780762,57.905319,57.996613,57.54002,57.980042,57.897015,57.647964,58.337013,58.42001,58.395134,58.212486,58.536263,58.61927,58.669071,58.835121,58.453236,58.90152,58.610962,58.345318,57.407192,57.905319,58.50304,58.793583,58.752106,59.839645,59.715099,60.063782,60.155087,60.379257,60.171703,60.105293,59.623798,59.864544,60.696617,60.496506,60.19635,60.088005,60.246391,60.754997,60.554882,59.879547,59.837849,59.137508,58.028633,58.512203,59.395973,58.670631,58.61227,59.504364,59.295925,58.954082,59.045788,58.53722,58.728992,59.596085,60.029606,60.171341,59.862885,60.246391,60.112984,59.587715,58.595581,58.637272,58.420486,58.070316,58.22039,58.061993,57.403328,57.094849,56.82803,55.844223,55.377316,56.40284,56.419521,56.519558,56.627945,56.494553,57.178219,56.277763,56.13604,54.693657,54.64362,55.06052,56.344475,56.277763,56.769669,55.977619,56.586258,56.169376,56.752995,57.336632,57.503365,58.112015,58.003624,56.694653,57.153191,56.219696,56.487862,57.032528,56.915218,58.406803,58.566032,59.043678,58.800659,58.247581,58.105137,57.585598,57.543682,57.317436,58.214066,58.071625,58.457077,58.876083,58.976624,58.440334,57.795074,57.275543,57.283916,58.155411,59.303455,59.244774,58.917988,58.683342,58.281116,59.462666,59.613495,59.973835,60.049236,60.099518,60.216831,60.166569,60.149784,60.283867,60.744736,60.862068,60.853676,60.728001,60.652573,60.200077,60.543633,60.535248,60.526878,60.602303,60.149784,60.51012,60.468231,60.468231,61.674915,61.976585,61.607849,61.741947,62.001713,62.931862,63.267063,63.007294,62.898354,62.94865,62.864834,62.881592,62.741821,62.101833,61.689224,62.303936,62.017643,62.127094,62.219738,62.447094,62.91864,62.901817,62.657619,62.026054,61.663971,61.756596,61.487144,61.992371,62.632355,62.927078,62.80077,61.7145,61.7145,60.931412,60.762974,60.931412,60.864021,60.897701,61.663971,61.024014,61.217674,61.680813,60.299831,59.533558,59.592525,59.626202,59.398846,58.565201,58.413639,58.733635,59.946178,60.013538,60.165112,60.948212,60.87244,60.552452,61.032433,61.386101,61.369255,61.099792,61.015594,61.133472,61.327152,61.503979,61.579765,61.967087,61.992371,61.638718,61.377666,62.143951,62.868126,62.480782,62.824322,62.289925,62.077866,61.780937,61.730015,61.059895,62.162647,63.740486,63.647194,63.969532,63.799854,63.630211,63.82531,64.266403,64.274887,64.207047,64.325798,64.274887,64.716026,64.89415,65.233475,65.309814,65.386154,65.750931,65.691536,65.912117,65.649132,65.530365,66.166595,65.471008,66.090271,66.20903,66.090271,66.48896,66.455032,66.565285,66.658607,66.743431,66.667076,67.133644,66.242958,65.79335,66.429558,65.208023,65.623711,66.429558,66.370163,66.522858,66.828247,67.49839,67.600212,67.76136,68.092194,68.2873,68.168564,68.295784,68.677513,68.601173,68.227943,68.041313,68.550293,67.998886,68.419868,68.189781,68.70108,68.752213,68.990791,68.624374,68.828888,68.078995,68.377266,68.138672,68.556229,68.752213,69.638451,69.902611,69.655502,67.959702,68.965225,67.934151,67.508064,68.155693,68.445419,69.186821,69.289055,69.570282,69.442474,69.885567,70.098625,69.38282,70.107132,70.763298,71.035988,71.428001,71.760323,71.521736,71.837029,71.854057,72.595436,72.910736,72.612488,73.353882,73.345329,73.464653,72.740318,72.603958,72.510223,72.978905,72.48468,72.782928,71.811455,72.101189,71.751801,70.737724,71.402435,72.288666,72.31424,71.58139,70.976349,72.075638,71.666565,72.169365,72.714767,71.785904,70.004875,70.183861,69.281418,69.974937,70.625618,71.147881,70.779732,71.370476,71.293419,71.396164,72.158157,72.543442,73.057152,73.0914,74.153053,74.221558,74.504082,74.170166,74.409927,74.829414,74.940681,75.103401,74.966408,74.66674,74.940681,74.949287,74.692429,74.769485,74.846527,75.796898,75.831123,75.839699,75.343117,75.043465,75.351692,75.16333,75.111969,75.274635,74.880814,73.767746,73.528046,73.031456,73.510933,73.08284,73.733536,74.041748,73.853371,72.543442,72.808853,73.005791,72.57769,72.945847,73.596535,73.682167,73.742065,74.572586,75.154755,75.351692,75.120522,75.274635,75.711258,76.113686,77.004105,76.884262,76.370522,76.025543,75.90509,75.767441,76.059959,75.75882,75.406128,76.059959,75.930931,75.285675,75.836288,75.156647,74.158676,74.107063,75.776062,76.309441,76.644951,76.059959,77.126747,77.694557,78.245163,78.202156,78.64949,78.279564,78.580673,78.864548,78.924797,79.320541,78.855949,78.623688,78.726929,79.088264,78.855949,79.062431,78.012878,79.053841,79.105446,78.984993,79.656044,80.034569,80.387314,80.008789,79.776512,79.527016,80.241074,80.63681,80.550766,80.628235,80.860497,80.748657,80.576584,80.266876,80.155014,79.922737,80.748657,80.929298,80.662621,79.664627,79.518402,79.544228,80.103424,79.862541,81.153,81.041122,81.580826,82.065125,82.289978,82.679169,82.627266,82.653229,82.955933,82.229431,82.212173,81.995911,82.523491,82.58403,82.653229,82.886734,81.840248,82.739693,83.154823,83.094284,82.774315,83.051056,83.206749,82.488899,80.707314,80.188385,80.750542,79.920326,80.854332,80.326813,78.441444,79.03817,78.917107,79.877068,80.906258,81.001373,81.926758,82.039162,82.540779,82.938644,83.180779,82.627266,83.180779,83.111572,83.587257,83.552673,83.639153,84.0802,84.235893,83.621841,84.936409,84.953728,85.109375,85.08345,85.022896,84.547234,84.607765,83.630463,83.526718,84.192642,84.910461,84.426155,84.849937,84.538589,84.045639,84.343575,83.639969,83.466232,83.83976,84.66494,85.325127,85.594368,85.359848,84.18721,83.179611,83.544441,84.543343,82.684502,81.867981,82.423889,82.988503,83.857124,84.022163,84.360939,84.795258,84.57811,84.690994,83.865799,83.987427,84.404358,84.717064,84.743134,84.67363,84.812614,84.030853,84.421745,84.195908,84.404358,85.359848,85.307716,84.838684,84.056908,84.413071,84.80394,84.169846,84.821297,85.107956,85.550957,86.115562,86.020012,86.480377,86.497742,86.601982,86.56723,86.749664,87.453239,87.904938,88.052589,88.035217,87.739891,87.114471,87.401115,87.470596,87.78331,88.434769,88.539024,88.747498,88.72142,88.102165,88.547005,88.494659,88.730141,88.765045,89.401749,89.349442,89.820412,89.349442,88.66909,89.052887,88.660378,88.738853,89.166252,88.939499,89.166252,88.137054,89.087761,88.878441,89.331978,89.541306,89.558739,89.087761,89.0616,88.738853,88.799919,86.994438,86.776405,87.369514,86.601967,86.619392,86.165863,87.160172,87.474159,87.317154,87.936424,88.320229,88.328941,89.122658,89.567482,89.776802,89.977425,89.846596,90.317581,90.483299,90.430977,90.335007,90.605408,90.675179,90.579231,90.387337,90.806023,90.622849,89.986137,90.326309,90.492035,89.907639,89.67215,90.308861,90.4048,90.867088,90.692635,89.855316,89.279663,89.976227,88.565559,89.284035,89.126305,88.705727,87.540421,87.584221,88.565559,88.390305,87.02346,88.469154,86.64666,85.56897,84.202095,84.464981,83.991814,84.175835,85.095848,85.94574,87.645546,86.962128,88.013542,88.6269,88.504227,89.652023,89.520592,90.072601,91.141541,91.194115,90.86116,91.290527,91.737358,91.807442,92.087837,92.175453,92.157951,92.140419,92.1492,92.140419,92.683632,92.447098,92.709953,93.2006,93.542313,93.52478,93.735069,93.402161,92.613571,93.191841,93.612434,93.498512,93.708794,93.042885,93.095467,91.570892,91.991478,90.545738,89.888588,89.22271,91.132805,93.288239,93.673767,94.044579,94.255974,94.282379,94.56427,94.766861,94.300018,93.366341,93.295891,91.692802,90.794388,91.877785,93.498466,92.723343,92.062744,91.851349,91.349281,90.424416,91.62233,91.754471,92.168434,93.568947,93.146133,93.533722,92.441498,91.190735,92.062744,90.811989,91.833733,93.24305,92.91713,93.938881,93.656998,93.190201,94.141464,94.185501,95.092751,95.541946,95.691711,95.744553,95.718155,96.255417,96.246605,96.466827,96.431602,96.369919,96.026405,96.616562,96.2202,95.832642,95.982361,94.652344,95.004662,93.56015,93.489662,94.661133,94.132645,95.312943,95.127975,96.2202,95.876656,96.6782,96.510864,95.999985,94.502647,94.316849,94.573479,95.776993,94.909729,94.732742,95.033623,95.688477,95.369888,95.776993,96.113258,96.56459,96.184067,96.325615,96.812363,96.768089,95.644241,96.422981,96.396446,96.803505,97.104393,97.210579,96.706161,96.962791,96.538025,95.493797,96.369881,96.706161,95.555756,95.290268,95.653091,96.856606,96.449532,96.166367,96.219452,97.175171,97.290207,97.653046,97.60881,97.546867,97.794617,97.60881,96.591133,97.476044,97.387566,96.732712,96.971634,96.900864,97.237114,96.458389,96.378746,95.785812,95.706169,96.87429,97.148628,96.511475,96.068993,96.599968,96.759254,97.714989,97.290207,97.883133,97.980476,97.237114,96.936241,96.881142,94.854836,95.112556,95.73468,95.610275,95.361397,95.885773,94.286041,94.481537,95.628029,96.712303,97.147774,97.023354,97.698784,97.725441,97.734329,97.307732,97.165535,96.605659,95.592476,94.961472,96.090164,96.747849,96.827827,96.730057,96.383469,96.22348,96.543442,95.752419,95.476944,96.667831,95.796883,95.894676,95.76133,96.125725,96.738945,96.490105,95.628029,93.548393,90.855522,87.202827,86.163017,89.291321,91.450966,91.522079,90.837761,88.171509,89.833473,89.940094,88.660339,90.899948,89.655716,90.117874,90.526672,90.180084,91.317665,92.090851,91.966469,90.508911,90.873291,89.655716,89.477974,89.15802,88.977592,86.592583,86.574722,88.182579,88.361237,89.647552,91.300072,91.005295,91.82708,92.622101,92.747147,92.765007,92.086128,91.612701,92.997246,93.354553,93.461746,93.354553,92.622101,93.979836,94.96241,94.739105,94.426476,95.668091,95.525192,95.158951,96.409515,96.650681,96.418434,96.311226,96.329094,95.364395,95.578781,95.167892,93.747597,92.756058,94.104897,93.988777,95.489456,95.364395,95.775284,95.677032,95.927147,95.998604,96.141525,95.730629,96.632828,95.623421,94.194221,95.927147,95.176819,94.605118,93.792252,94.069168,92.220108,92.550621,93.542137,94.899879,93.506416,91.916428,92.646782,93.482239,94.650108,94.533302,94.326683,95.33284,94.614136,93.697845,92.296432,92.503021,91.263313,89.026421,88.011299,87.957405,88.55925,86.277481,87.59803,85.756432,85.666588,84.822136,85.154564,86.969215,85.540848,86.84343,85.855255,86.196625,88.334686,88.352654,86.645782,87.16684,87.373474,85.576767,84.247208,84.139412,84.193306,83.151207,84.768257,86.3134,87.741783,87.391418,87.409409,88.685051,87.61602,88.06517,89.107292,89.035416,88.325714,90.427864,90.930939,91.380104,91.694511,91.883186,90.742271,91.182457,91.155518,92.700676,92.592873,92.27697,92.854599,93.567635,93.982819,94.073051,94.045975,93.278793,93.251732,93.314934,94.352844,94.713875,94.605553,95.201279,94.804131,93.883514,94.91243,93.775208,94.045975,93.784241,94.695801,95.805962,95.769844,95.724716,96.36554,96.636307,96.735573,96.257225,96.392609,96.157951,96.419685,96.654381,95.78791,95.228325,95.968414,95.00267,94.4431,94.407005,94.749985,94.849251,95.977448,95.101982,95.065857,94.244545,95.183189,94.325752,94.31675,93.946693,94.668747,94.551399,95.814972,96.509949,96.491898,96.925125,96.879982,97.141739,97.466652,97.1959,97.701309,97.890854,98.233818,98.035255,97.024391,96.221123,96.047989,95.948265,96.229294,95.91201,96.564728,96.773224,96.555664,97.888275,94.325562,92.449036,94.144249,95.830421,97.14489,97.335266,96.610054,97.199295,97.153961,98.66787,99.075821,99.900795,99.846397,100.326851,100.218071,100.499092,100.299667,100.834534,100.435646,100.916107,100.653206,100.761978,100.644127,100.771057,101.006767,100.870773,100.109276,100.480965,100.598846,101.432838,101.369385,101.46003,101.160866,101.668541,101.568802,101.940506,101.360313,101.487236,101.804512,101.659462,101.686661,101.958626,101.387512,101.324066,101.115547,101.668541,101.505348,101.215286,101.269661,101.786392,102.076492,102.212456,101.94957,99.411255,100.798248,99.22139,99.230492,100.250771,99.849968,99.995712,99.950172,101.097961,101.835846,101.252815,100.45118,101.025093,101.617203,100.624268,101.416817,101.107063,100.651604,101.043289,101.07975,100.697159,101.243713,99.895515,100.013908,99.658646,99.631325,99.348938,99.931938,100.250771,100.059479,100.023041,100.524063,100.095901,99.795311,99.458252,99.130302,99.194054,98.4562,97.772987,97.344826,97.281059,99.430916,99.859077,101.097961,101.453239,101.489677,101.753853,102.546402,102.400642,102.919891,102.728592,103.502892,103.803505,103.949272,104.35009,103.748863,103.894615,103.648666,103.220505,103.220505,103.94014,104.468521,105.762047,106.144669,106.718559,106.445267,107.06472,106.099106,106.536346,106.372414,106.673019,107.128609,106.826111,106.551094,106.716118,106.981949,106.092781,106.101959,105.707802,106.51442,107.330246,107.119431,107.45858,107.046089,107.128609,107.467758,107.183594,107.449425,106.972763,107.220261,106.798599,107.165253,106.881096,107.715256,108.64106,108.485214,108.311066,107.577744,107.669418,107.660233,107.733566,108.549393,108.292725,108.283577,108.40274,109.117737,109.576042,110.126045,110.529366,111.134323,111.033516,111.198524,111.85849,111.711838,111.629333,111.81266,112.060158,111.647659,113.15097,112.426819,112.518471,112.078499,111.720985,111.409348,111.464333,111.867661,111.950157,111.546829,112.555145,112.417641,112.353493,112.087646,110.52018,110.66684,110.630188,110.641258,110.512337,111.285789,111.488358,111.902718,111.709335,111.433113,111.488358,111.037178,111.387085,111.304199,111.442322,111.405487,110.834595,110.079559,111.037178,110.79776,110.705696,111.617264,111.258163,112.43676,113.136559,113.164177,113.274673,112.897156,113.191795,113.191795,112.915573,112.998444,113.560127,113.385185,113.348335,113.596962,113.265457,113.044472,113.652206,113.587738,111.543602,111.875099,112.676163,113.274673,113.468048,113.7995,114.278305,114.259903,114.07576,114.038925,115.097824,115.475342,115.328018,115.033379,115.162277,115.364853,115.272774,115.254364,115.825241,115.6595,115.401688,115.328018,116.267235,115.475342,115.341225,115.387466,115.67424,115.757492,114.80471,115.886971,114.961983,115.119217,115.396713,115.526222,114.388443,115.183975,115.267227,115.239471,116.062729,116.247742,116.765755,116.765755,116.839767,117.515015,117.589012,117.43177,117.441032,117.829536,117.746277,117.542755,117.348541,117.283783,117.524269,117.413284,117.145012,117.394775,117.626038,117.302292,117.172768,115.452217,115.664955,116.848999,116.738007,116.95076,115.091461,114.897224,115.063721,116.219978,115.868484,115.683487,115.960976,116.007225,116.053474,116.664009,117.459526,117.727768,116.821243,117.145012,117.089508,117.006264,118.26429,118.71756,118.773071,118.736061,118.958069,119.244835,119.300323,119.49456,119.161568,119.257256,119.062157,119.090027,119.740349,119.935432,120.325607,120.957344,121.198875,121.319649,121.960678,121.877075,121.635529,121.923523,122.090736,121.942101,122.035004,122.118607,122.174347,122.332268,122.360153,123.01976,122.499504,122.713173,122.072159,122.230103,123.224113,122.685303,122.93615,123.038338,123.066216,123.391357,123.623604,123.409943,123.614288,123.112679,123.131241,123.196259,122.973297,122.341576,123.456383,123.224113,123.540001,124.394669,124.301804,124.589783,124.459702,125.695305,125.695305,126.661491,126.410652,126.243431,125.704597,125.630264,126.13195,126.791542,127.088837,127.22818,127.246765,126.652191,127.785606,128.668106,128.147873,128.138596,128.430847,128.38414,128.281448,128.32814,128.60817,128.132065,129.037643,129.7845,130.279297,131.044785,131.343536,131.586319,131.38089,132.491837,133.266708,132.678528,133.901505,133.668106,134.358948,135.423218,135.759308,135.628632,135.684601,137.103638,136.207413,134.788406,134.835083,134.779083,131.91301,126.722397,128.794891,128.225449,123.613617,125.312706,126.983803,127.385239,129.168335,130.746078,130.802078,130.017868,129.411041,129.495071,131.502289,132.883926,131.212814,129.765808,128.225449,129.05629,130.512711,130.98877,131.1008,131.595642,133.780167,133.705429,132.874573,132.202423,132.02507,132.249115,130.549973,130.746078,130.634033,127.433876,124.762444,128.052536,125.784134,125.493538,127.218292,124.321877,125.8685,127.283913,128.174393,125.484161,125.906021,127.949463,127.358887,128.389999,128.024445,129.093018,130.452179,130.630249,129.917862,128.886826,128.839935,127.293297,127.433876,128.643082,128.727448,127.79007,127.986931,127.246414,126.899612,128.539993,129.102402,129.149261,130.367798,131.502029,131.764481,131.830093,131.033325,131.670776,131.708237,131.417664,132.401917,131.914459,132.261292,132.0457,131.792603,130.489685,132.17691,131.267685,132.636246,133.254883,133.451736,134.632797,134.435959,134.895233,135.092133,135.373306,134.867142,135.25145,135.120239,134.970306,134.520279,134.829697,133.901627,134.092743,132.210083,132.511337,131.278168,132.097137,132.191254,132.511337,132.17244,133.292618,134.412796,135.63652,135.984818,135.015259,136.126038,136.21077,135.994263,136.61554,136.916748,136.58728,136.342545,136.559036,136.860291,138.027527,137.80159,136.700226,135.805969,136.577881,136.417816,137.227402,137.688644,138.309937,138.761749,138.62999,138.535828,137.669815,137.142654,138.046356,136.954376,138.027527,138.535828,138.799408,139.317154,139.364212,139.091217,139.957245,140.964447,141.049179,141.792816,141.209244,141.265732,141.068024,140.60675,140.183167,139.863129,140.164337,140.634995,140.644409,141.350433,141.463409,140.569122,141.322189,141.341003,142.432938,142.291779,141.774048,141.6987,141.152756,141.482208,141.542725,141.760284,141.552185,141.741379,140.540176,139.632172,139.528137,139.282211,134.846298,131.970993,133.711334,133.115448,136.047516,136.009659,134.042358,133.692413,133.16272,132.377701,128.263351,130.675217,128.414688,127.705345,129.701004,131.053528,132.538483,131.999374,132.642517,133.3992,136.123184,135.858337,134.467972,131.885864,131.696686,130.731934,132.207443,132.491211,130.192841,127.87558,128.499802,127.809334,129.795624,129.95639,132.983032,132.737122,133.692413,135.253006,130.835999,130.675217,127.591805,127.733696,127.705345,128.433594,128.12149,125.908257,123.222107,123.18428,121.292633,119.334778,116.79995,113.880157,119.360115,120.435173,120.282951,121.424599,121.519745,118.703667,122.632874,123.869652,125.144501,125.734352,126.352768,126.38131,125.582138,126.952141,127.313667,128.341125,130.006027,128.226974,128.360153,128.626572,129.834808,128.883423,128.702682,130.643494,131.794647,131.984924,132.926804,133.478592,133.345383,132.080078,132.213242,132.489136,134.144562,134.563202,134.325333,135.799973,136.066345,136.351791,135.885605,136.779892,136.97966,136.722809,136.77037,136.484955,137.398254,136.76088,136.503998,135.466934,134.410995,134.135056,136.104401,136.561066,137.43634,137.322159,137.959579,138.473328,138.444778,137.873962,139.491302,136.580109,136.486343,137.538513,136.907211,137.509827,138.418549,140.025467,140.015945,140.350693,140.647217,141.355042,141.479431,140.628113,141.278534,141.268982,142.215927,142.10112,142.139404,141.613342,141.823776,141.862015,143.287247,143.095947,142.856812,143.631577,143.842026,143.851578,142.780289,142.541153,144.081131,143.622025,141.144608,140.915039,140.465469,141.115936,137.548096,138.79158,139.614212,140.876801,139.882019,138.887222,140.245483,139.738541,137.959366,138.294205,137.079376,136.141998,136.409821,134.573288,134.305466,137.318542,138.370697,139.145477,140.408081,141.192444,141.058548,140.867233,141.51767,141.211578,141.314316,142.860046,143.349686,144.664978,144.684174,143.877716,142.51442,142.24559,143.100082,144.098526,145.116211,145.45224,146.546738,146.460358,145.67308,145.932297,146.527542,146.729187,147.478027,147.381989,147.007584,146.037918,146.575546,145.740265,146.085922,147.065186,147.967667,147.180389,148.246109,147.890839,147.746841,146.133911,144.780212,143.608887,139.346176,141.160706,141.314316,144.002533,142.97525,141.208694,143.224869,139.086914,139.346176,141.458313,143.138474,142.043961,143.24408,143.119278,139.509354,140.92067,140.267822,141.266281,143.138474,143.090454,142.15918,143.676071,145.596283,145.625061,145.711487,145.855484,147.046005,147.48761,147.343628,147.044647,147.401505,147.382187,147.285736,146.639542,146.716705,145.356796,146.273026,145.829376,144.961349,145.636459,143.736465,141.402405,142.550125,144.411591,143.84256,141.518158,142.820206,143.736465,145.279633,145.144608,146.572021,146.301987,146.784225,146.195877,147.150711,146.707062,147.006027,147.411148,147.99942,148.896423,148.867493,149.224365,148.703522,150.294922,150.844666,150.709641,150.642105,151.153305,151.577667,151.278702,151.539078,151.606613,151.76091,152.918289,153.005112,153.053329,152.571091,152.185287,152.522873,153.969574,154.297501,155.030533,154.336105,152.937592,152.030975,153.01474,153.236603,154.596497,154.104614,153.969574,154.336105,155.599533,155.599533,156.73764,156.795532,156.863022,157.547821,158.357986,158.454422,158.489334,159.255386,159.10994,158.246902,158.663864,159.982681,158.964493,159.507553,159.129349,159.914795,160.91362,160.448151,161.543915,161.456619,161.854218,163.240906,163.648178,163.299088,163.396072,163.580322,162.028748,159.594788,161.136612,161.029984,161.417847,158.56691,159.963287,162.484528,164.084549,164.540298,163.599701,164.802139,165.257889,166.295486,166.2276,166.499146,166.111252,166.95491,166.450653,164.743973,159.323273,154.455368,153.60199,146.872208,145.883087,151.924393,148.00679,153.921997,148.792236,146.028549,134.304749,140.96669,133.829605,120.816109,131.812592,116.811203,122.668259,115.599083,116.452415,111.700851,108.520203,118.818512,120.457321,127.770142,123.696655,127.448563,125.626213,119.827774,122.322556,120.237068,128.647217,128.793427,133.315231,135.809998,134.192291,138.265808,135.02063,135.654068,139.493713,137.232834,132.974152,135.975677,135.995163,138.022186,140.468246,140.029709,143.996017,142.124924,138.197586,138.723846,140.010223,139.240356,141.062714,143.71344,143.73291,140.672913,137.846771,139.328049,140.166122,144.814636,143.274887,145.925598,145.048538,145.457825,147.484848,149.81395,149.29747,149.794464,150.807968,151.948135,154.316299,153.828995,157.775818,159.9198,158.457993,157.278809,148.001328,150.047852,151.655807,154.569641,153.819229,153.945938,153.078629,154.140854,154.745041,150.544846,152.365707,148.821884,151.004959,153.237,154.127853,154.744583,157.18222,155.586487,156.859161,155.889984,157.564026,155.860626,157.906631,159.864563,159.149933,159.756897,160.980591,161.440704,162.282593,160.510696,159.26741,160.63797,159.463181,161.577759,161.215546,162.037872,163.447586,164.093674,165.288025,166.090775,166.227829,166.687943,165.346741,167.559219,167.431946,167.382996,168.097641,168.352173,167.696289,168.175964,168.596924,170.212204,170.779999,172.326782,172.737946,173.942032,173.550461,175.087448,177.427155,171.259705,169.801025,165.033508,168.264069,165.503387,165.562134,168.146591,169.105988,168.547974,167.157852,165.532776,163.535675,165.160782,161.176392,161.519012,164.118042,167.096436,166.162613,167.410995,168.806824,167.489639,170.507385,168.403824,171.342911,172.846878,174.301682,176.886902,175.953079,174.78331,174.842285,174.527756,172.030991,172.6306,172.040833,173.25972,173.829834,170.674484,169.986374,164.353928,165.907043,164.147507,165.857895,169.042755,172.728912,176.297134,176.208633,178.302399,178.007492,179.452484,177.68309,180.199554,182.401413,181.988556,180.06192,181.06456,180.111069,181.585526,184.396851,184.328049,184.976807,183.522003,185.851669,186.008926,186.382477,188.250137,188.043701,188.859573,187.001755,187.276978,186.942764,186.411942,188.967697,189.233093,190.717407,190.176758,189.626297,189.665604,189.98999,190.307816,191.511917,190.712463,191.225677,192.104095,189.370178,190.899994,192.61731,195.706528,196.654037,195.479538,196.17041,196.387558,196.200027,194.492554,196.269119,198.746414,198.598358,198.272659,198.835236,198.114746,193.357559,194.877487,191.46257,194.729446,197.522568,197.818649,200.325577,201.450699,203.256882,203.335831,203.246994,203.730621,204.786697,204.421494,203.997101,202.822617,203.286484,201.352005,201.322403,203.582581,198.262787,197.473221,202.546249,200.641388,197.749573,194.620865,198.134476,197.167252,200.226868,201.657974,204.293198,204.697845,206.128967,205.299881,206.079605,202.329117,202.585724,203.681259,201.361893,199.693909,201.171356,204.459045,203.498474,203.439072,204.67691,207.241653,209.657898,209.737122,209.558853,210.776901,212.054337,212.113754,212.707901,212.23259,214.490372,215.035004,213.62883,211.668121,214.193298,212.519745,215.094437,215.87674,215.77771,215.748001,216.569931,214.985519,215.361786,213.747681,213.708054,214.797363,216.619431,214.074448,212.35141,207.568451,209.855942,213.440674,212.985184,211.321533,210.707581,212.995087,212.876251,215.025101,214.430954,215.203354,215.599457,215.965851,216.054993,216.342163,215.381607,217.253189,217.431442,217.87706,217.263092,218.223633,218.867325,219.20401,218.629654,217.540359,217.332413,214.638916,217.599792,218.837616,218.748474,220.233475,221.057907,221.306229,221.316147,221.326096,222.527985,223.759674,223.272949,223.570938,221.68367,224.365585,224.991348,223.739807,223.431885,222.647171,220.898972,217.760162,221.524765,223.511353,223.700073,225.934982,226.391907,225.170151,225.517792,226.511093,225.170151,224.85228,226.461441,225.448257,227.057404,227.335526,227.246124,227.395111,227.842117,228.477814,228.606949,228.69635,226.997818,224.733093,224.56424,226.580627,228.775818,229.590317,230.24588,228.706284,231.169647,232.043747,231.606705,232.013947,232.798645,232.719193,231.715958,231.169647,230.365082,228.537415,229.05394,227.673248,229.550583,229.34198,227.504395,223.561005,223.541138,225.795929,228.547348,228.820374,228.322159,223.539291,223.688766,221.267426,224.316498,220.938599,223.001221,223.927887,226.080185,225.58197,223.957779,223.79837,224.814713,228.551331,229.906479,230.743484,232.427444,233.334198,233.971924,233.523529,234.958389,234.868713,233.264465,235.755539,236.064423,237.240204,237.97757,239.661545,240.568283,241.49498,241.893539,241.196045,238.824524,239.11351,240.887146,240.887146,241.923431,240.927002,241.305649,240.618103,239.462265,239.541962,240.349091,235.14772,237.359787,232.616776,229.338516,233.065155,230.364838,233.324249,238.31636,239.342682,237.060852,238.675079,236.502853,234.729218,238.346252,235.675827,234.59967,231.301483,235.835236,238.166901,239.811005,242.960007,242.460007,242.600006,242.210007,241.440002,242.970001,242.509995,237.25,237.190002,236.110001,235.699997,238.050003,238.419998,234.929993,235.020004,230.449997,228.029999,225.369995,220.910004,222.330002,219.220001,218.369995,216.75,222.089996,226.809998,228.539993,230.050003,224.580002,226.070007,225.5,227.570007,231.270004,227.350006,222.940002,222.119995,226.070007,226.279999,221.139999,219.369995,216.850006,212.860001,216.589996,221.410004,219.509995],\"marker\":{},\"line\":{}}];",
"",
"            var layout = {\"width\":600,\"height\":600,\"template\":{\"layout\":{\"title\":{\"x\":0.05},\"font\":{\"color\":\"rgba(42, 63, 95, 1.0)\"},\"paper_bgcolor\":\"rgba(255, 255, 255, 1.0)\",\"plot_bgcolor\":\"rgba(229, 236, 246, 1.0)\",\"autotypenumbers\":\"strict\",\"colorscale\":{\"diverging\":[[0.0,\"#8e0152\"],[0.1,\"#c51b7d\"],[0.2,\"#de77ae\"],[0.3,\"#f1b6da\"],[0.4,\"#fde0ef\"],[0.5,\"#f7f7f7\"],[0.6,\"#e6f5d0\"],[0.7,\"#b8e186\"],[0.8,\"#7fbc41\"],[0.9,\"#4d9221\"],[1.0,\"#276419\"]],\"sequential\":[[0.0,\"#0d0887\"],[0.1111111111111111,\"#46039f\"],[0.2222222222222222,\"#7201a8\"],[0.3333333333333333,\"#9c179e\"],[0.4444444444444444,\"#bd3786\"],[0.5555555555555556,\"#d8576b\"],[0.6666666666666666,\"#ed7953\"],[0.7777777777777778,\"#fb9f3a\"],[0.8888888888888888,\"#fdca26\"],[1.0,\"#f0f921\"]],\"sequentialminus\":[[0.0,\"#0d0887\"],[0.1111111111111111,\"#46039f\"],[0.2222222222222222,\"#7201a8\"],[0.3333333333333333,\"#9c179e\"],[0.4444444444444444,\"#bd3786\"],[0.5555555555555556,\"#d8576b\"],[0.6666666666666666,\"#ed7953\"],[0.7777777777777778,\"#fb9f3a\"],[0.8888888888888888,\"#fdca26\"],[1.0,\"#f0f921\"]]},\"hovermode\":\"closest\",\"hoverlabel\":{\"align\":\"left\"},\"coloraxis\":{\"colorbar\":{\"outlinewidth\":0.0,\"ticks\":\"\"}},\"geo\":{\"showland\":true,\"landcolor\":\"rgba(229, 236, 246, 1.0)\",\"showlakes\":true,\"lakecolor\":\"rgba(255, 255, 255, 1.0)\",\"subunitcolor\":\"rgba(255, 255, 255, 1.0)\",\"bgcolor\":\"rgba(255, 255, 255, 1.0)\"},\"mapbox\":{\"style\":\"light\"},\"polar\":{\"bgcolor\":\"rgba(229, 236, 246, 1.0)\",\"radialaxis\":{\"linecolor\":\"rgba(255, 255, 255, 1.0)\",\"gridcolor\":\"rgba(255, 255, 255, 1.0)\",\"ticks\":\"\"},\"angularaxis\":{\"linecolor\":\"rgba(255, 255, 255, 1.0)\",\"gridcolor\":\"rgba(255, 255, 255, 1.0)\",\"ticks\":\"\"}},\"scene\":{\"xaxis\":{\"ticks\":\"\",\"linecolor\":\"rgba(255, 255, 255, 1.0)\",\"gridcolor\":\"rgba(255, 255, 255, 1.0)\",\"gridwidth\":2.0,\"zerolinecolor\":\"rgba(255, 255, 255, 1.0)\",\"backgroundcolor\":\"rgba(229, 236, 246, 1.0)\",\"showbackground\":true},\"yaxis\":{\"ticks\":\"\",\"linecolor\":\"rgba(255, 255, 255, 1.0)\",\"gridcolor\":\"rgba(255, 255, 255, 1.0)\",\"gridwidth\":2.0,\"zerolinecolor\":\"rgba(255, 255, 255, 1.0)\",\"backgroundcolor\":\"rgba(229, 236, 246, 1.0)\",\"showbackground\":true},\"zaxis\":{\"ticks\":\"\",\"linecolor\":\"rgba(255, 255, 255, 1.0)\",\"gridcolor\":\"rgba(255, 255, 255, 1.0)\",\"gridwidth\":2.0,\"zerolinecolor\":\"rgba(255, 255, 255, 1.0)\",\"backgroundcolor\":\"rgba(229, 236, 246, 1.0)\",\"showbackground\":true}},\"ternary\":{\"aaxis\":{\"ticks\":\"\",\"linecolor\":\"rgba(255, 255, 255, 1.0)\",\"gridcolor\":\"rgba(255, 255, 255, 1.0)\"},\"baxis\":{\"ticks\":\"\",\"linecolor\":\"rgba(255, 255, 255, 1.0)\",\"gridcolor\":\"rgba(255, 255, 255, 1.0)\"},\"caxis\":{\"ticks\":\"\",\"linecolor\":\"rgba(255, 255, 255, 1.0)\",\"gridcolor\":\"rgba(255, 255, 255, 1.0)\"},\"bgcolor\":\"rgba(229, 236, 246, 1.0)\"},\"xaxis\":{\"title\":{\"standoff\":15},\"ticks\":\"\",\"automargin\":true,\"linecolor\":\"rgba(255, 255, 255, 1.0)\",\"gridcolor\":\"rgba(255, 255, 255, 1.0)\",\"zerolinecolor\":\"rgba(255, 255, 255, 1.0)\",\"zerolinewidth\":2.0},\"yaxis\":{\"title\":{\"standoff\":15},\"ticks\":\"\",\"automargin\":true,\"linecolor\":\"rgba(255, 255, 255, 1.0)\",\"gridcolor\":\"rgba(255, 255, 255, 1.0)\",\"zerolinecolor\":\"rgba(255, 255, 255, 1.0)\",\"zerolinewidth\":2.0},\"annotationdefaults\":{\"arrowcolor\":\"#2a3f5f\",\"arrowhead\":0,\"arrowwidth\":1},\"shapedefaults\":{\"line\":{\"color\":\"rgba(42, 63, 95, 1.0)\"}},\"colorway\":[\"rgba(99, 110, 250, 1.0)\",\"rgba(239, 85, 59, 1.0)\",\"rgba(0, 204, 150, 1.0)\",\"rgba(171, 99, 250, 1.0)\",\"rgba(255, 161, 90, 1.0)\",\"rgba(25, 211, 243, 1.0)\",\"rgba(255, 102, 146, 1.0)\",\"rgba(182, 232, 128, 1.0)\",\"rgba(255, 151, 255, 1.0)\",\"rgba(254, 203, 82, 1.0)\"]},\"data\":{\"bar\":[{\"marker\":{\"line\":{\"color\":\"rgba(229, 236, 246, 1.0)\",\"width\":0.5},\"pattern\":{\"fillmode\":\"overlay\",\"size\":10,\"solidity\":0.2}},\"error_x\":{\"color\":\"rgba(42, 63, 95, 1.0)\"},\"error_y\":{\"color\":\"rgba(42, 63, 95, 1.0)\"}}],\"barpolar\":[{\"marker\":{\"line\":{\"color\":\"rgba(229, 236, 246, 1.0)\",\"width\":0.5},\"pattern\":{\"fillmode\":\"overlay\",\"size\":10,\"solidity\":0.2}}}],\"carpet\":[{\"aaxis\":{\"linecolor\":\"rgba(255, 255, 255, 1.0)\",\"gridcolor\":\"rgba(255, 255, 255, 1.0)\",\"endlinecolor\":\"rgba(42, 63, 95, 1.0)\",\"minorgridcolor\":\"rgba(255, 255, 255, 1.0)\",\"startlinecolor\":\"rgba(42, 63, 95, 1.0)\"},\"baxis\":{\"linecolor\":\"rgba(255, 255, 255, 1.0)\",\"gridcolor\":\"rgba(255, 255, 255, 1.0)\",\"endlinecolor\":\"rgba(42, 63, 95, 1.0)\",\"minorgridcolor\":\"rgba(255, 255, 255, 1.0)\",\"startlinecolor\":\"rgba(42, 63, 95, 1.0)\"}}],\"choropleth\":[{\"colorbar\":{\"outlinewidth\":0.0,\"ticks\":\"\"},\"colorscale\":[[0.0,\"#0d0887\"],[0.1111111111111111,\"#46039f\"],[0.2222222222222222,\"#7201a8\"],[0.3333333333333333,\"#9c179e\"],[0.4444444444444444,\"#bd3786\"],[0.5555555555555556,\"#d8576b\"],[0.6666666666666666,\"#ed7953\"],[0.7777777777777778,\"#fb9f3a\"],[0.8888888888888888,\"#fdca26\"],[1.0,\"#f0f921\"]]}],\"contour\":[{\"colorbar\":{\"outlinewidth\":0.0,\"ticks\":\"\"},\"colorscale\":[[0.0,\"#0d0887\"],[0.1111111111111111,\"#46039f\"],[0.2222222222222222,\"#7201a8\"],[0.3333333333333333,\"#9c179e\"],[0.4444444444444444,\"#bd3786\"],[0.5555555555555556,\"#d8576b\"],[0.6666666666666666,\"#ed7953\"],[0.7777777777777778,\"#fb9f3a\"],[0.8888888888888888,\"#fdca26\"],[1.0,\"#f0f921\"]]}],\"contourcarpet\":[{\"colorbar\":{\"outlinewidth\":0.0,\"ticks\":\"\"}}],\"heatmap\":[{\"colorbar\":{\"outlinewidth\":0.0,\"ticks\":\"\"},\"colorscale\":[[0.0,\"#0d0887\"],[0.1111111111111111,\"#46039f\"],[0.2222222222222222,\"#7201a8\"],[0.3333333333333333,\"#9c179e\"],[0.4444444444444444,\"#bd3786\"],[0.5555555555555556,\"#d8576b\"],[0.6666666666666666,\"#ed7953\"],[0.7777777777777778,\"#fb9f3a\"],[0.8888888888888888,\"#fdca26\"],[1.0,\"#f0f921\"]]}],\"heatmapgl\":[{\"colorbar\":{\"outlinewidth\":0.0,\"ticks\":\"\"},\"colorscale\":[[0.0,\"#0d0887\"],[0.1111111111111111,\"#46039f\"],[0.2222222222222222,\"#7201a8\"],[0.3333333333333333,\"#9c179e\"],[0.4444444444444444,\"#bd3786\"],[0.5555555555555556,\"#d8576b\"],[0.6666666666666666,\"#ed7953\"],[0.7777777777777778,\"#fb9f3a\"],[0.8888888888888888,\"#fdca26\"],[1.0,\"#f0f921\"]]}],\"histogram\":[{\"marker\":{\"pattern\":{\"fillmode\":\"overlay\",\"size\":10,\"solidity\":0.2}}}],\"histogram2d\":[{\"colorbar\":{\"outlinewidth\":0.0,\"ticks\":\"\"},\"colorscale\":[[0.0,\"#0d0887\"],[0.1111111111111111,\"#46039f\"],[0.2222222222222222,\"#7201a8\"],[0.3333333333333333,\"#9c179e\"],[0.4444444444444444,\"#bd3786\"],[0.5555555555555556,\"#d8576b\"],[0.6666666666666666,\"#ed7953\"],[0.7777777777777778,\"#fb9f3a\"],[0.8888888888888888,\"#fdca26\"],[1.0,\"#f0f921\"]]}],\"histogram2dcontour\":[{\"colorbar\":{\"outlinewidth\":0.0,\"ticks\":\"\"},\"colorscale\":[[0.0,\"#0d0887\"],[0.1111111111111111,\"#46039f\"],[0.2222222222222222,\"#7201a8\"],[0.3333333333333333,\"#9c179e\"],[0.4444444444444444,\"#bd3786\"],[0.5555555555555556,\"#d8576b\"],[0.6666666666666666,\"#ed7953\"],[0.7777777777777778,\"#fb9f3a\"],[0.8888888888888888,\"#fdca26\"],[1.0,\"#f0f921\"]]}],\"mesh3d\":[{\"colorbar\":{\"outlinewidth\":0.0,\"ticks\":\"\"}}],\"parcoords\":[{\"line\":{\"colorbar\":{\"outlinewidth\":0.0,\"ticks\":\"\"}}}],\"pie\":[{\"automargin\":true}],\"scatter\":[{\"marker\":{\"colorbar\":{\"outlinewidth\":0.0,\"ticks\":\"\"}}}],\"scatter3d\":[{\"marker\":{\"colorbar\":{\"outlinewidth\":0.0,\"ticks\":\"\"}},\"line\":{\"colorbar\":{\"outlinewidth\":0.0,\"ticks\":\"\"}}}],\"scattercarpet\":[{\"marker\":{\"colorbar\":{\"outlinewidth\":0.0,\"ticks\":\"\"}}}],\"scattergeo\":[{\"marker\":{\"colorbar\":{\"outlinewidth\":0.0,\"ticks\":\"\"}}}],\"scattergl\":[{\"marker\":{\"colorbar\":{\"outlinewidth\":0.0,\"ticks\":\"\"}}}],\"scattermapbox\":[{\"marker\":{\"colorbar\":{\"outlinewidth\":0.0,\"ticks\":\"\"}}}],\"scatterpolar\":[{\"marker\":{\"colorbar\":{\"outlinewidth\":0.0,\"ticks\":\"\"}}}],\"scatterpolargl\":[{\"marker\":{\"colorbar\":{\"outlinewidth\":0.0,\"ticks\":\"\"}}}],\"scatterternary\":[{\"marker\":{\"colorbar\":{\"outlinewidth\":0.0,\"ticks\":\"\"}}}],\"surface\":[{\"colorbar\":{\"outlinewidth\":0.0,\"ticks\":\"\"},\"colorscale\":[[0.0,\"#0d0887\"],[0.1111111111111111,\"#46039f\"],[0.2222222222222222,\"#7201a8\"],[0.3333333333333333,\"#9c179e\"],[0.4444444444444444,\"#bd3786\"],[0.5555555555555556,\"#d8576b\"],[0.6666666666666666,\"#ed7953\"],[0.7777777777777778,\"#fb9f3a\"],[0.8888888888888888,\"#fdca26\"],[1.0,\"#f0f921\"]]}],\"table\":[{\"cells\":{\"fill\":{\"color\":\"rgba(235, 240, 248, 1.0)\"},\"line\":{\"color\":\"rgba(255, 255, 255, 1.0)\"}},\"header\":{\"fill\":{\"color\":\"rgba(200, 212, 227, 1.0)\"},\"line\":{\"color\":\"rgba(255, 255, 255, 1.0)\"}}}]}}};",
"",
"            var config = {\"responsive\":true};",
"",
"            Plotly.newPlot(\u0027fd05dc63-dd63-4ec2-a9c7-1c8ee1aee7a9\u0027, data, layout, config);",
"",
"});",
"",
"            };",
"",
"            if ((typeof(requirejs) !==  typeof(Function)) || (typeof(requirejs.config) !== typeof(Function))) {",
"",
"                var script = document.createElement(\"script\");",
"",
"                script.setAttribute(\"src\", \"https://cdnjs.cloudflare.com/ajax/libs/require.js/2.3.6/require.min.js\");",
"",
"                script.onload = function(){",
"",
"                    renderPlotly_fd05dc63dd634ec2a9c71c8ee1aee7a9();",
"",
"                };",
"",
"                document.getElementsByTagName(\"head\")[0].appendChild(script);",
"",
"            }",
"",
"            else {",
"",
"                renderPlotly_fd05dc63dd634ec2a9c71c8ee1aee7a9();",
"",
"            }",
"",
"\u003c/script\u003e",
"",
""]
        },
           "execution_count": null,
           "metadata": {},
           "output_type": "execute_result"
          }],
           "source": ["Chart.Line(vtiAdjPrices)\n"]
          }
,
          {
           "cell_type": "markdown",
           "metadata": {},
           
           "source": ["Ok, back to the main objective. We need to calculate returns.\n",
"We calculate returns from sequential days,\n",
"so we need to make sure that our data is sorted correctly\n",
"from the oldest to the newest data. We can do this with `List.Sort`.\n",
"\n"]
          }
,
          {
           "cell_type": "code",
           "metadata": {},
            "execution_count": 48, "outputs": [
          {
           "data": {
            "text/plain": ["[-1; 1; 2; 7; 10]"]
        },
           "execution_count": 48,
           "metadata": {},
           "output_type": "execute_result"
          }],
           "source": ["[1; 7; 10; 2; -1] |\u003e List.sort\n"]
          }
,
          {
           "cell_type": "markdown",
           "metadata": {},
           
           "source": ["Sort it by the date field.\n",
"\n"]
          }
,
          {
           "cell_type": "code",
           "metadata": {},
            "execution_count": 49, "outputs": [],
           "source": ["let sortedBnd = bnd |\u003e List.sortBy (fun x -\u003e x.Date)\n"]
          }
,
          {
           "cell_type": "markdown",
           "metadata": {},
           
           "source": ["The first three observations.\n",
"\n"]
          }
,
          {
           "cell_type": "code",
           "metadata": {},
            "execution_count": null, "outputs": [
          {
           "data": {
            "text/plain": ["[{ Symbol = \"BND\"",
"   Date = 1/4/2010 12:00:00 AM",
"   Open = 78.599998",
"   High = 78.730003",
"   Low = 78.540001",
"   Close = 78.68",
"   AdjustedClose = 56.119106",
"   Volume = 1098100.0 }; { Symbol = \"BND\"",
"                           Date = 1/5/2010 12:00:00 AM",
"                           Open = 78.889999",
"                           High = 79.0",
"                           Low = 78.790001",
"                           Close = 78.910004",
"                           AdjustedClose = 56.283184",
"                           Volume = 814600.0 }; { Symbol = \"BND\"",
"                                                  Date = 1/6/2010 12:00:00 AM",
"                                                  Open = 78.970001",
"                                                  High = 78.980003",
"                                                  Low = 78.699997",
"                                                  Close = 78.879997",
"                                                  AdjustedClose = 56.261765",
"                                                  Volume = 981300.0 }]"]
        },
           "execution_count": null,
           "metadata": {},
           "output_type": "execute_result"
          }],
           "source": ["sortedBnd[0..2]\n"]
          }
,
          {
           "cell_type": "markdown",
           "metadata": {},
           
           "source": ["The last 3 observations.\n",
"\n"]
          }
,
          {
           "cell_type": "code",
           "metadata": {},
            "execution_count": null, "outputs": [
          {
           "data": {
            "text/plain": ["[{ Symbol = \"BND\"",
"   Date = 2/24/2022 12:00:00 AM",
"   Open = 81.389999",
"   High = 81.480003",
"   Low = 81.150002",
"   Close = 81.25",
"   AdjustedClose = 81.25",
"   Volume = 8883500.0 }; { Symbol = \"BND\"",
"                           Date = 2/25/2022 12:00:00 AM",
"                           Open = 81.199997",
"                           High = 81.330002",
"                           Low = 81.139999",
"                           Close = 81.32",
"                           AdjustedClose = 81.32",
"                           Volume = 5923200.0 }; { Symbol = \"BND\"",
"                                                   Date = 2/28/2022 12:00:00 AM",
"                                                   Open = 81.660004",
"                                                   High = 81.760002",
"                                                   Low = 81.639999",
"                                                   Close = 81.760002",
"                                                   AdjustedClose = 81.760002",
"                                                   Volume = 497531.0 }]"]
        },
           "execution_count": null,
           "metadata": {},
           "output_type": "execute_result"
          }],
           "source": ["sortedBnd[(sortedBnd.Length-3)..]\n"]
          }
,
          {
           "cell_type": "markdown",
           "metadata": {},
           
           "source": ["Great, they are properly sorted. Now I want sequential pairs of data.\n",
"`List.pairwise` is good for this.\n",
"\n"]
          }
,
          {
           "cell_type": "code",
           "metadata": {},
            "execution_count": 52, "outputs": [
          {
           "data": {
            "text/plain": ["[(1, 2); (2, 3); (3, 4); (4, 5)]"]
        },
           "execution_count": 52,
           "metadata": {},
           "output_type": "execute_result"
          }],
           "source": ["[1 .. 5] |\u003e List.pairwise\n"]
          }
,
          {
           "cell_type": "code",
           "metadata": {},
            "execution_count": 53, "outputs": [],
           "source": ["let sequentialBnd = bnd |\u003e List.pairwise\n"]
          }
,
          {
           "cell_type": "code",
           "metadata": {},
            "execution_count": null, "outputs": [
          {
           "data": {
            "text/plain": ["({ Symbol = \"BND\"",
"   Date = 1/4/2010 12:00:00 AM",
"   Open = 78.599998",
"   High = 78.730003",
"   Low = 78.540001",
"   Close = 78.68",
"   AdjustedClose = 56.119106",
"   Volume = 1098100.0 }, { Symbol = \"BND\"",
"                           Date = 1/5/2010 12:00:00 AM",
"                           Open = 78.889999",
"                           High = 79.0",
"                           Low = 78.790001",
"                           Close = 78.910004",
"                           AdjustedClose = 56.283184",
"                           Volume = 814600.0 })"]
        },
           "execution_count": null,
           "metadata": {},
           "output_type": "execute_result"
          }],
           "source": ["sequentialBnd[0]\n"]
          }
,
          {
           "cell_type": "code",
           "metadata": {},
            "execution_count": null, "outputs": [
          {
           "data": {
            "text/plain": ["({ Symbol = \"BND\"",
"   Date = 1/5/2010 12:00:00 AM",
"   Open = 78.889999",
"   High = 79.0",
"   Low = 78.790001",
"   Close = 78.910004",
"   AdjustedClose = 56.283184",
"   Volume = 814600.0 }, { Symbol = \"BND\"",
"                          Date = 1/6/2010 12:00:00 AM",
"                          Open = 78.970001",
"                          High = 78.980003",
"                          Low = 78.699997",
"                          Close = 78.879997",
"                          AdjustedClose = 56.261765",
"                          Volume = 981300.0 })"]
        },
           "execution_count": null,
           "metadata": {},
           "output_type": "execute_result"
          }],
           "source": ["sequentialBnd[1]\n"]
          }
,
          {
           "cell_type": "markdown",
           "metadata": {},
           
           "source": ["Take the first pair to see how to calculate returns.\n",
"\n",
"Extract the first and second elements of the tuple using pattern matching.\n",
"\n"]
          }
,
          {
           "cell_type": "code",
           "metadata": {},
            "execution_count": null, "outputs": [
          {
           "data": {
            "text/plain": ["{ Symbol = \"BND\"",
"  Date = 1/4/2010 12:00:00 AM",
"  Open = 78.599998",
"  High = 78.730003",
"  Low = 78.540001",
"  Close = 78.68",
"  AdjustedClose = 56.119106",
"  Volume = 1098100.0 }"]
        },
           "execution_count": null,
           "metadata": {},
           "output_type": "execute_result"
          }],
           "source": ["let (bndA, bndB) = sequentialBnd[0]\n",
"bndA\n"]
          }
,
          {
           "cell_type": "code",
           "metadata": {},
            "execution_count": null, "outputs": [
          {
           "data": {
            "text/plain": ["{ Symbol = \"BND\"",
"  Date = 1/5/2010 12:00:00 AM",
"  Open = 78.889999",
"  High = 79.0",
"  Low = 78.790001",
"  Close = 78.910004",
"  AdjustedClose = 56.283184",
"  Volume = 814600.0 }"]
        },
           "execution_count": null,
           "metadata": {},
           "output_type": "execute_result"
          }],
           "source": ["bndB\n"]
          }
,
          {
           "cell_type": "markdown",
           "metadata": {},
           
           "source": ["Remember that with continuous compounding, $FV_T = PV_t \\times e^{r}$\n",
"where $FV$ is the future value, $PV$ is the present value, $r$ is return\n",
"between period $t$ and $T$.\n",
"\n",
"If we take the log of both sides of the equation, we get\n",
"\n",
"\\begin{equation}\n",
" log(FV) = log(PV) + r \\rightarrow log(FV) - log (PV) = r\n",
"\\end{equation}\n",
"\n",
"This $r$ is known as the log return.\n",
"So to find the log return between two periods we can take the\n",
"difference of the log prices (where the prices are adjusted for dividends).\n",
"\n"]
          }
,
          {
           "cell_type": "code",
           "metadata": {},
            "execution_count": 58, "outputs": [
          {
           "data": {
            "text/plain": ["No value returned by any evaluator"]
        },
           "execution_count": 58,
           "metadata": {},
           "output_type": "execute_result"
          }],
           "source": ["(log bndB.AdjustedClose) - (log bndA.AdjustedClose)\n"]
          }
,
          {
           "cell_type": "markdown",
           "metadata": {},
           
           "source": ["Putting it all together.\n",
"\n"]
          }
,
          {
           "cell_type": "code",
           "metadata": {},
            "execution_count": 59, "outputs": [
          {
           "data": {
            "text/plain": ["0.0001230179228"]
        },
           "execution_count": 59,
           "metadata": {},
           "output_type": "execute_result"
          }],
           "source": ["let bndReturn = \n",
"    bnd\n",
"    |\u003e List.sortBy (fun x -\u003e x.Date)\n",
"    |\u003e List.pairwise\n",
"    |\u003e List.map (fun (a, b) -\u003e (log b.AdjustedClose) - (log a.AdjustedClose))\n",
"\n",
"let vtiReturn =\n",
"    vti\n",
"    |\u003e List.sortBy (fun x -\u003e x.Date)\n",
"    |\u003e List.pairwise\n",
"    |\u003e List.map (fun (a, b) -\u003e (log b.AdjustedClose) - (log a.AdjustedClose))\n",
"\n",
"\n",
"let bndAvgReturn = bndReturn |\u003e List.average\n",
"bndAvgReturn\n"]
          }
,
          {
           "cell_type": "code",
           "metadata": {},
            "execution_count": 60, "outputs": [
          {
           "data": {
            "text/plain": ["0.000512489421"]
        },
           "execution_count": 60,
           "metadata": {},
           "output_type": "execute_result"
          }],
           "source": ["let vtiAvgReturn = vtiReturn |\u003e List.average\n",
"vtiAvgReturn\n"]
          }
,
          {
           "cell_type": "markdown",
           "metadata": {},
           
           "source": ["* Portfolio returns for different weights.\n",
"\n"]
          }
,
          {
           "cell_type": "code",
           "metadata": {},
            "execution_count": 61, "outputs": [
          {
           "data": {
            "text/plain": ["[(0.0, 0.000512489421); (0.2, 0.0004345951213); (0.4, 0.0003567008217);",
" (0.6, 0.0002788065221); (0.8, 0.0002009122225); (1.0, 0.0001230179228)]"]
        },
           "execution_count": 61,
           "metadata": {},
           "output_type": "execute_result"
          }],
           "source": ["let differentReturns =\n",
"  [ for w in [0.0 .. 0.2 .. 1.0] -\u003e w, w*bndAvgReturn + (1.0-w)*vtiAvgReturn ]\n",
"\n",
"differentReturns\n"]
          }
,
          {
           "cell_type": "code",
           "metadata": {},
            "execution_count": 62, "outputs": [],
           "source": ["Chart.Line(differentReturns)\n"]
          }
,
          {
           "cell_type": "markdown",
           "metadata": {},
           
           "source": ["## Portfolio Variance\n",
"\n",
"For a portfolio of $N$ assets, the portfolio variance $\\sigma_p^2$ is\n",
"\n",
"\\begin{equation}\n",
" \\sigma_p^2 = \\sum^N_{i=1} \\sum^N_{j=1} w_i w_j cov(r_i,r_j) = \\sum^N_{i=1} w^2_i\\sigma^2_i + 2\\sum_{j\u003ci} w_i w_j cov(r_i,r_j)\n",
"\\end{equation}\n",
"\n",
"where $i$ and $j$ index assets, $r_i$ is the return of asset $i$, $\\sigma^2_i$ is the variance of $r_i$,\n",
"and $cov(r_i,r_j)$ is the covariance between $r_i$ and $r_j$.\n",
"\n",
"For a portfolio of two assets $x$ and $y$ this simplifies to:\n",
"\n",
"\\begin{equation}\n",
" \\sigma^2_p = w_x^2 \\sigma^2_x + w_y^2 \\sigma^2_y + 2 w_x w_y cov(r_x,r_y).\n",
"\\end{equation}\n",
"\n",
"this.\n",
"For next time: Portfolio Variance and Leverage\n",
"\n",
"## Leverage\n",
"\n"]
          }
,
          {
           "cell_type": "code",
           "metadata": {},
            "execution_count": 63, "outputs": [],
           "source": ["#r \"nuget: FSharp.Stats\"\n",
"\n",
"open FSharp.Stats\n",
"open FSharp.Stats.Correlation\n",
"\n",
"\n",
"\n",
"\n",
"Seq.pearson bndReturn vtiReturn\n"]
          }],
            "metadata": {
            "kernelspec": {"display_name": ".NET (F#)", "language": "F#", "name": ".net-fsharp"},
            "langauge_info": {
        "file_extension": ".fs",
        "mimetype": "text/x-fsharp",
        "name": "C#",
        "pygments_lexer": "fsharp",
        "version": "4.5"
        }
        },
            "nbformat": 4,
            "nbformat_minor": 1
        }
        

